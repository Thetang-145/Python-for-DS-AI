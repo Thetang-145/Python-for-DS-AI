{
 "cells": [
  {
   "cell_type": "markdown",
   "id": "624d0cf1",
   "metadata": {},
   "source": [
    "# frequent"
   ]
  },
  {
   "cell_type": "markdown",
   "id": "ddb3c8bb",
   "metadata": {},
   "source": [
    "Load data:"
   ]
  },
  {
   "cell_type": "code",
   "execution_count": null,
   "id": "202f74f3",
   "metadata": {},
   "outputs": [],
   "source": [
    "import pandas as pd\n",
    "file_path = \"data/hotel_bookings.csv\"\n",
    "df = pd.read_csv(file_path)"
   ]
  },
  {
   "cell_type": "code",
   "execution_count": null,
   "id": "6efc3af8",
   "metadata": {},
   "outputs": [],
   "source": [
    "# check number of missing value\n",
    "df.isnull().sum()"
   ]
  },
  {
   "cell_type": "code",
   "execution_count": null,
   "id": "cd759701",
   "metadata": {},
   "outputs": [],
   "source": [
    "# show columns name\n",
    "df.columns"
   ]
  },
  {
   "cell_type": "code",
   "execution_count": null,
   "id": "2065b513",
   "metadata": {},
   "outputs": [],
   "source": [
    "# For change string in column\n",
    "df.columns = df.columns.str.replace(' ','')"
   ]
  },
  {
   "cell_type": "code",
   "execution_count": null,
   "id": "c69e060e",
   "metadata": {},
   "outputs": [],
   "source": [
    "# Masking\n",
    "df.loc[(df[\"col1\"] == \"value1\")  | (df['col1']=='value2'), \"col2\"]"
   ]
  },
  {
   "cell_type": "code",
   "execution_count": null,
   "id": "bdafe826",
   "metadata": {},
   "outputs": [],
   "source": []
  },
  {
   "cell_type": "code",
   "execution_count": null,
   "id": "de8f858a",
   "metadata": {},
   "outputs": [],
   "source": []
  }
 ],
 "metadata": {
  "kernelspec": {
   "display_name": "Python 3",
   "language": "python",
   "name": "python3"
  },
  "language_info": {
   "codemirror_mode": {
    "name": "ipython",
    "version": 3
   },
   "file_extension": ".py",
   "mimetype": "text/x-python",
   "name": "python",
   "nbconvert_exporter": "python",
   "pygments_lexer": "ipython3",
   "version": "3.8.10"
  }
 },
 "nbformat": 4,
 "nbformat_minor": 5
}
