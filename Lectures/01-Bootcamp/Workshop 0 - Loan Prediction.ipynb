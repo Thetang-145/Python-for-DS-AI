{
 "cells": [
  {
   "cell_type": "markdown",
   "id": "1cf816c1-a848-478c-b673-2a577793879b",
   "metadata": {},
   "source": [
    "# Programming for Data Science and Artificial Intelligence\n",
    "\n",
    "## Workshop 0 - Loan Prediction"
   ]
  },
  {
   "cell_type": "markdown",
   "id": "662fa646-ee9d-47a4-ab01-1fec185eeb22",
   "metadata": {},
   "source": [
    "In this workshop we will be working on a dataset called the Loan Prediction dataset.\n",
    "\n",
    "This dataset concern the data of loan application and the result whether if the loan was approved or not.\n",
    "\n",
    "We are given 2 set, the training set and the test set.\n",
    "\n",
    "The training set contains 614 samples and 13 features, 12 of which are the independent variables and the last feature `Loan_Status` is the dependent variable.\n",
    "\n",
    "The test set contains 367 samples with the same 12 features but without the `Loan_Status` columns. So it will be representing the unseen data that we will be implementing our model on.\n",
    "\n",
    "Our goal is to do analyze the data to understand this problem and create a classification model for predicting the `Loan_Status`\n",
    "\n",
    "The first thing to do is to clean the data, by filling in missing values and converting categorical data to real numbers. We will use the Python libraries pandas and sklearn to help with the data cleaning and preparation."
   ]
  },
  {
   "cell_type": "markdown",
   "id": "d74f00a8-b98e-4b21-81da-d5f82e6b1838",
   "metadata": {},
   "source": [
    "Our tasks will be divided into 2 parts\n",
    "\n",
    "1. Exploratory Data Analysis\n",
    "    * Load and view the Dataset\n",
    "    * Are there any null values ? How will you wrangle/handle them?\n",
    "    * Are there any outliers values ? How will you wrangle/handle them?\n",
    "    * Do you notice any patterns or anomalies in the data? Can you plot them?\n",
    "2. Statistical Analysis\n",
    "    * Training a machine learning model for Loan prediction"
   ]
  },
  {
   "cell_type": "markdown",
   "id": "08225d88-5f1f-4585-8457-aada4e1dde91",
   "metadata": {},
   "source": [
    "# 1) Exploratory Data Analysis\n",
    "\n",
    "* Load and view the dataset\n",
    "* Are there any null values or outliers? How will you wrangle/handle them?\n",
    "* Do you notice any patterns or anomalies in the data? Can you plot them?"
   ]
  },
  {
   "cell_type": "markdown",
   "id": "568b03c3-824a-46df-a919-a4cd48f1edc8",
   "metadata": {},
   "source": [
    "## 1.1) Load and view the Dataset"
   ]
  },
  {
   "cell_type": "code",
   "execution_count": 1,
   "id": "6fb44fd4-3bc2-42ba-a450-5288074f9dba",
   "metadata": {},
   "outputs": [],
   "source": [
    "# Import Pandas\n",
    "import pandas as pd\n",
    "\n",
    "\n",
    "# Import the 2 dataset from these paths\n",
    "train_data = pd.read_csv(\"data/train_LoanPrediction.csv\")\n",
    "test_data = pd.read_csv(\"data/test_LoanPrediction.csv\")\n",
    "\n",
    "\n",
    "\n"
   ]
  },
  {
   "cell_type": "code",
   "execution_count": 2,
   "id": "b6a85d15-028f-4ca3-97b4-5f9f10137923",
   "metadata": {},
   "outputs": [
    {
     "name": "stdout",
     "output_type": "stream",
     "text": [
      "Training data shape : (614, 13)\n",
      "Test data shape      : (367, 12)\n"
     ]
    }
   ],
   "source": [
    "# Check the shape of Training and Test set\n",
    "print(\"Training data shape :\",train_data.shape)\n",
    "print(\"Test data shape      :\",test_data.shape)\n"
   ]
  },
  {
   "cell_type": "code",
   "execution_count": 3,
   "id": "a4d489ec-b7fb-498d-9ee5-5cca3c8c9091",
   "metadata": {
    "scrolled": true
   },
   "outputs": [
    {
     "data": {
      "text/html": [
       "<div>\n",
       "<style scoped>\n",
       "    .dataframe tbody tr th:only-of-type {\n",
       "        vertical-align: middle;\n",
       "    }\n",
       "\n",
       "    .dataframe tbody tr th {\n",
       "        vertical-align: top;\n",
       "    }\n",
       "\n",
       "    .dataframe thead th {\n",
       "        text-align: right;\n",
       "    }\n",
       "</style>\n",
       "<table border=\"1\" class=\"dataframe\">\n",
       "  <thead>\n",
       "    <tr style=\"text-align: right;\">\n",
       "      <th></th>\n",
       "      <th>Loan_ID</th>\n",
       "      <th>Gender</th>\n",
       "      <th>Married</th>\n",
       "      <th>Dependents</th>\n",
       "      <th>Education</th>\n",
       "      <th>Self_Employed</th>\n",
       "      <th>ApplicantIncome</th>\n",
       "      <th>CoapplicantIncome</th>\n",
       "      <th>LoanAmount</th>\n",
       "      <th>Loan_Amount_Term</th>\n",
       "      <th>Credit_History</th>\n",
       "      <th>Property_Area</th>\n",
       "      <th>Loan_Status</th>\n",
       "    </tr>\n",
       "  </thead>\n",
       "  <tbody>\n",
       "    <tr>\n",
       "      <th>0</th>\n",
       "      <td>LP001002</td>\n",
       "      <td>Male</td>\n",
       "      <td>No</td>\n",
       "      <td>0</td>\n",
       "      <td>Graduate</td>\n",
       "      <td>No</td>\n",
       "      <td>5849</td>\n",
       "      <td>0.0</td>\n",
       "      <td>NaN</td>\n",
       "      <td>360.0</td>\n",
       "      <td>1.0</td>\n",
       "      <td>Urban</td>\n",
       "      <td>Y</td>\n",
       "    </tr>\n",
       "    <tr>\n",
       "      <th>1</th>\n",
       "      <td>LP001003</td>\n",
       "      <td>Male</td>\n",
       "      <td>Yes</td>\n",
       "      <td>1</td>\n",
       "      <td>Graduate</td>\n",
       "      <td>No</td>\n",
       "      <td>4583</td>\n",
       "      <td>1508.0</td>\n",
       "      <td>128.0</td>\n",
       "      <td>360.0</td>\n",
       "      <td>1.0</td>\n",
       "      <td>Rural</td>\n",
       "      <td>N</td>\n",
       "    </tr>\n",
       "    <tr>\n",
       "      <th>2</th>\n",
       "      <td>LP001005</td>\n",
       "      <td>Male</td>\n",
       "      <td>Yes</td>\n",
       "      <td>0</td>\n",
       "      <td>Graduate</td>\n",
       "      <td>Yes</td>\n",
       "      <td>3000</td>\n",
       "      <td>0.0</td>\n",
       "      <td>66.0</td>\n",
       "      <td>360.0</td>\n",
       "      <td>1.0</td>\n",
       "      <td>Urban</td>\n",
       "      <td>Y</td>\n",
       "    </tr>\n",
       "    <tr>\n",
       "      <th>3</th>\n",
       "      <td>LP001006</td>\n",
       "      <td>Male</td>\n",
       "      <td>Yes</td>\n",
       "      <td>0</td>\n",
       "      <td>Not Graduate</td>\n",
       "      <td>No</td>\n",
       "      <td>2583</td>\n",
       "      <td>2358.0</td>\n",
       "      <td>120.0</td>\n",
       "      <td>360.0</td>\n",
       "      <td>1.0</td>\n",
       "      <td>Urban</td>\n",
       "      <td>Y</td>\n",
       "    </tr>\n",
       "    <tr>\n",
       "      <th>4</th>\n",
       "      <td>LP001008</td>\n",
       "      <td>Male</td>\n",
       "      <td>No</td>\n",
       "      <td>0</td>\n",
       "      <td>Graduate</td>\n",
       "      <td>No</td>\n",
       "      <td>6000</td>\n",
       "      <td>0.0</td>\n",
       "      <td>141.0</td>\n",
       "      <td>360.0</td>\n",
       "      <td>1.0</td>\n",
       "      <td>Urban</td>\n",
       "      <td>Y</td>\n",
       "    </tr>\n",
       "  </tbody>\n",
       "</table>\n",
       "</div>"
      ],
      "text/plain": [
       "    Loan_ID Gender Married Dependents     Education Self_Employed  \\\n",
       "0  LP001002   Male      No          0      Graduate            No   \n",
       "1  LP001003   Male     Yes          1      Graduate            No   \n",
       "2  LP001005   Male     Yes          0      Graduate           Yes   \n",
       "3  LP001006   Male     Yes          0  Not Graduate            No   \n",
       "4  LP001008   Male      No          0      Graduate            No   \n",
       "\n",
       "   ApplicantIncome  CoapplicantIncome  LoanAmount  Loan_Amount_Term  \\\n",
       "0             5849                0.0         NaN             360.0   \n",
       "1             4583             1508.0       128.0             360.0   \n",
       "2             3000                0.0        66.0             360.0   \n",
       "3             2583             2358.0       120.0             360.0   \n",
       "4             6000                0.0       141.0             360.0   \n",
       "\n",
       "   Credit_History Property_Area Loan_Status  \n",
       "0             1.0         Urban           Y  \n",
       "1             1.0         Rural           N  \n",
       "2             1.0         Urban           Y  \n",
       "3             1.0         Urban           Y  \n",
       "4             1.0         Urban           Y  "
      ]
     },
     "execution_count": 3,
     "metadata": {},
     "output_type": "execute_result"
    }
   ],
   "source": [
    "# Let's see the \"head\" of the training set\n",
    "train_data.head()\n"
   ]
  },
  {
   "cell_type": "code",
   "execution_count": 4,
   "id": "53285d4a-a30c-46ee-95ba-4cbf83718994",
   "metadata": {},
   "outputs": [
    {
     "name": "stdout",
     "output_type": "stream",
     "text": [
      "<class 'pandas.core.frame.DataFrame'>\n",
      "RangeIndex: 614 entries, 0 to 613\n",
      "Data columns (total 13 columns):\n",
      " #   Column             Non-Null Count  Dtype  \n",
      "---  ------             --------------  -----  \n",
      " 0   Loan_ID            614 non-null    object \n",
      " 1   Gender             601 non-null    object \n",
      " 2   Married            611 non-null    object \n",
      " 3   Dependents         599 non-null    object \n",
      " 4   Education          614 non-null    object \n",
      " 5   Self_Employed      582 non-null    object \n",
      " 6   ApplicantIncome    614 non-null    int64  \n",
      " 7   CoapplicantIncome  614 non-null    float64\n",
      " 8   LoanAmount         592 non-null    float64\n",
      " 9   Loan_Amount_Term   600 non-null    float64\n",
      " 10  Credit_History     564 non-null    float64\n",
      " 11  Property_Area      614 non-null    object \n",
      " 12  Loan_Status        614 non-null    object \n",
      "dtypes: float64(4), int64(1), object(8)\n",
      "memory usage: 62.5+ KB\n"
     ]
    }
   ],
   "source": [
    "# Let's see the \"info\" of the training set\n",
    "# Notice that this will tell us the  Non-null counts and the dtypes of each colum\n",
    "train_data.info()\n"
   ]
  },
  {
   "cell_type": "markdown",
   "id": "2bc975a7-0c4a-43ec-bb07-a1198c918bae",
   "metadata": {},
   "source": [
    "## 1.2) Are there any null values? How will you handle them?"
   ]
  },
  {
   "cell_type": "code",
   "execution_count": 5,
   "id": "42da6434-4f3b-4574-ac99-6a91c03dd9cc",
   "metadata": {},
   "outputs": [
    {
     "name": "stdout",
     "output_type": "stream",
     "text": [
      "Missing values in Train data : \n",
      " Loan_ID               0\n",
      "Gender               13\n",
      "Married               3\n",
      "Dependents           15\n",
      "Education             0\n",
      "Self_Employed        32\n",
      "ApplicantIncome       0\n",
      "CoapplicantIncome     0\n",
      "LoanAmount           22\n",
      "Loan_Amount_Term     14\n",
      "Credit_History       50\n",
      "Property_Area         0\n",
      "Loan_Status           0\n",
      "dtype: int64\n",
      "==============================\n",
      "Missing values in Test  data : \n",
      " Loan_ID               0\n",
      "Gender               11\n",
      "Married               0\n",
      "Dependents           10\n",
      "Education             0\n",
      "Self_Employed        23\n",
      "ApplicantIncome       0\n",
      "CoapplicantIncome     0\n",
      "LoanAmount            5\n",
      "Loan_Amount_Term      6\n",
      "Credit_History       29\n",
      "Property_Area         0\n",
      "dtype: int64\n"
     ]
    }
   ],
   "source": [
    "# Let's check for missing values in the Training and Test set again with isnull()\n",
    "print(\"Missing values in Train data : \\n\",train_data.isnull().sum())\n",
    "print(\"==============================\")\n",
    "print(\"Missing values in Test  data : \\n\",test_data.isnull().sum())"
   ]
  },
  {
   "cell_type": "markdown",
   "id": "154d210a-3144-4236-bf63-20ee6af994cf",
   "metadata": {},
   "source": [
    "### Filling categorical values"
   ]
  },
  {
   "cell_type": "markdown",
   "id": "4735a221-1dd5-4795-88c5-7b6f9a31327e",
   "metadata": {},
   "source": [
    "\n",
    "Let's first focus on the `Married` column. We can see from the table above that the `Married` has 3 missing values in the training set and 0 missing values in the test set so let's fill the training set!\n",
    "\n",
    "We will use the distribution over the train dataset then fill in the missing values in approximately the same ratio with fillna()\n",
    "\n",
    "Here are the steps:\n",
    "\n",
    "   * Compute ratio of each category value in the training set\n",
    "   * Divide the missing values based on ratio\n",
    "   * Fill in the missing values according to the ratio\n",
    "   * Don't forget to print the values before and after filling the missing values for confirmation"
   ]
  },
  {
   "cell_type": "code",
   "execution_count": 6,
   "id": "f0f25038-2b51-4541-8fd6-d8d628220db4",
   "metadata": {},
   "outputs": [
    {
     "data": {
      "text/plain": [
       "Yes    398\n",
       "No     213\n",
       "Name: Married, dtype: int64"
      ]
     },
     "execution_count": 6,
     "metadata": {},
     "output_type": "execute_result"
    }
   ],
   "source": [
    "# Count the values in 'Married' columns.\n",
    "married = train_data['Married'].value_counts()\n",
    "married\n"
   ]
  },
  {
   "cell_type": "code",
   "execution_count": 7,
   "id": "5ed3f9cd-a4ba-4fdd-9c55-a832e175a5ec",
   "metadata": {},
   "outputs": [
    {
     "name": "stdout",
     "output_type": "stream",
     "text": [
      "Numner of unique elements in Married variable :  (2,)\n",
      "Ratio of Married to all     :  0.6513911620294599\n",
      "Ratio of Not Married to all :  0.3486088379705401\n"
     ]
    }
   ],
   "source": [
    "# Compute ratio of each category value in the training set\n",
    "ratio_married = married[0]/married.sum()\n",
    "ratio_not_married = married[1]/married.sum()\n",
    "\n",
    "print('Numner of unique elements in Married variable : ', married.shape)\n",
    "print('Ratio of Married to all     : ', ratio_married)\n",
    "print('Ratio of Not Married to all : ', ratio_not_married)"
   ]
  },
  {
   "cell_type": "code",
   "execution_count": 8,
   "id": "acfca37f-e8a7-4540-ac02-e638fe5131f3",
   "metadata": {},
   "outputs": [],
   "source": [
    "# Divide the missing values based on ratio\n",
    "yes_num_train = round(ratio_married * train_data['Married'].isnull().sum())\n",
    "no_num_train  = round(ratio_not_married * train_data['Married'].isnull().sum())"
   ]
  },
  {
   "cell_type": "code",
   "execution_count": 9,
   "id": "4aeeb8b7-5a64-42eb-90a5-091ee1c7a007",
   "metadata": {},
   "outputs": [
    {
     "name": "stdout",
     "output_type": "stream",
     "text": [
      "Yes    400\n",
      "No     214\n",
      "Name: Married, dtype: int64\n",
      "Missing values in Train data : \n",
      " Loan_ID               0\n",
      "Gender               13\n",
      "Married               0\n",
      "Dependents           15\n",
      "Education             0\n",
      "Self_Employed        32\n",
      "ApplicantIncome       0\n",
      "CoapplicantIncome     0\n",
      "LoanAmount           22\n",
      "Loan_Amount_Term     14\n",
      "Credit_History       50\n",
      "Property_Area         0\n",
      "Loan_Status           0\n",
      "dtype: int64\n",
      "==============================\n",
      "Missing values in Test  data : \n",
      " Loan_ID               0\n",
      "Gender               11\n",
      "Married               0\n",
      "Dependents           10\n",
      "Education             0\n",
      "Self_Employed        23\n",
      "ApplicantIncome       0\n",
      "CoapplicantIncome     0\n",
      "LoanAmount            5\n",
      "Loan_Amount_Term      6\n",
      "Credit_History       29\n",
      "Property_Area         0\n",
      "dtype: int64\n"
     ]
    }
   ],
   "source": [
    "# Fill in the missing values according to the ratio\n",
    "# Hint : use the parameter called 'limit' in fillna()\n",
    "train_data['Married'].fillna(\"Yes\", inplace = True, limit=yes_num_train)\n",
    "train_data['Married'].fillna(\"No\", inplace = True, limit=no_num_train)\n",
    "\n",
    "\n",
    "\n",
    "# Check if all missing data were filled\n",
    "print(train_data['Married'].value_counts())\n",
    "print(\"Missing values in Train data : \\n\",train_data.isnull().sum())\n",
    "print(\"==============================\")\n",
    "print(\"Missing values in Test  data : \\n\",test_data.isnull().sum())\n",
    "\n"
   ]
  },
  {
   "cell_type": "markdown",
   "id": "ba392983-a3d1-49da-9f7d-b011aa635a5a",
   "metadata": {},
   "source": [
    "Now the number of missing values in the `Married` attribute is 0. We have successfully filled the `Married` column!"
   ]
  },
  {
   "cell_type": "markdown",
   "id": "3098c548-ad2d-4108-a6c7-b363ef2f6724",
   "metadata": {},
   "source": [
    "But we still have to fill the following categorical columns :\n",
    "        \n",
    "        - Gender\n",
    "        - Dependents\n",
    "        - Self_Employed\n",
    "        - Loan_Amount_Term\n",
    "        - Credit_History\n",
    "        \n",
    "For some of them we need to fill in both the training and test set!\n",
    "\n",
    "So let's write a function that can calculate the ratio from the training data and fill the missing values accordingly.\n",
    "* Notice that we will use the distribution from the TRAINING set to fill in both the training and test set!"
   ]
  },
  {
   "cell_type": "code",
   "execution_count": 10,
   "id": "e9fe5e4c-bc6a-4e33-87e3-86cbafd474ba",
   "metadata": {},
   "outputs": [],
   "source": [
    "# Your function here\n",
    "def fill_data_with_ratio(train_data, fill_data_1, fill_data_2, column_name):\n",
    "    \n",
    "    count_column = train_data[column_name].value_counts()\n",
    "    value_list = list(count_column.index)\n",
    "    \n",
    "    limits_1 = []\n",
    "    limits_2 = []\n",
    "    \n",
    "    for value in value_list:\n",
    "        ratio = count_column[value] / sum(count_column.values)\n",
    "        limits_1.append(round(ratio * fill_data_1[column_name].isnull().sum()))\n",
    "        if any(fill_data_2):\n",
    "            limits_2.append(round(ratio * fill_data_2[column_name].isnull().sum()))\n",
    "    \n",
    "    for id_, limit in enumerate(limits_1):\n",
    "        if limit == 0 :\n",
    "            limit = 1\n",
    "        fill_data_1[column_name].fillna(value_list[id_], inplace = True, limit = limit)\n",
    "        \n",
    "    if any(fill_data_2):\n",
    "        for id_, limit in enumerate(limits_2):\n",
    "            if limit == 0 :\n",
    "                limit = 1\n",
    "            fill_data_2[column_name].fillna(value_list[id_], inplace = True, limit = limit)\n"
   ]
  },
  {
   "cell_type": "code",
   "execution_count": 11,
   "id": "b748ac87-8d60-499f-aee3-3a9edf4c02f8",
   "metadata": {},
   "outputs": [
    {
     "name": "stdout",
     "output_type": "stream",
     "text": [
      "========== BEFORE ==========\n",
      "Male      489\n",
      "Female    112\n",
      "Name: Gender, dtype: int64\n",
      "Male      286\n",
      "Female     70\n",
      "Name: Gender, dtype: int64\n",
      "========== AFTER ==========\n",
      "Male      500\n",
      "Female    114\n",
      "Name: Gender, dtype: int64\n",
      "Male      295\n",
      "Female     72\n",
      "Name: Gender, dtype: int64\n"
     ]
    }
   ],
   "source": [
    "# Let's use our function with the 'Gender' column !\n",
    "# This columm has missing values in both the training and test set.\n",
    "\n",
    "# Count the values of 'Gender' Before filling\n",
    "print(\"========== BEFORE ==========\")\n",
    "print(train_data['Gender'].value_counts())\n",
    "print(test_data['Gender'].value_counts())\n",
    "\n",
    "# fill the data with your function\n",
    "fill_data_with_ratio(train_data, train_data, test_data, 'Gender')\n",
    "\n",
    "\n",
    "# Count the values of 'Gender' after filling\n",
    "print(\"========== AFTER ==========\")\n",
    "print(train_data['Gender'].value_counts())\n",
    "print(test_data['Gender'].value_counts())\n"
   ]
  },
  {
   "cell_type": "markdown",
   "id": "7c3aa8ee-20e9-4e15-a270-505a02ca39f0",
   "metadata": {},
   "source": [
    "#### Repeat this step for all categorical columns"
   ]
  },
  {
   "cell_type": "code",
   "execution_count": 12,
   "id": "6023c214-17be-492f-bded-65961f66fabe",
   "metadata": {},
   "outputs": [
    {
     "name": "stdout",
     "output_type": "stream",
     "text": [
      "========== BEFORE ==========\n",
      "0     345\n",
      "1     102\n",
      "2     101\n",
      "3+     51\n",
      "Name: Dependents, dtype: int64\n",
      "0     200\n",
      "2      59\n",
      "1      58\n",
      "3+     40\n",
      "Name: Dependents, dtype: int64\n",
      "========== AFTER ==========\n",
      "0     354\n",
      "1     105\n",
      "2     104\n",
      "3+     51\n",
      "Name: Dependents, dtype: int64\n",
      "0     206\n",
      "2      61\n",
      "1      60\n",
      "3+     40\n",
      "Name: Dependents, dtype: int64\n"
     ]
    }
   ],
   "source": [
    "# Let's use our function to fill the 'Dependents' column !\n",
    "# This columm has missing values in both the training and test set.\n",
    "\n",
    "# Count the values of 'Dependents' Before filling\n",
    "print(\"========== BEFORE ==========\")\n",
    "print(train_data['Dependents'].value_counts())\n",
    "print(test_data['Dependents'].value_counts())\n",
    "\n",
    "\n",
    "# Use your function here\n",
    "fill_data_with_ratio(train_data, train_data, test_data, 'Dependents')\n",
    "\n",
    "\n",
    "# Count the values of 'Dependents' after filling\n",
    "print(\"========== AFTER ==========\")\n",
    "print(train_data['Dependents'].value_counts())\n",
    "print(test_data['Dependents'].value_counts())\n"
   ]
  },
  {
   "cell_type": "code",
   "execution_count": 13,
   "id": "338b68cf-f17c-41ad-badf-02945e184b27",
   "metadata": {},
   "outputs": [],
   "source": [
    "# Notice that we have value 0, 1, 2 ,3+\n",
    "# Let's convert category value \"3+\" to \"4\"\n",
    "# so that we can convert them to int and it will be easier for the model later\n",
    "\n",
    "\n",
    "# 'replace' value '3+' with '4'\n",
    "train_data['Dependents'].replace('3+', '4', inplace = True)\n",
    "test_data['Dependents'].replace('3+', '4', inplace = True)\n",
    "\n",
    "\n",
    "\n",
    "# Notice that the values are still of type string, we will fix this later!"
   ]
  },
  {
   "cell_type": "code",
   "execution_count": 14,
   "id": "f6349b54-71f0-426c-9051-4484dac75cc3",
   "metadata": {},
   "outputs": [
    {
     "name": "stdout",
     "output_type": "stream",
     "text": [
      "========== BEFORE ==========\n",
      "No     500\n",
      "Yes     82\n",
      "Name: Self_Employed, dtype: int64\n",
      "No     307\n",
      "Yes     37\n",
      "Name: Self_Employed, dtype: int64\n",
      "========== AFTER ==========\n",
      "No     527\n",
      "Yes     87\n",
      "Name: Self_Employed, dtype: int64\n",
      "No     327\n",
      "Yes     40\n",
      "Name: Self_Employed, dtype: int64\n"
     ]
    }
   ],
   "source": [
    "# Let's use our function with the 'Self_Employed' column !\n",
    "# This columm also has missing values in both the training and test set.\n",
    "\n",
    "# Count the values of 'Self_Employed' Before filling\n",
    "print(\"========== BEFORE ==========\")\n",
    "print(train_data['Self_Employed'].value_counts())\n",
    "print(test_data['Self_Employed'].value_counts())\n",
    "\n",
    "# use your function here\n",
    "fill_data_with_ratio(train_data, train_data, test_data, 'Self_Employed')\n",
    "\n",
    "# Count the values of 'Self_Employed' after filling\n",
    "print(\"========== AFTER ==========\")\n",
    "print(train_data['Self_Employed'].value_counts())\n",
    "print(test_data['Self_Employed'].value_counts())"
   ]
  },
  {
   "cell_type": "code",
   "execution_count": 15,
   "id": "197a1e17-6ed9-4137-8dfd-9c690952c154",
   "metadata": {},
   "outputs": [
    {
     "name": "stdout",
     "output_type": "stream",
     "text": [
      "========== BEFORE ==========\n",
      "360.0    512\n",
      "180.0     44\n",
      "480.0     15\n",
      "300.0     13\n",
      "84.0       4\n",
      "240.0      4\n",
      "120.0      3\n",
      "36.0       2\n",
      "60.0       2\n",
      "12.0       1\n",
      "Name: Loan_Amount_Term, dtype: int64\n",
      "360.0    311\n",
      "180.0     22\n",
      "480.0      8\n",
      "300.0      7\n",
      "240.0      4\n",
      "84.0       3\n",
      "350.0      1\n",
      "12.0       1\n",
      "36.0       1\n",
      "120.0      1\n",
      "60.0       1\n",
      "6.0        1\n",
      "Name: Loan_Amount_Term, dtype: int64\n",
      "========== AFTER ==========\n",
      "360.0    524\n",
      "180.0     45\n",
      "480.0     16\n",
      "300.0     13\n",
      "84.0       4\n",
      "240.0      4\n",
      "120.0      3\n",
      "36.0       2\n",
      "60.0       2\n",
      "12.0       1\n",
      "Name: Loan_Amount_Term, dtype: int64\n",
      "360.0    316\n",
      "180.0     23\n",
      "480.0      8\n",
      "300.0      7\n",
      "240.0      4\n",
      "84.0       3\n",
      "350.0      1\n",
      "12.0       1\n",
      "36.0       1\n",
      "120.0      1\n",
      "60.0       1\n",
      "6.0        1\n",
      "Name: Loan_Amount_Term, dtype: int64\n"
     ]
    }
   ],
   "source": [
    "# Let's use our function with the 'Loan_Amount_Term' column !\n",
    "# This columm also has missing values in both the training and test set.\n",
    "\n",
    "# Count the values of 'Loan_Amount_Term' Before filling\n",
    "print(\"========== BEFORE ==========\")\n",
    "print(train_data['Loan_Amount_Term'].value_counts())\n",
    "print(test_data['Loan_Amount_Term'].value_counts())\n",
    "\n",
    "# Use your function here\n",
    "fill_data_with_ratio(train_data, train_data, test_data, 'Loan_Amount_Term')\n",
    "\n",
    "# Count the values of 'Loan_Amount_Term' after filling\n",
    "print(\"========== AFTER ==========\")\n",
    "print(train_data['Loan_Amount_Term'].value_counts())\n",
    "print(test_data['Loan_Amount_Term'].value_counts())"
   ]
  },
  {
   "cell_type": "code",
   "execution_count": 16,
   "id": "7c17450c-ae5d-4969-a5ab-1fbab5dd7cf2",
   "metadata": {},
   "outputs": [
    {
     "name": "stdout",
     "output_type": "stream",
     "text": [
      "========== BEFORE ==========\n",
      "1.0    475\n",
      "0.0     89\n",
      "Name: Credit_History, dtype: int64\n",
      "1.0    279\n",
      "0.0     59\n",
      "Name: Credit_History, dtype: int64\n",
      "========== AFTER ==========\n",
      "1.0    517\n",
      "0.0     97\n",
      "Name: Credit_History, dtype: int64\n",
      "1.0    303\n",
      "0.0     64\n",
      "Name: Credit_History, dtype: int64\n"
     ]
    }
   ],
   "source": [
    "# Let's use our function with the 'Credit_History' column !\n",
    "# This columm also has missing values in both the training and test set.\n",
    "\n",
    "# Count the values of 'Credit_History' Before filling\n",
    "print(\"========== BEFORE ==========\")\n",
    "print(train_data['Credit_History'].value_counts())\n",
    "print(test_data['Credit_History'].value_counts())\n",
    "\n",
    "# use your function here\n",
    "fill_data_with_ratio(train_data, train_data, test_data, 'Credit_History')\n",
    "\n",
    "# Count the values of 'Credit_History' after filling\n",
    "print(\"========== AFTER ==========\")\n",
    "print(train_data['Credit_History'].value_counts())\n",
    "print(test_data['Credit_History'].value_counts())"
   ]
  },
  {
   "cell_type": "markdown",
   "id": "55aa6226-0816-429d-ac6f-56adda504618",
   "metadata": {},
   "source": [
    "### Filling Numerical Values\n",
    "Finally, `LoanAmount` still has some missing values.\n",
    "This column contains numeric attribute.\n",
    "We should check the distribution of the data before deciding how to fill them."
   ]
  },
  {
   "cell_type": "code",
   "execution_count": 17,
   "id": "9e70240b-e86b-481e-8598-cd658bc3a078",
   "metadata": {},
   "outputs": [
    {
     "data": {
      "text/plain": [
       "<Figure size 576x288 with 0 Axes>"
      ]
     },
     "metadata": {},
     "output_type": "display_data"
    },
    {
     "data": {
      "image/png": "[encoded data removed]",
      "text/plain": [
       "<Figure size 360x360 with 1 Axes>"
      ]
     },
     "metadata": {
      "needs_background": "light"
     },
     "output_type": "display_data"
    }
   ],
   "source": [
    "import matplotlib.pyplot as plt\n",
    "import seaborn as sns\n",
    "\n",
    "\n",
    "# plot a distribution plot to see the data distribution of 'LoanAmount'\n",
    "plt.figure(figsize=(8,4))\n",
    "sns.displot(train_data['LoanAmount'])\n",
    "plt.title('LoanAmount distribution', size=16)\n",
    "plt.ylabel('count');"
   ]
  },
  {
   "cell_type": "code",
   "execution_count": 18,
   "id": "c57671b2-4f31-4dc0-9b02-83479e5d87f6",
   "metadata": {},
   "outputs": [
    {
     "data": {
      "text/plain": [
       "<AxesSubplot:>"
      ]
     },
     "execution_count": 18,
     "metadata": {},
     "output_type": "execute_result"
    },
    {
     "data": {
      "image/png": "[encoded data removed]",
      "text/plain": [
       "<Figure size 216x288 with 1 Axes>"
      ]
     },
     "metadata": {
      "needs_background": "light"
     },
     "output_type": "display_data"
    }
   ],
   "source": [
    "# plot a box plot of LoanAmount\n",
    "train_data['LoanAmount'].plot(kind='box', figsize=(3,4), patch_artist=True)\n",
    "\n"
   ]
  },
  {
   "cell_type": "markdown",
   "id": "cedae6a4-6b5d-429c-a192-ba92e67e5829",
   "metadata": {},
   "source": [
    "There are some outliers so we will be using the median over the training set to fill the missing values to avoid effects of outliers on the center value."
   ]
  },
  {
   "cell_type": "code",
   "execution_count": 19,
   "id": "a88f5e46-c655-428a-a43e-d4b966e87f1e",
   "metadata": {},
   "outputs": [],
   "source": [
    "# Use the median of the Training set to fill both the training and test set.\n",
    "train_data['LoanAmount'].fillna((train_data['LoanAmount'].median()), inplace=True)\n",
    "test_data['LoanAmount'].fillna((train_data['LoanAmount'].median()), inplace=True)"
   ]
  },
  {
   "cell_type": "code",
   "execution_count": 20,
   "id": "7a47e732-b8c1-4e1b-ae9a-90e48cc3ade6",
   "metadata": {},
   "outputs": [
    {
     "name": "stdout",
     "output_type": "stream",
     "text": [
      "Missing values in Train data : \n",
      " Loan_ID              0\n",
      "Gender               0\n",
      "Married              0\n",
      "Dependents           0\n",
      "Education            0\n",
      "Self_Employed        0\n",
      "ApplicantIncome      0\n",
      "CoapplicantIncome    0\n",
      "LoanAmount           0\n",
      "Loan_Amount_Term     0\n",
      "Credit_History       0\n",
      "Property_Area        0\n",
      "Loan_Status          0\n",
      "dtype: int64\n",
      "==============================\n",
      "Missing values in Test data : \n",
      " Loan_ID              0\n",
      "Gender               0\n",
      "Married              0\n",
      "Dependents           0\n",
      "Education            0\n",
      "Self_Employed        0\n",
      "ApplicantIncome      0\n",
      "CoapplicantIncome    0\n",
      "LoanAmount           0\n",
      "Loan_Amount_Term     0\n",
      "Credit_History       0\n",
      "Property_Area        0\n",
      "dtype: int64\n"
     ]
    }
   ],
   "source": [
    "# check null values in every column again, there shoul be no missing data left now\n",
    "pd.set_option('display.unicode.ambiguous_as_wide', True)\n",
    "print('Missing values in Train data : \\n', train_data.isnull().sum() )\n",
    "print(\"=\"*30)\n",
    "print('Missing values in Test data : \\n', test_data.isnull().sum() )"
   ]
  },
  {
   "cell_type": "markdown",
   "id": "c0f33c49-b05c-4ed0-80c3-36351490535a",
   "metadata": {},
   "source": [
    "## 1.3) Are there any outlier ? How will you handle them?"
   ]
  },
  {
   "cell_type": "code",
   "execution_count": 21,
   "id": "dc4d0fc1-d941-439b-947e-2d506ff77998",
   "metadata": {},
   "outputs": [
    {
     "data": {
      "image/png": "[encoded data removed]",
      "text/plain": [
       "<Figure size 864x1008 with 16 Axes>"
      ]
     },
     "metadata": {
      "needs_background": "light"
     },
     "output_type": "display_data"
    }
   ],
   "source": [
    "# Check the outliers of all numerical columns \n",
    "\n",
    "#nothing\n",
    "#delete them -> but not good for science\n",
    "#    -> delete with IQR -> when you delete and find new IQR, you have to delete again\n",
    "#log transformation (especially when graph is right-skewed)\n",
    "#treat them as  missing values\n",
    "#replace with lowest quartile (min) or highest quartile (max)\n",
    "\n",
    "# Select all columns with numerical data to plot\n",
    "import numpy as np\n",
    "df_to_plot = train_data.drop(columns=['Loan_ID','Loan_Amount_Term','Credit_History']).select_dtypes(include=np.number)\n",
    "\n",
    "# make a subplot out of df_to_plot and plot the box plots\n",
    "df_to_plot.plot(subplots=True, layout=(4,4), kind='box', figsize=(12,14), patch_artist=True)\n",
    "plt.subplots_adjust(wspace=0.5);"
   ]
  },
  {
   "cell_type": "markdown",
   "id": "beb9a0e5-bc66-4083-9e29-e285feb5a174",
   "metadata": {},
   "source": [
    "#### Multiple features contain outliers, but the nothing indicate data entry errors."
   ]
  },
  {
   "cell_type": "markdown",
   "id": "514c5bee-592e-457a-91a7-05f7229c7170",
   "metadata": {},
   "source": [
    "## 1.4) Do you notice any patterns or anomalies in the data? Can you plot them?"
   ]
  },
  {
   "cell_type": "markdown",
   "id": "e9d3885b-0ed4-4dee-9823-7d66e1a9e500",
   "metadata": {},
   "source": [
    "### Distribution Plots for categorical data\n",
    "Let's do distribution plot to see how many people in each category applied for the loan."
   ]
  },
  {
   "cell_type": "code",
   "execution_count": 22,
   "id": "d24ab911-7186-4db1-9058-1f128f0ddcbb",
   "metadata": {},
   "outputs": [
    {
     "data": {
      "image/png": "[encoded data removed]",
      "text/plain": [
       "<Figure size 360x360 with 1 Axes>"
      ]
     },
     "metadata": {
      "needs_background": "light"
     },
     "output_type": "display_data"
    }
   ],
   "source": [
    "# import seaborn\n",
    "import seaborn as sns\n",
    "\n",
    "# plot a distplot of 'Gender'\n",
    "sns.displot(train_data['Gender'])\n",
    "plt.title('Gender', size=16)\n",
    "plt.ylabel('count');"
   ]
  },
  {
   "cell_type": "code",
   "execution_count": 23,
   "id": "50c5ffbe-89d1-41d7-a745-99a64f2695b0",
   "metadata": {},
   "outputs": [
    {
     "data": {
      "image/png": "[encoded data removed]",
      "text/plain": [
       "<Figure size 360x360 with 1 Axes>"
      ]
     },
     "metadata": {
      "needs_background": "light"
     },
     "output_type": "display_data"
    }
   ],
   "source": [
    "# plot a distplot of 'Married'\n",
    "sns.displot(train_data['Married'])\n",
    "plt.title('Married', size=16)\n",
    "plt.ylabel('count');"
   ]
  },
  {
   "cell_type": "code",
   "execution_count": 24,
   "id": "f008c4c8-40d0-4e4f-b3ee-d4ca2507fc81",
   "metadata": {},
   "outputs": [
    {
     "data": {
      "image/png": "[encoded data removed]",
      "text/plain": [
       "<Figure size 360x360 with 1 Axes>"
      ]
     },
     "metadata": {
      "needs_background": "light"
     },
     "output_type": "display_data"
    }
   ],
   "source": [
    "# plot a distplot of 'Dependents'\n",
    "sns.displot(train_data['Dependents'])\n",
    "plt.title('Dependents', size=16)\n",
    "plt.ylabel('count');"
   ]
  },
  {
   "cell_type": "code",
   "execution_count": 25,
   "id": "60cfea88-f875-4f61-9908-b40a9f2ee00e",
   "metadata": {},
   "outputs": [
    {
     "data": {
      "image/png": "[encoded data removed]",
      "text/plain": [
       "<Figure size 360x360 with 1 Axes>"
      ]
     },
     "metadata": {
      "needs_background": "light"
     },
     "output_type": "display_data"
    }
   ],
   "source": [
    "# plot a distplot of 'Education'\n",
    "sns.displot(train_data['Education'])\n",
    "plt.title('Education', size=16)\n",
    "plt.ylabel('count');"
   ]
  },
  {
   "cell_type": "code",
   "execution_count": 26,
   "id": "35f090cf-85b4-47ef-9be6-9db3c7d787a3",
   "metadata": {},
   "outputs": [
    {
     "data": {
      "image/png": "[encoded data removed]",
      "text/plain": [
       "<Figure size 360x360 with 1 Axes>"
      ]
     },
     "metadata": {
      "needs_background": "light"
     },
     "output_type": "display_data"
    }
   ],
   "source": [
    "# plot a distplot of 'Self_Employed'\n",
    "sns.displot(train_data['Self_Employed'])\n",
    "plt.title('Self_Employed', size=16)\n",
    "plt.ylabel('count');"
   ]
  },
  {
   "cell_type": "code",
   "execution_count": 27,
   "id": "96f47347-6678-437c-9aa7-96b967fc99c6",
   "metadata": {},
   "outputs": [
    {
     "data": {
      "image/png": "[encoded data removed]",
      "text/plain": [
       "<Figure size 360x360 with 1 Axes>"
      ]
     },
     "metadata": {
      "needs_background": "light"
     },
     "output_type": "display_data"
    }
   ],
   "source": [
    "# plot a distplot of 'Credit_History'\n",
    "sns.displot(train_data['Credit_History'])\n",
    "plt.title('Credit_History', size=16)\n",
    "plt.ylabel('count');"
   ]
  },
  {
   "cell_type": "code",
   "execution_count": 28,
   "id": "28c0424e-4753-4473-8f21-67705f111326",
   "metadata": {},
   "outputs": [
    {
     "data": {
      "image/png": "[encoded data removed]",
      "text/plain": [
       "<Figure size 360x360 with 1 Axes>"
      ]
     },
     "metadata": {
      "needs_background": "light"
     },
     "output_type": "display_data"
    }
   ],
   "source": [
    "# plot a distplot of 'Property_Area'\n",
    "sns.displot(train_data['Property_Area'])\n",
    "plt.title('Property_Area', size=16)\n",
    "plt.ylabel('count');\n",
    "\n"
   ]
  },
  {
   "cell_type": "markdown",
   "id": "97f70bad-da7a-4a9b-a2ca-2441cbf88bc2",
   "metadata": {},
   "source": [
    "### Distribution Plots for Numerical Data"
   ]
  },
  {
   "cell_type": "code",
   "execution_count": 29,
   "id": "1f9d2919-11ff-473a-942c-239ea87fa861",
   "metadata": {},
   "outputs": [
    {
     "data": {
      "image/png": "[encoded data removed]",
      "text/plain": [
       "<Figure size 360x360 with 1 Axes>"
      ]
     },
     "metadata": {
      "needs_background": "light"
     },
     "output_type": "display_data"
    }
   ],
   "source": [
    "# plot a distplot of 'ApplicantIncome'\n",
    "sns.displot(train_data['ApplicantIncome'])\n",
    "plt.title('ApplicantIncome', size=16)\n",
    "plt.ylabel('count');\n",
    "\n"
   ]
  },
  {
   "cell_type": "code",
   "execution_count": 30,
   "id": "d38e7c8c-b6c1-4baf-b8d7-61f98e84f1bd",
   "metadata": {},
   "outputs": [
    {
     "data": {
      "image/png": "[encoded data removed]",
      "text/plain": [
       "<Figure size 360x360 with 1 Axes>"
      ]
     },
     "metadata": {
      "needs_background": "light"
     },
     "output_type": "display_data"
    }
   ],
   "source": [
    "# plot a distplot of 'CoapplicantIncome'\n",
    "sns.displot(train_data['CoapplicantIncome'])\n",
    "plt.title('CoapplicantIncome', size=16)\n",
    "plt.ylabel('count');"
   ]
  },
  {
   "cell_type": "code",
   "execution_count": 31,
   "id": "7f688f64-fbcc-434d-be4d-d6e3ad5d2e06",
   "metadata": {},
   "outputs": [
    {
     "data": {
      "image/png": "[encoded data removed]",
      "text/plain": [
       "<Figure size 360x360 with 1 Axes>"
      ]
     },
     "metadata": {
      "needs_background": "light"
     },
     "output_type": "display_data"
    }
   ],
   "source": [
    "# plot a distplot of 'LoanAmount'\n",
    "sns.displot(train_data['LoanAmount'])\n",
    "plt.title('LoanAmount', size=16)\n",
    "plt.ylabel('count');"
   ]
  },
  {
   "cell_type": "markdown",
   "id": "9dea13c7-5d4a-49f9-9144-301714d4677f",
   "metadata": {},
   "source": [
    "### Regression Model between 2 features"
   ]
  },
  {
   "cell_type": "markdown",
   "id": "eed18413-6e2d-45f2-98d4-f066dcf40839",
   "metadata": {},
   "source": [
    "We can also try plotting the data and regression model between the `ApplicantIncome` and `LoanAmount`\n",
    "\n",
    "Hint : use sns.implot"
   ]
  },
  {
   "cell_type": "code",
   "execution_count": 32,
   "id": "01849ec5-919c-4901-bfeb-d895c3035718",
   "metadata": {},
   "outputs": [
    {
     "data": {
      "text/plain": [
       "<seaborn.axisgrid.FacetGrid at 0x21b65242af0>"
      ]
     },
     "execution_count": 32,
     "metadata": {},
     "output_type": "execute_result"
    },
    {
     "data": {
      "image/png": "[encoded data removed]",
      "text/plain": [
       "<Figure size 360x360 with 1 Axes>"
      ]
     },
     "metadata": {
      "needs_background": "light"
     },
     "output_type": "display_data"
    }
   ],
   "source": [
    "# plot the data and regression model between the 'ApplicantIncome' and 'LoanAmount'\n",
    "sns.lmplot(x=\"ApplicantIncome\", y=\"LoanAmount\", data=train_data[train_data['ApplicantIncome'] < 10000])\n",
    "\n"
   ]
  },
  {
   "cell_type": "code",
   "execution_count": 33,
   "id": "813ceff5-9c72-431c-9c41-3df78f81024a",
   "metadata": {},
   "outputs": [
    {
     "data": {
      "text/plain": [
       "<seaborn.axisgrid.FacetGrid at 0x21b656765b0>"
      ]
     },
     "execution_count": 33,
     "metadata": {},
     "output_type": "execute_result"
    },
    {
     "data": {
      "image/png": "[encoded data removed]",
      "text/plain": [
       "<Figure size 360x360 with 1 Axes>"
      ]
     },
     "metadata": {
      "needs_background": "light"
     },
     "output_type": "display_data"
    }
   ],
   "source": [
    "# Let's do the same for `CoapplicantIncome` and `LoanAmount`\n",
    "sns.lmplot(x='CoapplicantIncome', y='LoanAmount', data=train_data[train_data['CoapplicantIncome'] < 10000])\n",
    "\n"
   ]
  },
  {
   "cell_type": "markdown",
   "id": "e4b1903f-3e45-47cf-bedb-77f596475d28",
   "metadata": {},
   "source": [
    "### Box Plots"
   ]
  },
  {
   "cell_type": "markdown",
   "id": "5b33a18f-57e0-4084-ab06-053f18c82ec3",
   "metadata": {},
   "source": [
    "Let's plot some box plots to see the relationships between some of the attributes with `LoanAmount`"
   ]
  },
  {
   "cell_type": "code",
   "execution_count": 34,
   "id": "ca8be4f5",
   "metadata": {},
   "outputs": [],
   "source": [
    "train_data['LoanAmount_log'] = np.log2(train_data['LoanAmount'])"
   ]
  },
  {
   "cell_type": "code",
   "execution_count": 35,
   "id": "a17be676-6e3c-41e8-aae2-75a7639fbde7",
   "metadata": {},
   "outputs": [
    {
     "data": {
      "text/plain": [
       "<AxesSubplot:xlabel='Dependents', ylabel='LoanAmount'>"
      ]
     },
     "execution_count": 35,
     "metadata": {},
     "output_type": "execute_result"
    },
    {
     "data": {
      "image/png": "[encoded data removed]",
      "text/plain": [
       "<Figure size 432x288 with 1 Axes>"
      ]
     },
     "metadata": {
      "needs_background": "light"
     },
     "output_type": "display_data"
    }
   ],
   "source": [
    "# Make a boxplot with x as 'Dependents' and y as 'LoanAmount'\n",
    "sns.boxplot(x = 'Dependents', y = 'LoanAmount', data=train_data)"
   ]
  },
  {
   "cell_type": "code",
   "execution_count": 36,
   "id": "a8f82e4d-4c15-4ec8-a891-ea1848e6c6b3",
   "metadata": {},
   "outputs": [
    {
     "data": {
      "text/plain": [
       "<AxesSubplot:xlabel='Education', ylabel='LoanAmount'>"
      ]
     },
     "execution_count": 36,
     "metadata": {},
     "output_type": "execute_result"
    },
    {
     "data": {
      "image/png": "[encoded data removed]",
      "text/plain": [
       "<Figure size 432x288 with 1 Axes>"
      ]
     },
     "metadata": {
      "needs_background": "light"
     },
     "output_type": "display_data"
    }
   ],
   "source": [
    "# Make a boxplot with x as 'Education' and y as 'LoanAmount'\n",
    "sns.boxplot(x = 'Education', y = 'LoanAmount', data=train_data)"
   ]
  },
  {
   "cell_type": "code",
   "execution_count": 37,
   "id": "5b47aa68-a1ab-4180-906c-53600dc4b926",
   "metadata": {},
   "outputs": [
    {
     "data": {
      "text/plain": [
       "<AxesSubplot:xlabel='Property_Area', ylabel='LoanAmount'>"
      ]
     },
     "execution_count": 37,
     "metadata": {},
     "output_type": "execute_result"
    },
    {
     "data": {
      "image/png": "[encoded data removed]",
      "text/plain": [
       "<Figure size 432x288 with 1 Axes>"
      ]
     },
     "metadata": {
      "needs_background": "light"
     },
     "output_type": "display_data"
    }
   ],
   "source": [
    "# Make a boxplot with x as 'Property_Area' and y as 'LoanAmount'\n",
    "\n",
    "sns.boxplot(x = 'Property_Area', y = 'LoanAmount', data=train_data)"
   ]
  },
  {
   "cell_type": "code",
   "execution_count": 38,
   "id": "f9784a8b-4f1b-475c-a4dc-a99dc7f076dc",
   "metadata": {},
   "outputs": [
    {
     "data": {
      "text/plain": [
       "<AxesSubplot:xlabel='Married', ylabel='LoanAmount'>"
      ]
     },
     "execution_count": 38,
     "metadata": {},
     "output_type": "execute_result"
    },
    {
     "data": {
      "image/png": "[encoded data removed]",
      "text/plain": [
       "<Figure size 432x288 with 1 Axes>"
      ]
     },
     "metadata": {
      "needs_background": "light"
     },
     "output_type": "display_data"
    }
   ],
   "source": [
    "# Make a boxplot with x as 'Married' and y as 'LoanAmount'\n",
    "sns.boxplot(x = 'Married', y = 'LoanAmount', data=train_data)"
   ]
  },
  {
   "cell_type": "code",
   "execution_count": 39,
   "id": "0801f4c7-5848-4034-b3b1-eaf671333a09",
   "metadata": {},
   "outputs": [
    {
     "data": {
      "text/plain": [
       "<AxesSubplot:xlabel='Self_Employed', ylabel='LoanAmount'>"
      ]
     },
     "execution_count": 39,
     "metadata": {},
     "output_type": "execute_result"
    },
    {
     "data": {
      "image/png": "[encoded data removed]",
      "text/plain": [
       "<Figure size 432x288 with 1 Axes>"
      ]
     },
     "metadata": {
      "needs_background": "light"
     },
     "output_type": "display_data"
    }
   ],
   "source": [
    "# Make a boxplot with x as 'Self_Employed' and y as 'LoanAmount'\n",
    "sns.boxplot(x = 'Self_Employed', y = 'LoanAmount', data=train_data)"
   ]
  },
  {
   "cell_type": "markdown",
   "id": "882e7301-01d5-4bff-9d9b-6210fab0dea1",
   "metadata": {},
   "source": [
    "# 2) Statistical Analysis\n",
    "In this workshop we will only do one type of statistical analysis\n",
    "   * Training a machine learning model for Loan prediction"
   ]
  },
  {
   "cell_type": "markdown",
   "id": "e1416a1c-853d-415b-8aac-edaf422618a6",
   "metadata": {},
   "source": [
    "We will train the model to decide if we should approve or reject the loan.\n",
    "\n",
    "The independent variables or X will be:\n",
    "    \n",
    "    - Gender\n",
    "    - Married\n",
    "    - Dependents\n",
    "    - Education\n",
    "    - Self_Employed\n",
    "    - ApplicantIncome\n",
    "    - CoapplicantIncome\n",
    "    - LoanAmount\n",
    "    - Loan_Amount_Term\n",
    "    - Credit_History\n",
    "    - Property_Area\n",
    "    \n",
    "These will be used to predict the dependent variable or y which is `Loan_status`"
   ]
  },
  {
   "cell_type": "markdown",
   "id": "27223933-14d7-4dc1-ab02-8f72f3006dc9",
   "metadata": {},
   "source": [
    "### Preparing Data for the model"
   ]
  },
  {
   "cell_type": "markdown",
   "id": "6314f8cd-d73a-4725-a29e-b7230912434f",
   "metadata": {},
   "source": [
    "First, we will convert all values to type int or float so that the model can process them, as we can see here that some columns still have `object` as dtype."
   ]
  },
  {
   "cell_type": "code",
   "execution_count": 43,
   "id": "b7f032f1",
   "metadata": {},
   "outputs": [
    {
     "name": "stdout",
     "output_type": "stream",
     "text": [
      "<class 'pandas.core.frame.DataFrame'>\n",
      "RangeIndex: 614 entries, 0 to 613\n",
      "Data columns (total 14 columns):\n",
      " #   Column             Non-Null Count  Dtype  \n",
      "---  ------             --------------  -----  \n",
      " 0   Loan_ID            614 non-null    object \n",
      " 1   Gender             614 non-null    object \n",
      " 2   Married            614 non-null    object \n",
      " 3   Dependents         614 non-null    object \n",
      " 4   Education          614 non-null    object \n",
      " 5   Self_Employed      614 non-null    object \n",
      " 6   ApplicantIncome    614 non-null    int64  \n",
      " 7   CoapplicantIncome  614 non-null    float64\n",
      " 8   LoanAmount         614 non-null    float64\n",
      " 9   Loan_Amount_Term   614 non-null    float64\n",
      " 10  Credit_History     614 non-null    float64\n",
      " 11  Property_Area      614 non-null    object \n",
      " 12  Loan_Status        614 non-null    object \n",
      " 13  LoanAmount_log     614 non-null    float64\n",
      "dtypes: float64(5), int64(1), object(8)\n",
      "memory usage: 67.3+ KB\n",
      "None\n",
      "==============================\n",
      "<class 'pandas.core.frame.DataFrame'>\n",
      "RangeIndex: 367 entries, 0 to 366\n",
      "Data columns (total 12 columns):\n",
      " #   Column             Non-Null Count  Dtype  \n",
      "---  ------             --------------  -----  \n",
      " 0   Loan_ID            367 non-null    object \n",
      " 1   Gender             367 non-null    object \n",
      " 2   Married            367 non-null    object \n",
      " 3   Dependents         367 non-null    object \n",
      " 4   Education          367 non-null    object \n",
      " 5   Self_Employed      367 non-null    object \n",
      " 6   ApplicantIncome    367 non-null    int64  \n",
      " 7   CoapplicantIncome  367 non-null    int64  \n",
      " 8   LoanAmount         367 non-null    float64\n",
      " 9   Loan_Amount_Term   367 non-null    float64\n",
      " 10  Credit_History     367 non-null    float64\n",
      " 11  Property_Area      367 non-null    object \n",
      "dtypes: float64(3), int64(2), object(7)\n",
      "memory usage: 34.5+ KB\n",
      "None\n"
     ]
    }
   ],
   "source": [
    "print(train_data.info())\n",
    "print(\"=\"*30)\n",
    "print(test_data.info())"
   ]
  },
  {
   "cell_type": "code",
   "execution_count": 39,
   "id": "94b38120-51e8-45a5-bc6d-0c2c18de8506",
   "metadata": {},
   "outputs": [
    {
     "name": "stdout",
     "output_type": "stream",
     "text": [
      "<class 'pandas.core.frame.DataFrame'>\n",
      "RangeIndex: 614 entries, 0 to 613\n",
      "Data columns (total 13 columns):\n",
      " #   Column             Non-Null Count  Dtype  \n",
      "---  ------             --------------  -----  \n",
      " 0   Loan_ID            614 non-null    object \n",
      " 1   Gender             614 non-null    object \n",
      " 2   Married            614 non-null    object \n",
      " 3   Dependents         614 non-null    object \n",
      " 4   Education          614 non-null    object \n",
      " 5   Self_Employed      614 non-null    object \n",
      " 6   ApplicantIncome    614 non-null    int64  \n",
      " 7   CoapplicantIncome  614 non-null    float64\n",
      " 8   LoanAmount         614 non-null    float64\n",
      " 9   Loan_Amount_Term   614 non-null    float64\n",
      " 10  Credit_History     614 non-null    float64\n",
      " 11  Property_Area      614 non-null    object \n",
      " 12  Loan_Status        614 non-null    object \n",
      "dtypes: float64(4), int64(1), object(8)\n",
      "memory usage: 62.5+ KB\n",
      "None\n",
      "==================================================\n",
      "<class 'pandas.core.frame.DataFrame'>\n",
      "RangeIndex: 367 entries, 0 to 366\n",
      "Data columns (total 12 columns):\n",
      " #   Column             Non-Null Count  Dtype  \n",
      "---  ------             --------------  -----  \n",
      " 0   Loan_ID            367 non-null    object \n",
      " 1   Gender             367 non-null    object \n",
      " 2   Married            367 non-null    object \n",
      " 3   Dependents         367 non-null    object \n",
      " 4   Education          367 non-null    object \n",
      " 5   Self_Employed      367 non-null    object \n",
      " 6   ApplicantIncome    367 non-null    int64  \n",
      " 7   CoapplicantIncome  367 non-null    int64  \n",
      " 8   LoanAmount         367 non-null    float64\n",
      " 9   Loan_Amount_Term   367 non-null    float64\n",
      " 10  Credit_History     367 non-null    float64\n",
      " 11  Property_Area      367 non-null    object \n",
      "dtypes: float64(3), int64(2), object(7)\n",
      "memory usage: 34.5+ KB\n",
      "None\n"
     ]
    }
   ],
   "source": [
    "# see 'info' of training and test set\n",
    "\n",
    "\n"
   ]
  },
  {
   "cell_type": "code",
   "execution_count": 40,
   "id": "8f17f1da-cb0e-446c-839b-f355ded833ab",
   "metadata": {},
   "outputs": [
    {
     "data": {
      "text/html": [
       "<div>\n",
       "<style scoped>\n",
       "    .dataframe tbody tr th:only-of-type {\n",
       "        vertical-align: middle;\n",
       "    }\n",
       "\n",
       "    .dataframe tbody tr th {\n",
       "        vertical-align: top;\n",
       "    }\n",
       "\n",
       "    .dataframe thead th {\n",
       "        text-align: right;\n",
       "    }\n",
       "</style>\n",
       "<table border=\"1\" class=\"dataframe\">\n",
       "  <thead>\n",
       "    <tr style=\"text-align: right;\">\n",
       "      <th></th>\n",
       "      <th>Gender</th>\n",
       "      <th>Married</th>\n",
       "      <th>Dependents</th>\n",
       "      <th>Education</th>\n",
       "      <th>Self_Employed</th>\n",
       "      <th>ApplicantIncome</th>\n",
       "      <th>CoapplicantIncome</th>\n",
       "      <th>LoanAmount</th>\n",
       "      <th>Loan_Amount_Term</th>\n",
       "      <th>Credit_History</th>\n",
       "      <th>Property_Area</th>\n",
       "      <th>Loan_Status</th>\n",
       "    </tr>\n",
       "  </thead>\n",
       "  <tbody>\n",
       "    <tr>\n",
       "      <th>0</th>\n",
       "      <td>Male</td>\n",
       "      <td>No</td>\n",
       "      <td>0</td>\n",
       "      <td>Graduate</td>\n",
       "      <td>No</td>\n",
       "      <td>5849</td>\n",
       "      <td>0.0</td>\n",
       "      <td>128.0</td>\n",
       "      <td>360.0</td>\n",
       "      <td>1.0</td>\n",
       "      <td>Urban</td>\n",
       "      <td>Y</td>\n",
       "    </tr>\n",
       "    <tr>\n",
       "      <th>1</th>\n",
       "      <td>Male</td>\n",
       "      <td>Yes</td>\n",
       "      <td>1</td>\n",
       "      <td>Graduate</td>\n",
       "      <td>No</td>\n",
       "      <td>4583</td>\n",
       "      <td>1508.0</td>\n",
       "      <td>128.0</td>\n",
       "      <td>360.0</td>\n",
       "      <td>1.0</td>\n",
       "      <td>Rural</td>\n",
       "      <td>N</td>\n",
       "    </tr>\n",
       "    <tr>\n",
       "      <th>2</th>\n",
       "      <td>Male</td>\n",
       "      <td>Yes</td>\n",
       "      <td>0</td>\n",
       "      <td>Graduate</td>\n",
       "      <td>Yes</td>\n",
       "      <td>3000</td>\n",
       "      <td>0.0</td>\n",
       "      <td>66.0</td>\n",
       "      <td>360.0</td>\n",
       "      <td>1.0</td>\n",
       "      <td>Urban</td>\n",
       "      <td>Y</td>\n",
       "    </tr>\n",
       "    <tr>\n",
       "      <th>3</th>\n",
       "      <td>Male</td>\n",
       "      <td>Yes</td>\n",
       "      <td>0</td>\n",
       "      <td>Not Graduate</td>\n",
       "      <td>No</td>\n",
       "      <td>2583</td>\n",
       "      <td>2358.0</td>\n",
       "      <td>120.0</td>\n",
       "      <td>360.0</td>\n",
       "      <td>1.0</td>\n",
       "      <td>Urban</td>\n",
       "      <td>Y</td>\n",
       "    </tr>\n",
       "    <tr>\n",
       "      <th>4</th>\n",
       "      <td>Male</td>\n",
       "      <td>No</td>\n",
       "      <td>0</td>\n",
       "      <td>Graduate</td>\n",
       "      <td>No</td>\n",
       "      <td>6000</td>\n",
       "      <td>0.0</td>\n",
       "      <td>141.0</td>\n",
       "      <td>360.0</td>\n",
       "      <td>1.0</td>\n",
       "      <td>Urban</td>\n",
       "      <td>Y</td>\n",
       "    </tr>\n",
       "  </tbody>\n",
       "</table>\n",
       "</div>"
      ],
      "text/plain": [
       "  Gender Married Dependents     Education Self_Employed  ApplicantIncome  \\\n",
       "0   Male      No          0      Graduate            No             5849   \n",
       "1   Male     Yes          1      Graduate            No             4583   \n",
       "2   Male     Yes          0      Graduate           Yes             3000   \n",
       "3   Male     Yes          0  Not Graduate            No             2583   \n",
       "4   Male      No          0      Graduate            No             6000   \n",
       "\n",
       "   CoapplicantIncome  LoanAmount  Loan_Amount_Term  Credit_History  \\\n",
       "0                0.0       128.0             360.0             1.0   \n",
       "1             1508.0       128.0             360.0             1.0   \n",
       "2                0.0        66.0             360.0             1.0   \n",
       "3             2358.0       120.0             360.0             1.0   \n",
       "4                0.0       141.0             360.0             1.0   \n",
       "\n",
       "  Property_Area Loan_Status  \n",
       "0         Urban           Y  \n",
       "1         Rural           N  \n",
       "2         Urban           Y  \n",
       "3         Urban           Y  \n",
       "4         Urban           Y  "
      ]
     },
     "execution_count": 40,
     "metadata": {},
     "output_type": "execute_result"
    }
   ],
   "source": [
    "# First we will drop the `Loan_ID` column as it will not help with learning of the model.\n",
    "\n",
    "\n",
    "\n",
    "train_data.head()"
   ]
  },
  {
   "cell_type": "markdown",
   "id": "bc761e83-a70a-4b60-80dc-ff0e247bb920",
   "metadata": {},
   "source": [
    "We can replace string with int."
   ]
  },
  {
   "cell_type": "code",
   "execution_count": 41,
   "id": "4df6968b-e55a-4c52-ae69-283eceb16e5f",
   "metadata": {},
   "outputs": [],
   "source": [
    "# Next, let's convert the `Gender` column to 0.0 for Male and 1.0 for Female\n",
    "# don't forget to do for both train and test set\n",
    "\n",
    "\n",
    "\n",
    "\n",
    "\n"
   ]
  },
  {
   "cell_type": "markdown",
   "id": "76297f00-95fe-482b-8144-1c29b3b6177e",
   "metadata": {},
   "source": [
    "Let's repeat this step for all of the categorical columns!\n",
    "\n",
    "There's a lot more columns to do!\n",
    "So you might want to use that 'factorize' function !\n",
    "(https://pandas.pydata.org/docs/reference/api/pandas.factorize.html)\n",
    "\n",
    "or we can just replace them."
   ]
  },
  {
   "cell_type": "code",
   "execution_count": 42,
   "id": "ab539a45-2d86-41ad-91d7-4f945b0f1d25",
   "metadata": {},
   "outputs": [],
   "source": [
    "# Convert values in 'Married' to int\n",
    "\n",
    "\n"
   ]
  },
  {
   "cell_type": "code",
   "execution_count": 43,
   "id": "5dac1564-69b0-4392-81fd-3181901fbc41",
   "metadata": {},
   "outputs": [],
   "source": [
    "# Convert values in 'Education' to int\n",
    "\n",
    "\n"
   ]
  },
  {
   "cell_type": "code",
   "execution_count": 44,
   "id": "01a4794c-baf6-4313-be89-bd33a930c01c",
   "metadata": {},
   "outputs": [],
   "source": [
    "# Convert values in 'Self_Employed' to int\n",
    "\n",
    "\n"
   ]
  },
  {
   "cell_type": "code",
   "execution_count": 45,
   "id": "e60c88e9-2a5f-49c7-88ee-4e73edcf95b8",
   "metadata": {},
   "outputs": [],
   "source": [
    "# Convert values in 'Property_Area' to int\n",
    "\n",
    "\n"
   ]
  },
  {
   "cell_type": "code",
   "execution_count": 46,
   "id": "7036c09f-d7de-4b31-b963-60b7331b539e",
   "metadata": {},
   "outputs": [],
   "source": [
    "# Convert values in 'Loan_Status' to int\n",
    "\n",
    "\n"
   ]
  },
  {
   "cell_type": "code",
   "execution_count": 47,
   "id": "bc6c7349-1c98-48c8-b2b2-e0ae29b7d5f2",
   "metadata": {},
   "outputs": [],
   "source": [
    "# Convert values in 'Dependents' to int\n",
    "\n",
    "\n"
   ]
  },
  {
   "cell_type": "code",
   "execution_count": 48,
   "id": "580d92c6-735c-4f61-8923-8ebe5b8da6fa",
   "metadata": {},
   "outputs": [
    {
     "name": "stdout",
     "output_type": "stream",
     "text": [
      "<class 'pandas.core.frame.DataFrame'>\n",
      "RangeIndex: 614 entries, 0 to 613\n",
      "Data columns (total 12 columns):\n",
      " #   Column             Non-Null Count  Dtype  \n",
      "---  ------             --------------  -----  \n",
      " 0   Gender             614 non-null    float64\n",
      " 1   Married            614 non-null    int64  \n",
      " 2   Dependents         614 non-null    int64  \n",
      " 3   Education          614 non-null    int64  \n",
      " 4   Self_Employed      614 non-null    int64  \n",
      " 5   ApplicantIncome    614 non-null    int64  \n",
      " 6   CoapplicantIncome  614 non-null    float64\n",
      " 7   LoanAmount         614 non-null    float64\n",
      " 8   Loan_Amount_Term   614 non-null    float64\n",
      " 9   Credit_History     614 non-null    float64\n",
      " 10  Property_Area      614 non-null    int64  \n",
      " 11  Loan_Status        614 non-null    int64  \n",
      "dtypes: float64(5), int64(7)\n",
      "memory usage: 57.7 KB\n"
     ]
    }
   ],
   "source": [
    "# Let's see if any column is still not float or int\n",
    "\n",
    "\n"
   ]
  },
  {
   "cell_type": "markdown",
   "id": "87a25d69-6bc6-42cd-af1d-b46a9f2a816a",
   "metadata": {},
   "source": [
    "#### All data is either float or int now!"
   ]
  },
  {
   "cell_type": "markdown",
   "id": "5d6289d6-9a62-420f-a3e7-4537b9a605c8",
   "metadata": {},
   "source": [
    "## 2.1) Training a machine learning model for Loan prediction"
   ]
  },
  {
   "cell_type": "markdown",
   "id": "0721c8cc-82a6-4b7a-a316-484f3f6ad498",
   "metadata": {},
   "source": [
    "You would want to split the train data into train and validation set first. \n",
    "Then use the training and validation set for training and validation of the model.\n",
    "\n",
    "You can use any classification model from sklearn to classify `Loan_Status`. \n",
    "Experiment with various hyperparameters, you may use Cross-Validation, Validation curve , Learning Curve or GridSearch as you want but dont forget to get the validation accuracy and the best model.\n",
    "\n",
    "Then, use your best model to predict `Loan_status` of the test set.\n",
    "(we cannot calculate the accuracy on the test data because we don't have the ground truth (or the real values of 'Loan_Status')"
   ]
  },
  {
   "cell_type": "markdown",
   "id": "a1e73c01-d5e7-46b9-9776-eeda4eb7fe8d",
   "metadata": {},
   "source": [
    "### Create X and y data for a Machine Learning Model (or any other classification model)"
   ]
  },
  {
   "cell_type": "markdown",
   "id": "f4de5dfb-61f2-4500-9be7-a7df7e8bb94c",
   "metadata": {},
   "source": [
    "Let's see which shape sklearn needs for Logistic Regression\n",
    "https://scikit-learn.org/stable/modules/generated/sklearn.linear_model.LogisticRegression.html\n"
   ]
  },
  {
   "cell_type": "code",
   "execution_count": 50,
   "id": "f844fc68-8b70-48fb-8aca-d2f7b152d989",
   "metadata": {},
   "outputs": [
    {
     "name": "stdout",
     "output_type": "stream",
     "text": [
      "(614, 12)\n",
      "(367, 11)\n"
     ]
    }
   ],
   "source": [
    "# print shape of train and test data\n",
    "\n",
    "\n"
   ]
  },
  {
   "cell_type": "markdown",
   "id": "82b87a34-e6eb-4408-b76b-cb102074ca19",
   "metadata": {},
   "source": [
    "train_data has 1 column more than test_data. That colum is the `Loan_Status` column that we want to predict (or our y) !"
   ]
  },
  {
   "cell_type": "code",
   "execution_count": 51,
   "id": "bd12ca72-3711-4b46-937b-30be34a8ea84",
   "metadata": {},
   "outputs": [
    {
     "name": "stdout",
     "output_type": "stream",
     "text": [
      "(614, 11)\n",
      "(614,)\n",
      "(367, 11)\n"
     ]
    }
   ],
   "source": [
    "# Let's convert train_data and test_data to X_train, y_train and X_test\n",
    "\n",
    "\n"
   ]
  },
  {
   "cell_type": "markdown",
   "id": "43979cd2-1401-4433-956a-f56c27cd98cf",
   "metadata": {},
   "source": [
    "### Split the data"
   ]
  },
  {
   "cell_type": "code",
   "execution_count": 52,
   "id": "223ffbc4-132f-464c-9333-ce58fe80a9f8",
   "metadata": {},
   "outputs": [],
   "source": [
    "# split X and y into X_train, X_val, y_train, y_val\n",
    "\n",
    "\n"
   ]
  },
  {
   "cell_type": "markdown",
   "id": "dab74ea7-47e0-49fb-84fa-6aa002cd9336",
   "metadata": {},
   "source": [
    "### Train a classification model"
   ]
  },
  {
   "cell_type": "code",
   "execution_count": 53,
   "id": "23533d13-7185-4fe3-807b-578b2d803fbc",
   "metadata": {},
   "outputs": [],
   "source": [
    "# import a classification model\n",
    "\n",
    "\n"
   ]
  },
  {
   "cell_type": "code",
   "execution_count": 54,
   "id": "c1225cb5-867f-4f4d-8e83-023f4f2b5c1d",
   "metadata": {},
   "outputs": [
    {
     "name": "stderr",
     "output_type": "stream",
     "text": [
      "/home/chanapa/pythonDSAI_env/lib/python3.8/site-packages/sklearn/linear_model/_logistic.py:763: ConvergenceWarning: lbfgs failed to converge (status=1):\n",
      "STOP: TOTAL NO. of ITERATIONS REACHED LIMIT.\n",
      "\n",
      "Increase the number of iterations (max_iter) or scale the data as shown in:\n",
      "    https://scikit-learn.org/stable/modules/preprocessing.html\n",
      "Please also refer to the documentation for alternative solver options:\n",
      "    https://scikit-learn.org/stable/modules/linear_model.html#logistic-regression\n",
      "  n_iter_i = _check_optimize_result(\n"
     ]
    },
    {
     "data": {
      "text/plain": [
       "LogisticRegression(random_state=0)"
      ]
     },
     "execution_count": 54,
     "metadata": {},
     "output_type": "execute_result"
    }
   ],
   "source": [
    "# Fit the model on the training set\n",
    "\n",
    "\n"
   ]
  },
  {
   "cell_type": "markdown",
   "id": "38878764-bf9b-467e-aaac-805c17298e2d",
   "metadata": {},
   "source": [
    "### Report Validation Accuracy"
   ]
  },
  {
   "cell_type": "code",
   "execution_count": 55,
   "id": "991a982f-1be6-4619-a7e7-16a410580b09",
   "metadata": {},
   "outputs": [
    {
     "name": "stdout",
     "output_type": "stream",
     "text": [
      "              precision    recall  f1-score   support\n",
      "\n",
      "           0       0.92      0.41      0.56        54\n",
      "           1       0.75      0.98      0.85       100\n",
      "\n",
      "    accuracy                           0.78       154\n",
      "   macro avg       0.84      0.69      0.71       154\n",
      "weighted avg       0.81      0.78      0.75       154\n",
      "\n"
     ]
    }
   ],
   "source": [
    "# report the model accuracy on validation set\n",
    "\n",
    "\n"
   ]
  },
  {
   "cell_type": "markdown",
   "id": "b083d3bc-0727-44c4-8704-5bcfe495b156",
   "metadata": {},
   "source": [
    "### Use the best model to predict the Test Set"
   ]
  },
  {
   "cell_type": "code",
   "execution_count": 56,
   "id": "91600b06-8728-4467-8e63-d69e047cdb1a",
   "metadata": {},
   "outputs": [
    {
     "name": "stdout",
     "output_type": "stream",
     "text": [
      "[1 1 1 1 1 1 1 0 1 1 1 1 1 0 1 1 1 1 1 1 1 1 1 1 1 0 1 1 1 1 1 1 1 1 1 0 1\n",
      " 1 1 1 1 1 1 1 1 1 1 1 1 1 1 1 1 1 1 0 1 1 0 1 1 1 1 0 1 1 0 0 1 0 1 1 1 1\n",
      " 1 1 1 1 1 1 0 1 0 1 1 1 1 1 1 1 1 1 1 1 0 1 1 1 1 1 1 0 1 1 1 1 0 1 1 1 1\n",
      " 1 1 1 1 1 1 0 0 0 1 1 1 0 0 1 0 1 1 1 1 1 1 1 1 1 1 1 1 1 0 1 0 1 1 1 1 0\n",
      " 1 1 1 1 1 0 1 1 1 1 1 1 1 0 1 1 1 0 0 1 0 1 1 1 1 0 0 1 1 1 1 1 1 1 1 1 1\n",
      " 1 1 1 1 1 1 1 0 0 1 1 0 1 0 1 1 1 1 1 1 1 1 1 1 1 1 0 1 1 1 1 1 1 1 1 1 1\n",
      " 1 1 0 1 1 1 1 0 1 1 1 1 1 0 0 1 1 1 1 0 1 0 1 0 1 1 1 1 0 1 1 1 1 0 1 1 1\n",
      " 1 1 1 1 1 1 1 0 1 0 1 1 1 1 0 0 1 1 1 0 1 1 1 1 1 1 1 1 1 1 1 1 1 1 0 1 1\n",
      " 1 1 1 1 1 0 1 1 1 1 1 1 1 1 1 0 1 1 1 1 1 0 1 1 1 1 1 1 1 1 1 1 1 1 1 1 1\n",
      " 1 1 1 0 1 1 0 1 1 1 1 1 1 0 1 1 1 1 0 1 1 0 1 1 1 0 1 0 1 1 1 0 1 1]\n"
     ]
    }
   ],
   "source": [
    "# use the best model to predict the test set\n",
    "\n",
    "\n",
    "\n",
    "# print the predicted Loan Status\n",
    "\n",
    "\n"
   ]
  }
 ],
 "metadata": {
  "kernelspec": {
   "display_name": "Python 3",
   "language": "python",
   "name": "python3"
  },
  "language_info": {
   "codemirror_mode": {
    "name": "ipython",
    "version": 3
   },
   "file_extension": ".py",
   "mimetype": "text/x-python",
   "name": "python",
   "nbconvert_exporter": "python",
   "pygments_lexer": "ipython3",
   "version": "3.8.10"
  }
 },
 "nbformat": 4,
 "nbformat_minor": 5
}
