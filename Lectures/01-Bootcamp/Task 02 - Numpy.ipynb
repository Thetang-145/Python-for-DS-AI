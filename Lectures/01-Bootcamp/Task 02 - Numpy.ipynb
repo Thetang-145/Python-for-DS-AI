{
 "cells": [
  {
   "cell_type": "markdown",
   "id": "c51c5f20",
   "metadata": {},
   "source": [
    "### === Task 1 ===\n",
    "\n",
    "1. Declare a list of 1 to 4 using range()\n",
    "\n",
    "2. Continuing, create numpy array from this list, with dtype='float32'\n",
    "\n",
    "3. Create an numpy array of size 3 by 5 using np.zeros\n",
    "\n",
    "4. Create an numpy array of size 2 by 3 with filled value 1 / 3\n",
    "\n",
    "5. Create an array of 5 equal-distanced values for 0 to 10\n",
    "\n",
    "6. Create an array of number for 0.001, 0.01, 0.1, 1 using np.logspace\n",
    "\n",
    "7. Create a diagonal matrix of list [1, 2, 3, 4]\n",
    "\n",
    "\n",
    "8. Create a random array of size 4 by 5 all filled with random values between 0 and 1\n",
    "\n",
    "9.  Create a random array of size 4 by 5 all filled with integer random values between 2 and 5\n",
    "\n",
    "10.  Create a random array of size 4 by 5 all filled with float random values between 2 and 5\n",
    "\n",
    "11. Create a random array of size 4 by 5 with mean = 5, and std = 1 following a gaussian (normal) distribution\n",
    "\n",
    "12. Create an identity matrix of size 5 by 5"
   ]
  },
  {
   "cell_type": "code",
   "execution_count": 200,
   "id": "33f7b91a",
   "metadata": {},
   "outputs": [
    {
     "name": "stdout",
     "output_type": "stream",
     "text": [
      "[1, 2, 3, 4]\n"
     ]
    }
   ],
   "source": [
    "# 1.\n",
    "a_list = list(range(1,5))\n",
    "print(a_list)"
   ]
  },
  {
   "cell_type": "code",
   "execution_count": 201,
   "id": "297a6f89",
   "metadata": {},
   "outputs": [
    {
     "name": "stdout",
     "output_type": "stream",
     "text": [
      "[1. 2. 3. 4.]\n"
     ]
    }
   ],
   "source": [
    "# 2.\n",
    "import numpy as np\n",
    "arr = np.array((a_list), dtype='float32')\n",
    "print(arr)"
   ]
  },
  {
   "cell_type": "code",
   "execution_count": 202,
   "id": "77127757",
   "metadata": {},
   "outputs": [
    {
     "name": "stdout",
     "output_type": "stream",
     "text": [
      "[[0. 0. 0. 0. 0.]\n",
      " [0. 0. 0. 0. 0.]\n",
      " [0. 0. 0. 0. 0.]]\n"
     ]
    }
   ],
   "source": [
    "# 3.\n",
    "print(np.zeros((3,5)))"
   ]
  },
  {
   "cell_type": "code",
   "execution_count": 203,
   "id": "1912292e",
   "metadata": {},
   "outputs": [
    {
     "name": "stdout",
     "output_type": "stream",
     "text": [
      "[[0.33333333 0.33333333 0.33333333]\n",
      " [0.33333333 0.33333333 0.33333333]]\n"
     ]
    }
   ],
   "source": [
    "# 4. \n",
    "print(np.full((2, 3), 1/3))"
   ]
  },
  {
   "cell_type": "code",
   "execution_count": 204,
   "id": "3f2e6136",
   "metadata": {},
   "outputs": [
    {
     "name": "stdout",
     "output_type": "stream",
     "text": [
      "[ 0.   2.5  5.   7.5 10. ]\n"
     ]
    }
   ],
   "source": [
    "# 5.\n",
    "print(np.linspace(0, 10, 5))"
   ]
  },
  {
   "cell_type": "code",
   "execution_count": 205,
   "id": "2ff08eb3",
   "metadata": {},
   "outputs": [
    {
     "name": "stdout",
     "output_type": "stream",
     "text": [
      "[0.001 0.01  0.1   1.   ]\n"
     ]
    }
   ],
   "source": [
    "# 6. \n",
    "print(np.logspace(-3, 0, 4))"
   ]
  },
  {
   "cell_type": "code",
   "execution_count": 206,
   "id": "bbe5a4de",
   "metadata": {},
   "outputs": [
    {
     "name": "stdout",
     "output_type": "stream",
     "text": [
      "[[1 0 0 0]\n",
      " [0 2 0 0]\n",
      " [0 0 3 0]\n",
      " [0 0 0 4]]\n"
     ]
    }
   ],
   "source": [
    "# 7.\n",
    "print(np.diag(np.arange(1, 5)))"
   ]
  },
  {
   "cell_type": "code",
   "execution_count": 207,
   "id": "d01ad50b",
   "metadata": {},
   "outputs": [
    {
     "name": "stdout",
     "output_type": "stream",
     "text": [
      "[[0.20101541 0.5299955  0.95121072 0.84546574 0.70715747]\n",
      " [0.21298611 0.52709836 0.65421519 0.44570296 0.35605395]\n",
      " [0.10877916 0.00246546 0.85002181 0.61933181 0.5308086 ]\n",
      " [0.37748379 0.72081456 0.70010514 0.87979034 0.92349877]]\n"
     ]
    }
   ],
   "source": [
    "# 8.\n",
    "print(np.random.random((4, 5)))"
   ]
  },
  {
   "cell_type": "code",
   "execution_count": 208,
   "id": "7f4a249d",
   "metadata": {},
   "outputs": [
    {
     "name": "stdout",
     "output_type": "stream",
     "text": [
      "[[14 14 13 14 12]\n",
      " [14 14 13 13 14]\n",
      " [12 12 14 13 14]\n",
      " [13 14 14 14 14]]\n"
     ]
    }
   ],
   "source": [
    "# 9.\n",
    "print(np.random.randint(12, 15, (4, 5)))"
   ]
  },
  {
   "cell_type": "code",
   "execution_count": 209,
   "id": "80c0c1ea",
   "metadata": {},
   "outputs": [
    {
     "name": "stdout",
     "output_type": "stream",
     "text": [
      "[[4.57890304 3.1748769  3.85071262 4.45905129 4.47957139]\n",
      " [3.12599522 3.00185501 3.28987085 3.56100818 4.39565442]\n",
      " [4.71061325 3.36544408 4.32663822 4.4505963  4.60695779]\n",
      " [2.85628737 2.33971759 3.85821227 4.15114568 3.01725117]]\n"
     ]
    }
   ],
   "source": [
    "# 10.\n",
    "print(np.random.uniform(low=2, high=5, size=(4, 5)))"
   ]
  },
  {
   "cell_type": "code",
   "execution_count": 210,
   "id": "0f462521",
   "metadata": {},
   "outputs": [
    {
     "name": "stdout",
     "output_type": "stream",
     "text": [
      "[[6.23860739 5.04574139 3.31819771 4.53479085 5.91695491]\n",
      " [3.87507741 3.94046298 4.92875734 5.4505734  4.39029173]\n",
      " [4.94414796 4.9378125  3.6429499  5.66451478 3.83561699]\n",
      " [5.02499402 4.10499478 3.64442569 5.20574707 4.0632621 ]]\n"
     ]
    }
   ],
   "source": [
    "# 11. \n",
    "print(np.random.normal(5, 1, (4, 5))) \n",
    "#mean = 5, and std = 1, size = (4, 5)"
   ]
  },
  {
   "cell_type": "code",
   "execution_count": 211,
   "id": "8c6ff354",
   "metadata": {},
   "outputs": [
    {
     "name": "stdout",
     "output_type": "stream",
     "text": [
      "[[1. 0. 0. 0. 0.]\n",
      " [0. 1. 0. 0. 0.]\n",
      " [0. 0. 1. 0. 0.]\n",
      " [0. 0. 0. 1. 0.]\n",
      " [0. 0. 0. 0. 1.]]\n"
     ]
    }
   ],
   "source": [
    "# 12. Create an identity matrix of size 5 by 5\n",
    "print(np.identity(5))\n",
    "# OR np.eye(5) -> equivalent"
   ]
  },
  {
   "cell_type": "markdown",
   "id": "b8780b4a",
   "metadata": {},
   "source": [
    "### === Task 2 ===\n",
    "\n",
    "1. Create a numpy array of size 3 by 4 with random float values between 1 to 5\n",
    "\n",
    "2. Continuing, print the shape of this array\n",
    "\n",
    "3. Continuing, access the first row of the array\n",
    "\n",
    "4. Continuing, access the first column of the array\n",
    "\n",
    "5. Continuing, access the second row, and third column element\n",
    "\n",
    "6. Continuing, access the first two columns\n",
    "\n",
    "7. Continuing, access the  first and third columns using step\n",
    "\n",
    "8. Continuing, print the whole matrix in reverse columns but not rows\n",
    "\n",
    "9. Change the third row, fourth column element (i.e., the last element) to 999"
   ]
  },
  {
   "cell_type": "code",
   "execution_count": 212,
   "id": "bb1888b5",
   "metadata": {},
   "outputs": [
    {
     "name": "stdout",
     "output_type": "stream",
     "text": [
      "[[4 2 4 4]\n",
      " [2 2 2 4]\n",
      " [3 3 2 3]]\n"
     ]
    }
   ],
   "source": [
    "# 1.\n",
    "#a = np.random.uniform(1, 5, (3, 4))\n",
    "a = np.random.randint(1, 5, (3, 4))\n",
    "print(a)"
   ]
  },
  {
   "cell_type": "code",
   "execution_count": 213,
   "id": "fb24d06f",
   "metadata": {},
   "outputs": [
    {
     "name": "stdout",
     "output_type": "stream",
     "text": [
      "(3, 4)\n"
     ]
    }
   ],
   "source": [
    "# 2.\n",
    "print(a.shape)"
   ]
  },
  {
   "cell_type": "code",
   "execution_count": 214,
   "id": "4307b961",
   "metadata": {},
   "outputs": [
    {
     "name": "stdout",
     "output_type": "stream",
     "text": [
      "[[4 2 4 4]]\n"
     ]
    }
   ],
   "source": [
    "# 3.\n",
    "print(a[:1])"
   ]
  },
  {
   "cell_type": "code",
   "execution_count": 215,
   "id": "d308dd73",
   "metadata": {},
   "outputs": [
    {
     "name": "stdout",
     "output_type": "stream",
     "text": [
      "[[4]\n",
      " [2]\n",
      " [3]]\n"
     ]
    }
   ],
   "source": [
    "# 4.\n",
    "print(a[:, :1])"
   ]
  },
  {
   "cell_type": "code",
   "execution_count": 216,
   "id": "ddbee806",
   "metadata": {},
   "outputs": [
    {
     "name": "stdout",
     "output_type": "stream",
     "text": [
      "2\n"
     ]
    }
   ],
   "source": [
    "# 5.\n",
    "print(a[1, 2])"
   ]
  },
  {
   "cell_type": "code",
   "execution_count": 217,
   "id": "ba52b9a9",
   "metadata": {},
   "outputs": [
    {
     "name": "stdout",
     "output_type": "stream",
     "text": [
      "[[4 2]\n",
      " [2 2]\n",
      " [3 3]]\n"
     ]
    }
   ],
   "source": [
    "# 6.\n",
    "print(a[:, :2])"
   ]
  },
  {
   "cell_type": "code",
   "execution_count": 218,
   "id": "89e22ee1",
   "metadata": {},
   "outputs": [
    {
     "name": "stdout",
     "output_type": "stream",
     "text": [
      "[[4 4]\n",
      " [2 2]\n",
      " [3 2]]\n"
     ]
    }
   ],
   "source": [
    "# 7.\n",
    "print(a[:, ::2])"
   ]
  },
  {
   "cell_type": "code",
   "execution_count": 219,
   "id": "c5618310",
   "metadata": {},
   "outputs": [
    {
     "name": "stdout",
     "output_type": "stream",
     "text": [
      "[[4 4 2 4]\n",
      " [4 2 2 2]\n",
      " [3 2 3 3]]\n"
     ]
    }
   ],
   "source": [
    "# 8. \n",
    "print(a[:, ::-1])"
   ]
  },
  {
   "cell_type": "code",
   "execution_count": 220,
   "id": "5e34acb2",
   "metadata": {},
   "outputs": [
    {
     "name": "stdout",
     "output_type": "stream",
     "text": [
      "[[  4   2   4   4]\n",
      " [  2   2   2   4]\n",
      " [  3   3   2 999]]\n"
     ]
    }
   ],
   "source": [
    "# 9.\n",
    "a[2,3] =999\n",
    "print(a)"
   ]
  },
  {
   "cell_type": "markdown",
   "id": "f39a596c",
   "metadata": {},
   "source": [
    "### === Task 3 ===\n",
    "\n",
    "1. Create a numpy array of size 200 by 4 with random float values between 1 to 5 and name it <code>Data</code>\n",
    "\n",
    "2. Split the array into two numpy arrays, X and y, where the X contains the first 3 columns and y contains the last column.\n",
    "\n",
    "3. Continuing, split the first 70% of the 200 rows of X and y and call them <code>X_train</code> and <code>y_train</code>. Similarly, populate <code>X_test</code> and <code>y_test</code> using same corresponding columns but 30\\% rest of the data.\n",
    "\n",
    "<img src=\"figures/02.07-numpy-Task.png\" width=1000 height=1000 />\n",
    "\n",
    "4. Print the shape of the <code>X_train</code> and <code>y_train</code>.  The first array should have shape (0.7 * 200, 3); the second array is (0.7 * 200, 1)\n",
    "\n",
    "5. Assign m = <code>X_train.shape[0]</code>, and n = <code>X_train.shape[1]</code>, where $m$ is number of samples, and $n$ is number of features\n",
    "\n",
    "6. Randomly select one row of <code>X_train</code> by using <code>np.random.randint</code> to select the random row and called it <code>X_i</code>.  Reshape it so that it has shape of <code>(1, n)</code>\n",
    "\n",
    "7. Randomly select 50 contiguous rows from <code>X_train</code> by using <code>np.random.randint</code> to select a random starting row and called it <code>mini_batch_X</code>.  If the index exceeds, simply grab whatever left.\n",
    "\n",
    "8. Write a for loop that breaks the <code>X_train</code> row-wise into 10 equal pieces without overlap, and simply print their shape\n",
    "\n",
    "9. Create an np.zero array called <code>theta</code> with shape of <code>(n, )</code>\n",
    "\n",
    "10. Perform a **dot product** between <code>X_train</code> and <code>theta</code> and assign this value to a variable called <code>yhat</code>\n",
    "Hint: https://www.guru99.com/numpy-dot-product.html\n",
    "\n",
    "<center><img src=\"figures/02.07-numpy-Task-dot-explained.png\" width=500 height=500 /></center>\n",
    "\n",
    "11. Create another variable called <code>y</code> with the same shape as <code>yhat</code>, and populate it with random values from 0 to 1.\n",
    "\n",
    "12. Calculate the following \n",
    "    $$ \\frac{\\sum\\limits_{i=1}^{m} (y_i - \\hat{y_i})^2}{m} $$\n",
    "    \n",
    "    For example, if yhat = [1, 2, 3] and y = [2, 3, 4], then the calculation is\n",
    "    \n",
    "    $$ \\frac{sum((1-2)^2 + (2-3)^2 + (3-4)^2)}{m} $$"
   ]
  },
  {
   "cell_type": "code",
   "execution_count": 221,
   "id": "1fc6ef0a",
   "metadata": {},
   "outputs": [
    {
     "name": "stdout",
     "output_type": "stream",
     "text": [
      "(200, 4)\n"
     ]
    }
   ],
   "source": [
    "# 1.\n",
    "Data = np.random.uniform(1, 5, (200, 4))\n",
    "print(Data.shape)"
   ]
  },
  {
   "cell_type": "code",
   "execution_count": 222,
   "id": "7ddc029e",
   "metadata": {},
   "outputs": [
    {
     "name": "stdout",
     "output_type": "stream",
     "text": [
      "(200, 3)\n",
      "(200,)\n"
     ]
    }
   ],
   "source": [
    "# 2.\n",
    "X = Data[:, :3]\n",
    "y = Data[:, 3]\n",
    "print(X.shape)\n",
    "print(y.shape)"
   ]
  },
  {
   "cell_type": "code",
   "execution_count": 223,
   "id": "51e21ce6",
   "metadata": {},
   "outputs": [
    {
     "name": "stdout",
     "output_type": "stream",
     "text": [
      "(140, 3)\n"
     ]
    },
    {
     "ename": "NameError",
     "evalue": "name 'y_tain' is not defined",
     "output_type": "error",
     "traceback": [
      "\u001b[1;31m---------------------------------------------------------------------------\u001b[0m",
      "\u001b[1;31mNameError\u001b[0m                                 Traceback (most recent call last)",
      "\u001b[1;32m<ipython-input-223-0bfd73e3abc7>\u001b[0m in \u001b[0;36m<module>\u001b[1;34m\u001b[0m\n\u001b[0;32m      7\u001b[0m \u001b[1;31m# 4.\u001b[0m\u001b[1;33m\u001b[0m\u001b[1;33m\u001b[0m\u001b[1;33m\u001b[0m\u001b[0m\n\u001b[0;32m      8\u001b[0m \u001b[0mprint\u001b[0m\u001b[1;33m(\u001b[0m\u001b[0mX_train\u001b[0m\u001b[1;33m.\u001b[0m\u001b[0mshape\u001b[0m\u001b[1;33m)\u001b[0m\u001b[1;33m\u001b[0m\u001b[1;33m\u001b[0m\u001b[0m\n\u001b[1;32m----> 9\u001b[1;33m \u001b[0mprint\u001b[0m\u001b[1;33m(\u001b[0m\u001b[0my_tain\u001b[0m\u001b[1;33m.\u001b[0m\u001b[0mshape\u001b[0m\u001b[1;33m)\u001b[0m\u001b[1;33m\u001b[0m\u001b[1;33m\u001b[0m\u001b[0m\n\u001b[0m",
      "\u001b[1;31mNameError\u001b[0m: name 'y_tain' is not defined"
     ]
    }
   ],
   "source": [
    "# 3. \n",
    "train_size = int(0.7 * Data.shape[0])\n",
    "X_train = X[:train_size,:]\n",
    "X_test = X[train_size:,:]\n",
    "y_train = y[:train_size]\n",
    "y_test = y[train_size:]\n",
    "# 4.\n",
    "print(X_train.shape)\n",
    "print(y_tain.shape)"
   ]
  },
  {
   "cell_type": "code",
   "execution_count": null,
   "id": "57e16190",
   "metadata": {},
   "outputs": [],
   "source": [
    "# 5. \n",
    "m = X_train.shape[0]\n",
    "n = X_train.shape[1]\n",
    "# 6.\n",
    "X_train_rand = X_train[np.random.randint(0,m)]\n",
    "X_train_rand = X_train_rand.reshape(1,n)\n",
    "print(X_train_rand)"
   ]
  },
  {
   "cell_type": "code",
   "execution_count": null,
   "id": "4e3f9812",
   "metadata": {},
   "outputs": [],
   "source": [
    "# 7.\n",
    "rand = np.random.randint(0,m-50)\n",
    "mini_batch_X = X_train[rand:rand+50]\n",
    "print(mini_batch_X.shape)"
   ]
  },
  {
   "cell_type": "code",
   "execution_count": null,
   "id": "a759fc10",
   "metadata": {},
   "outputs": [],
   "source": [
    "# 8.\n",
    "batch_size = int(m / 10)\n",
    "for i in range(0, m, batch_size):\n",
    "    batch = X_train[i:i+batch_size]\n",
    "    print(batch.shape)"
   ]
  },
  {
   "cell_type": "code",
   "execution_count": null,
   "id": "b4f7b6a9",
   "metadata": {},
   "outputs": [],
   "source": [
    "# 9.\n",
    "theta = np.zeros(n)\n",
    "print(theta.shape)"
   ]
  },
  {
   "cell_type": "code",
   "execution_count": null,
   "id": "ba8d16d0",
   "metadata": {},
   "outputs": [],
   "source": [
    "# 10.\n",
    "yhat = X_train @ theta\n",
    "print(yhat.shape)"
   ]
  },
  {
   "cell_type": "code",
   "execution_count": null,
   "id": "adbb7021",
   "metadata": {},
   "outputs": [],
   "source": [
    "# 11.\n",
    "y = np.random.uniform(0,1,yhat.shape)\n",
    "print(y.shape)"
   ]
  },
  {
   "cell_type": "code",
   "execution_count": null,
   "id": "73b69dda",
   "metadata": {},
   "outputs": [],
   "source": [
    "# 12.\n",
    "result = sum((y-yhat)**2)/m\n",
    "print(result)"
   ]
  },
  {
   "cell_type": "markdown",
   "id": "7320f974",
   "metadata": {},
   "source": [
    "### === Task 4 ===\n",
    "\n",
    "1. From the above <code>X_train</code> from previous task, using concatenation, add a column of 1s along axis=1 and call it intercept\n",
    "\n",
    "2. Create a <code>theta</code> of shape (n + 1, 4), with random values between 0 and 1\n",
    "\n",
    "3. Perform a dot product between X_train and theta, and assign this value to a variable called <code>hot_encoded_yhat</code>\n",
    "\n",
    "4. Continuing, using broadcasting and vectorization, for each value (here I use example as value1) in <code>hot_encoded_yhat</code>, perform the following calculations.\n",
    "\n",
    "$$ \\frac{\\exp(value1)}{\\exp(value1)+\\exp(value2)+\\exp(value3)+\\exp(value4)} $$\n",
    "\n",
    "For example, if my first row is [0.3, 0.5, 1.2, 3.1], then the first value 0.3 will change to\n",
    "\n",
    "exp(0.3) / (exp(0.3) + exp(0.5) + exp(1.2) + exp(3.1))\n",
    "\n",
    "The second value 0.5 will become\n",
    "\n",
    "exp(0.5) / (exp(0.3) + exp(0.5) + exp(1.2) + exp(3.1))\n",
    "\n",
    "5. Create a variable called <code>yhat</code> which is equal to the <code>np.argmax</code> of <code>hot_encoded_yhat</code> along axis=1.  That is, <code>yhat</code> has the shape of <code>(X_train.shape[0], )</code>.  For example, if the first row of <code>hot_encoded_yhat</code> is [0.1, 0.2, 0.3, 0.4], since the fourth value is the biggest, the value will be its index which is 3.\n",
    "\n",
    "6. Create a variable called <code>y</code>, containing shape of <code>(X_train.shape[0], )</code> but with random int values from [0, 1, 2, 3]\n",
    "\n",
    "7. Assign a variable <code>n_classses</code> equal to the number of unique values in <code>y</code>"
   ]
  },
  {
   "cell_type": "code",
   "execution_count": 243,
   "id": "01efb6aa",
   "metadata": {},
   "outputs": [
    {
     "name": "stdout",
     "output_type": "stream",
     "text": [
      "(140, 5)\n"
     ]
    }
   ],
   "source": [
    "# 1.\n",
    "intercept = np.ones((m, 1))\n",
    "X_train = np.concatenate((intercept, X_train), axis=1)\n",
    "print(X_train.shape)"
   ]
  },
  {
   "cell_type": "code",
   "execution_count": 244,
   "id": "e231786b",
   "metadata": {},
   "outputs": [
    {
     "name": "stdout",
     "output_type": "stream",
     "text": [
      "(4, 4)\n"
     ]
    }
   ],
   "source": [
    "# 2.\n",
    "theta = np.random.uniform(0,1,(n+1,4))\n",
    "print(theta.shape)"
   ]
  },
  {
   "cell_type": "code",
   "execution_count": 245,
   "id": "8a9954fb",
   "metadata": {},
   "outputs": [
    {
     "ename": "ValueError",
     "evalue": "matmul: Input operand 1 has a mismatch in its core dimension 0, with gufunc signature (n?,k),(k,m?)->(n?,m?) (size 4 is different from 5)",
     "output_type": "error",
     "traceback": [
      "\u001b[1;31m---------------------------------------------------------------------------\u001b[0m",
      "\u001b[1;31mValueError\u001b[0m                                Traceback (most recent call last)",
      "\u001b[1;32m<ipython-input-245-afdc590d10b6>\u001b[0m in \u001b[0;36m<module>\u001b[1;34m\u001b[0m\n\u001b[0;32m      1\u001b[0m \u001b[1;31m# 3.\u001b[0m\u001b[1;33m\u001b[0m\u001b[1;33m\u001b[0m\u001b[1;33m\u001b[0m\u001b[0m\n\u001b[1;32m----> 2\u001b[1;33m \u001b[0mhot_encoded_yhat\u001b[0m \u001b[1;33m=\u001b[0m \u001b[0mX_train\u001b[0m \u001b[1;33m@\u001b[0m \u001b[0mtheta\u001b[0m\u001b[1;33m\u001b[0m\u001b[1;33m\u001b[0m\u001b[0m\n\u001b[0m\u001b[0;32m      3\u001b[0m \u001b[0mprint\u001b[0m\u001b[1;33m(\u001b[0m\u001b[0mhot_encoded_yhat\u001b[0m\u001b[1;33m.\u001b[0m\u001b[0mshape\u001b[0m\u001b[1;33m)\u001b[0m\u001b[1;33m\u001b[0m\u001b[1;33m\u001b[0m\u001b[0m\n\u001b[0;32m      4\u001b[0m \u001b[0mprint\u001b[0m\u001b[1;33m(\u001b[0m\u001b[0mhot_encoded_yhat\u001b[0m\u001b[1;33m[\u001b[0m\u001b[1;36m1\u001b[0m\u001b[1;33m]\u001b[0m\u001b[1;33m)\u001b[0m\u001b[1;33m\u001b[0m\u001b[1;33m\u001b[0m\u001b[0m\n",
      "\u001b[1;31mValueError\u001b[0m: matmul: Input operand 1 has a mismatch in its core dimension 0, with gufunc signature (n?,k),(k,m?)->(n?,m?) (size 4 is different from 5)"
     ]
    }
   ],
   "source": [
    "# 3.\n",
    "hot_encoded_yhat = X_train @ theta\n",
    "print(hot_encoded_yhat.shape)\n",
    "print(hot_encoded_yhat[1])"
   ]
  },
  {
   "cell_type": "code",
   "execution_count": 246,
   "id": "e65b424a",
   "metadata": {},
   "outputs": [
    {
     "name": "stdout",
     "output_type": "stream",
     "text": [
      "(140, 4)\n",
      "[0.20576128 0.30180467 0.19253872 0.29989534]\n"
     ]
    }
   ],
   "source": [
    "# 4.\n",
    "hot_encoded_yhat = np.exp(hot_encoded_yhat)/np.sum(np.exp(hot_encoded_yhat), axis=1, keepdims=True)\n",
    "print(hot_encoded_yhat.shape)\n",
    "print(hot_encoded_yhat[0])"
   ]
  },
  {
   "cell_type": "code",
   "execution_count": 247,
   "id": "ce9b520b",
   "metadata": {},
   "outputs": [
    {
     "name": "stdout",
     "output_type": "stream",
     "text": [
      "(140,)\n",
      "[1 3 1 3 3 3 3 3 3 3 3 3 3 3 3 3 3 3 3 3 1 3 3 3 3 3 3 3 3 3 3 3 3 3 3 3 3\n",
      " 3 3 3 3 3 3 3 3 3 3 3 3 3 3 3 3 3 3 3 3 3 3 3 3 3 3 3 3 3 3 3 3 3 3 3 3 3\n",
      " 3 3 3 3 3 3 3 3 3 3 3 3 3 3 3 3 3 3 3 3 3 3 3 3 3 3 3 3 3 3 3 3 3 3 3 3 3\n",
      " 3 3 1 3 3 3 3 3 3 3 3 3 3 3 3 3 3 3 3 3 3 3 3 3 3 3 3 3 3]\n"
     ]
    }
   ],
   "source": [
    "# 5.\n",
    "yhat = np.argmax(hot_encoded_yhat, axis=1)\n",
    "print(yhat.shape)\n",
    "print(yhat)"
   ]
  },
  {
   "cell_type": "code",
   "execution_count": 248,
   "id": "06389db7",
   "metadata": {},
   "outputs": [
    {
     "name": "stdout",
     "output_type": "stream",
     "text": [
      "(140,)\n",
      "[1 1 3 3 2 2 1 2 0 0 3 2 3 2 0 3 2 2 0 2 2 0 2 2 2 0 2 2 0 1 0 2 1 3 1 1 2\n",
      " 0 2 3 2 2 3 3 0 2 1 2 0 3 2 2 1 3 3 0 0 0 0 0 1 2 0 1 1 0 1 1 2 1 1 0 2 0\n",
      " 1 3 2 3 3 3 3 2 3 2 3 0 1 1 2 2 0 2 3 1 0 1 1 0 3 2 1 3 0 2 3 0 2 3 1 3 0\n",
      " 1 0 1 1 3 2 2 1 2 1 3 2 2 0 1 1 1 0 3 0 1 1 1 2 3 2 2 1 2]\n"
     ]
    }
   ],
   "source": [
    "# 6.\n",
    "y = np.random.randint(0,4,yhat.shape)\n",
    "print(y.shape)\n",
    "print(y)"
   ]
  },
  {
   "cell_type": "code",
   "execution_count": 249,
   "id": "ca904b43",
   "metadata": {},
   "outputs": [
    {
     "name": "stdout",
     "output_type": "stream",
     "text": [
      "[0 1 2 3]\n",
      "4\n"
     ]
    }
   ],
   "source": [
    "# 7.\n",
    "n_classses = np.unique(y)\n",
    "print(n_classses)\n",
    "print(len(n_classses))"
   ]
  },
  {
   "cell_type": "markdown",
   "id": "aa895bf0",
   "metadata": {},
   "source": [
    "### === Task 5 ===\n",
    "\n",
    "1. Take the above variables <code>yhat</code> and <code>y</code>, sum up the counts when their corresponding value are the same.  Then divide this sum by $m$.  Called this variable <code>accuracy</code>\n",
    "\n",
    "2. Let's practice masking.  Convert <code>y</code> into <code>hot_encoded_y</code> matrix of shape <code>(X_train.shape[0], 4)</code>, where the column will be one according to its value, and other columns will be zero.  For example, if the first row is 1, then it will become 0 1 0 0.  If the second row is 2, then it will become 0 0 1 0\n",
    "\n",
    "3. Grab the data from <code>data = np.genfromtxt('../data/perceptron.csv', delimiter=',', skip_header=1)</code>\n",
    "    - set X to be all columns except last\n",
    "    - set y to be the last column\n",
    "    - select X where its corresponding y is 0\n",
    "    - select X where its corresponding y is 1\n",
    "    \n",
    "4. Grab the data from <code>iris = np.genfromtxt('../data/iris.csv', delimiter=',', encoding=\"utf-8\", dtype=None)</code>\n",
    "    - set iris_without_headers to all rows except the first row\n",
    "    - set sepal_length to second column of iris_without_headers\n",
    "    - set petal_length to fourth column of iris_without_headers\n",
    "    - print the shape of iris_without_headers where sepal_length is less than 5, and petal_length is greater than 1.5"
   ]
  },
  {
   "cell_type": "code",
   "execution_count": 250,
   "id": "0fd47c37",
   "metadata": {},
   "outputs": [
    {
     "name": "stdout",
     "output_type": "stream",
     "text": [
      "0.21428571428571427\n"
     ]
    }
   ],
   "source": [
    "# 1.\n",
    "accuracy = ((yhat == y).sum())/m\n",
    "print(accuracy)"
   ]
  },
  {
   "cell_type": "code",
   "execution_count": 251,
   "id": "7854e6ca",
   "metadata": {},
   "outputs": [
    {
     "name": "stdout",
     "output_type": "stream",
     "text": [
      "[1 1 3 3 2]\n",
      "[[0. 1. 0. 0.]\n",
      " [0. 1. 0. 0.]\n",
      " [0. 0. 0. 1.]\n",
      " [0. 0. 0. 1.]\n",
      " [0. 0. 1. 0.]]\n"
     ]
    }
   ],
   "source": [
    "# 2.\n",
    "k = 4\n",
    "hot_encoded_y = np.zeros((m, k))\n",
    "for i in range(len(y)):\n",
    "    hot_encoded_y[i,y[i]] = 1\n",
    "print(y[:5])\n",
    "print(hot_encoded_y[:5])"
   ]
  },
  {
   "cell_type": "code",
   "execution_count": 240,
   "id": "4d45a68c",
   "metadata": {},
   "outputs": [
    {
     "name": "stdout",
     "output_type": "stream",
     "text": [
      "<class 'numpy.ndarray'>\n",
      "X where y=0:\n",
      "[[0.4946 5.7661]\n",
      " [1.2888 5.3433]\n",
      " [1.4293 4.5592]\n",
      " [1.1921 5.8563]\n",
      " [1.063  5.7357]\n",
      " [1.5079 5.8622]\n",
      " [0.2678 6.9931]\n",
      " [0.9726 3.6268]\n",
      " [2.5389 3.3884]\n",
      " [2.473  5.6404]]\n",
      "X where y=1:\n",
      "[[4.7206 5.7661]\n",
      " [4.2898 5.3433]\n",
      " [4.2286 4.5592]\n",
      " [3.1454 5.8563]\n",
      " [5.1043 5.7357]\n",
      " [3.9799 5.8622]\n",
      " [4.5288 6.9931]\n",
      " [4.106  3.6268]\n",
      " [4.7555 3.3884]\n",
      " [4.7977 5.6404]]\n"
     ]
    }
   ],
   "source": [
    "# 3.\n",
    "data = np.genfromtxt('data/perceptron.csv', delimiter=',', skip_header=1)\n",
    "X = data[:,:-1]\n",
    "y = data[:,-1]\n",
    "print(type(y))\n",
    "print(\"X where y=0:\")\n",
    "print(X[y==0])\n",
    "print(\"X where y=1:\")\n",
    "print(X[y==1])"
   ]
  },
  {
   "cell_type": "code",
   "execution_count": 254,
   "id": "3f62d8fb",
   "metadata": {},
   "outputs": [
    {
     "name": "stdout",
     "output_type": "stream",
     "text": [
      "[['12' '4.8' '3.4' '1.6' '0.2' 'Iris-setosa']\n",
      " ['25' '4.8' '3.4' '1.9' '0.2' 'Iris-setosa']\n",
      " ['30' '4.7' '3.2' '1.6' '0.2' 'Iris-setosa']\n",
      " ['31' '4.8' '3.1' '1.6' '0.2' 'Iris-setosa']\n",
      " ['107' '4.9' '2.5' '4.5' '1.7' 'Iris-virginica']]\n",
      "(5, 6)\n"
     ]
    }
   ],
   "source": [
    "# 4. \n",
    "iris = np.genfromtxt('data/iris.csv', delimiter=',', encoding=\"utf-8\", dtype=None)\n",
    "iris_without_headers = iris[1:,:]\n",
    "sepal_length = iris_without_headers[:,1].astype(float)\n",
    "petal_length = iris_without_headers[:,3].astype(float)\n",
    "\n",
    "selected = iris_without_headers[np.logical_and(sepal_length<5, petal_length>1.5)]\n",
    "# OR another way\n",
    "cond1 = sepal_length<5 \n",
    "cond2 = petal_length>1.5\n",
    "selected = iris_without_headers[cond1 & cond2]\n",
    "\n",
    "print(selected)\n",
    "print(selected.shape)"
   ]
  }
 ],
 "metadata": {
  "kernelspec": {
   "display_name": "Python 3",
   "language": "python",
   "name": "python3"
  },
  "language_info": {
   "codemirror_mode": {
    "name": "ipython",
    "version": 3
   },
   "file_extension": ".py",
   "mimetype": "text/x-python",
   "name": "python",
   "nbconvert_exporter": "python",
   "pygments_lexer": "ipython3",
   "version": "3.8.10"
  }
 },
 "nbformat": 4,
 "nbformat_minor": 5
}
