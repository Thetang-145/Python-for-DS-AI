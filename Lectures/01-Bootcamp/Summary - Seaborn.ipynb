{
 "cells": [
  {
   "cell_type": "code",
   "execution_count": null,
   "id": "9136b02e",
   "metadata": {},
   "outputs": [],
   "source": [
    "# boxplot\n",
    "ax = sns.boxplot(x=\"x_column\", y=\"y_column\", hue=\"hue_column\", data=room_prices, fliersize=0)\n",
    "# fliersize => Outlier size, fliersize=0 => not show outlier"
   ]
  },
  {
   "cell_type": "code",
   "execution_count": null,
   "id": "e8855163",
   "metadata": {},
   "outputs": [],
   "source": []
  }
 ],
 "metadata": {
  "kernelspec": {
   "display_name": "Python 3",
   "language": "python",
   "name": "python3"
  },
  "language_info": {
   "codemirror_mode": {
    "name": "ipython",
    "version": 3
   },
   "file_extension": ".py",
   "mimetype": "text/x-python",
   "name": "python",
   "nbconvert_exporter": "python",
   "pygments_lexer": "ipython3",
   "version": "3.8.10"
  }
 },
 "nbformat": 4,
 "nbformat_minor": 5
}
