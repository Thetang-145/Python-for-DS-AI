{
 "cells": [
  {
   "cell_type": "markdown",
   "id": "de51cbe9",
   "metadata": {},
   "source": [
    "# Quizzes & Tasks"
   ]
  },
  {
   "cell_type": "code",
   "execution_count": 43,
   "id": "b429f8ea",
   "metadata": {},
   "outputs": [
    {
     "data": {
      "text/plain": [
       "(15, 2)"
      ]
     },
     "execution_count": 43,
     "metadata": {},
     "output_type": "execute_result"
    }
   ],
   "source": [
    "import numpy as np\n",
    "X1 = np.random.randint(0,10,(4,2))\n",
    "X2 = np.random.randint(0,10,(5,2))\n",
    "X3 = np.random.randint(0,10,(6,2))\n",
    "c = np.concatenate((X1,X2,X3))\n",
    "c.shape\n"
   ]
  },
  {
   "cell_type": "code",
   "execution_count": 64,
   "id": "6b3e706f",
   "metadata": {},
   "outputs": [
    {
     "data": {
      "text/plain": [
       "array([[ 0,  1,  4,  9, 16]])"
      ]
     },
     "execution_count": 64,
     "metadata": {},
     "output_type": "execute_result"
    }
   ],
   "source": [
    "Z = np.array(list(range(5)))\n",
    "X1 = Z.reshape(1,5)\n",
    "X2 = Z.reshape(5)\n",
    "c = X1*X2\n",
    "c.shape\n",
    "c\n"
   ]
  },
  {
   "cell_type": "code",
   "execution_count": 77,
   "id": "5f011fbd",
   "metadata": {},
   "outputs": [
    {
     "name": "stdout",
     "output_type": "stream",
     "text": [
      "[[ True  True  True]\n",
      " [ True False False]]\n",
      "[0 1 2 3]\n"
     ]
    }
   ],
   "source": [
    "X = np.array(list(range(6)))\n",
    "X = X.reshape(2,3)\n",
    "print(X < 4)\n",
    "print(X[X < 4])"
   ]
  },
  {
   "cell_type": "code",
   "execution_count": 85,
   "id": "9c2ff354",
   "metadata": {},
   "outputs": [
    {
     "name": "stdout",
     "output_type": "stream",
     "text": [
      "[[1 0 1]\n",
      " [1 0 1]]\n",
      "[False  True False]\n",
      "[ True  True]\n"
     ]
    }
   ],
   "source": [
    "X = [[1,0,1]]\n",
    "X= np.concatenate((X,X))\n",
    "print(X)\n",
    "print(np.all( X == 0, axis = 0))\n",
    "print(np.any( X == 1, axis = 1))"
   ]
  },
  {
   "cell_type": "code",
   "execution_count": 87,
   "id": "580d8027",
   "metadata": {},
   "outputs": [
    {
     "name": "stdout",
     "output_type": "stream",
     "text": [
      "[6 5 1]\n",
      "[5 3 4]\n"
     ]
    }
   ],
   "source": [
    "X = np.array(list(range(9)))\n",
    "X = X.reshape(3,3)\n",
    "print(X[ [2, 1, 0], [ 0, 2, 1]])\n",
    "print(X[1 , [2, 0, 1]])"
   ]
  },
  {
   "cell_type": "code",
   "execution_count": 89,
   "id": "34a8dc7f",
   "metadata": {},
   "outputs": [
    {
     "data": {
      "text/plain": [
       "array([[1., 1., 1., 1.],\n",
       "       [1., 1., 1., 1.],\n",
       "       [1., 1., 1., 1.]])"
      ]
     },
     "execution_count": 89,
     "metadata": {},
     "output_type": "execute_result"
    }
   ],
   "source": [
    "np.ones((3,4))"
   ]
  }
 ],
 "metadata": {
  "kernelspec": {
   "display_name": "Python 3",
   "language": "python",
   "name": "python3"
  },
  "language_info": {
   "codemirror_mode": {
    "name": "ipython",
    "version": 3
   },
   "file_extension": ".py",
   "mimetype": "text/x-python",
   "name": "python",
   "nbconvert_exporter": "python",
   "pygments_lexer": "ipython3",
   "version": "3.8.10"
  }
 },
 "nbformat": 4,
 "nbformat_minor": 5
}
