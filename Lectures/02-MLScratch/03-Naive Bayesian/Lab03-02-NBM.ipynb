{
 "cells": [
  {
   "cell_type": "code",
   "execution_count": 14,
   "source": [
    "import numpy as np\r\n",
    "import matplotlib.pyplot as plt\r\n",
    "from sklearn.feature_extraction.text import CountVectorizer, TfidfTransformer"
   ],
   "outputs": [],
   "metadata": {}
  },
  {
   "cell_type": "code",
   "execution_count": 62,
   "source": [
    "class NBM:\r\n",
    "    def __init__(self, vectorizer='count', laplace=1):\r\n",
    "        self.laplace = laplace\r\n",
    "        self.vectorizer = vectorizer\r\n",
    "\r\n",
    "    def transform(self, X_train, X_test, method):\r\n",
    "        v = CountVectorizer()\r\n",
    "        X_train = v.fit_transform(X_train)\r\n",
    "        X_test = vectorizer.transform(X_test)\r\n",
    "        if method == 'Tfid':\r\n",
    "            print(\"Tfid\")\r\n",
    "            v = TfidfTransformer()\r\n",
    "            X_train = v.fit_transform(X_train)\r\n",
    "            X_test = vectorizer.transform(X_test)\r\n",
    "        return X_train, X_test.toarray() \r\n",
    "\r\n",
    "    def fit(self, X, y):\r\n",
    "        # Shape        \r\n",
    "        m, n = X.shape\r\n",
    "        self.classes = np.unique(y)\r\n",
    "        k = len(self.classes)\r\n",
    "        # fit\r\n",
    "        self.likelihoods = np.zeros((k,n))\r\n",
    "        self.priors = np.zeros(k)\r\n",
    "        for idx, label in enumerate(self.classes):\r\n",
    "            X_classed = X[y==label]\r\n",
    "            self.likelihoods[idx,:] = self.likelihood_fn(X_classed)\r\n",
    "            self.priors[idx] = self.prior_fn(y, label)\r\n",
    "\r\n",
    "    def likelihood_fn(self, X_class):\r\n",
    "        dividend  = ((X_class.sum(axis=0)) + self.laplace)\r\n",
    "        devider = (np.sum(X_class.sum(axis=0) + self.laplace))\r\n",
    "        return  dividend/devider\r\n",
    "\r\n",
    "    def prior_fn(self, y, label):\r\n",
    "        return len(y[y==label])/len(y)\r\n",
    "\r\n",
    "    def predict(self, X_test):\r\n",
    "        yhat = np.log(self.priors) + X_test @ np.log(self.likelihoods.T)\r\n",
    "        yhat = np.argmax(yhat, axis=1)\r\n",
    "        return yhat\r\n",
    "    \r\n"
   ],
   "outputs": [],
   "metadata": {}
  },
  {
   "cell_type": "code",
   "execution_count": 50,
   "source": [
    "from sklearn.datasets import fetch_20newsgroups\r\n",
    "\r\n",
    "data = fetch_20newsgroups()\r\n",
    "data.target_names"
   ],
   "outputs": [
    {
     "output_type": "execute_result",
     "data": {
      "text/plain": [
       "['alt.atheism',\n",
       " 'comp.graphics',\n",
       " 'comp.os.ms-windows.misc',\n",
       " 'comp.sys.ibm.pc.hardware',\n",
       " 'comp.sys.mac.hardware',\n",
       " 'comp.windows.x',\n",
       " 'misc.forsale',\n",
       " 'rec.autos',\n",
       " 'rec.motorcycles',\n",
       " 'rec.sport.baseball',\n",
       " 'rec.sport.hockey',\n",
       " 'sci.crypt',\n",
       " 'sci.electronics',\n",
       " 'sci.med',\n",
       " 'sci.space',\n",
       " 'soc.religion.christian',\n",
       " 'talk.politics.guns',\n",
       " 'talk.politics.mideast',\n",
       " 'talk.politics.misc',\n",
       " 'talk.religion.misc']"
      ]
     },
     "metadata": {},
     "execution_count": 50
    }
   ],
   "metadata": {}
  },
  {
   "cell_type": "code",
   "execution_count": 54,
   "source": [
    "categories = ['talk.religion.misc', 'soc.religion.christian',\r\n",
    "              'sci.space', 'comp.graphics']\r\n",
    "train = fetch_20newsgroups(subset='train', categories=categories)\r\n",
    "test = fetch_20newsgroups(subset='test', categories=categories)"
   ],
   "outputs": [],
   "metadata": {}
  },
  {
   "cell_type": "code",
   "execution_count": 56,
   "source": [
    "vectorizer = CountVectorizer()\r\n",
    "X_train = vectorizer.fit_transform(train.data)\r\n",
    "X_test = vectorizer.transform(test.data)\r\n",
    "X_test = X_test.toarray()  #vectorizer gives us a sparse matrix; convert back to dense matrix\r\n",
    "\r\n",
    "y_train = train.target\r\n",
    "y_test = test.target\r\n",
    "\r\n",
    "'''print(\"X_train: \", X_train[0])\r\n",
    "print(\"y_train: \", y_train[0])'''\r\n",
    "\r\n",
    "print(X_test.shape)\r\n",
    "print(X_train.shape)"
   ],
   "outputs": [
    {
     "output_type": "stream",
     "name": "stdout",
     "text": [
      "(1432, 35329)\n",
      "(2153, 35329)\n"
     ]
    }
   ],
   "metadata": {}
  },
  {
   "cell_type": "code",
   "execution_count": 64,
   "source": [
    "model = NBM()\r\n",
    "\r\n",
    "X_train, X_test = model.transform(train.data, test.data, 'Count')\r\n",
    "y_train = train.target\r\n",
    "y_test = test.target\r\n",
    "\r\n",
    "print(X_train.shape)\r\n",
    "print(X_test.shape)\r\n",
    "\r\n",
    "\r\n",
    "model.fit(X_train, y_train)\r\n",
    "\r\n",
    "yhat = model.predict(X_train)"
   ],
   "outputs": [
    {
     "output_type": "stream",
     "name": "stdout",
     "text": [
      "(2153, 35329)\n",
      "(1432, 35329)\n"
     ]
    }
   ],
   "metadata": {}
  }
 ],
 "metadata": {
  "orig_nbformat": 4,
  "language_info": {
   "name": "python",
   "version": "3.8.10",
   "mimetype": "text/x-python",
   "codemirror_mode": {
    "name": "ipython",
    "version": 3
   },
   "pygments_lexer": "ipython3",
   "nbconvert_exporter": "python",
   "file_extension": ".py"
  },
  "kernelspec": {
   "name": "python3",
   "display_name": "Python 3.8.10 64-bit ('base': conda)"
  },
  "interpreter": {
   "hash": "54d292b6f3ca4ff13f504c55e6e4b729c6c0a14070d37d9d8c8aca786423add6"
  }
 },
 "nbformat": 4,
 "nbformat_minor": 2
}