{
 "cells": [
  {
   "cell_type": "markdown",
   "metadata": {},
   "source": [
    "## 01 - Naive Bayesian - Gaussian - Lab\n",
    "===Task===\n",
    "\n",
    "* Generate a 2 class data using sklearn.\n",
    "* Put Gaussian Naive Bayesian Classification into class\n",
    "* Fit the model on the data then calculate accuracy accordingly."
   ]
  },
  {
   "cell_type": "code",
   "execution_count": 72,
   "metadata": {},
   "outputs": [
    {
     "name": "stdout",
     "output_type": "stream",
     "text": [
      "(500, 10)\n",
      "(500,)\n",
      "[0 1]\n"
     ]
    }
   ],
   "source": [
    "# Import library\n",
    "from sklearn.datasets import make_classification\n",
    "from sklearn.model_selection import train_test_split\n",
    "from sklearn.preprocessing import StandardScaler\n",
    "import numpy as np\n",
    "\n",
    "# Load the data\n",
    "X, y = make_classification(n_samples=500, n_features=10, n_informative=4,\n",
    "                             n_clusters_per_class=2, random_state=14)\n",
    "\n",
    "# Scale\n",
    "scaler = StandardScaler()\n",
    "X = scaler.fit_transform(X)\n",
    "\n",
    "# Split\n",
    "X_train, X_test, y_train, y_test = train_test_split(X, y, test_size=0.3)\n",
    "\n",
    "print(X.shape)\n",
    "print(y.shape)\n",
    "print(np.unique(y))"
   ]
  },
  {
   "cell_type": "code",
   "execution_count": 73,
   "metadata": {},
   "outputs": [],
   "source": [
    "class GaussianNaive:\n",
    "    def fit(self, X, y):\n",
    "        n = X.shape[1]\n",
    "        self.k =len(np.unique(y))\n",
    "        self.mean = np.zeros((self.k, n))\n",
    "        self.std = np.zeros((self.k, n))\n",
    "        m = np.zeros(self.k)\n",
    "        for label in range(self.k):\n",
    "            self.mean[label, :] = X[y==label].mean(axis=0)\n",
    "            self.std[label, :]  = X[y==label].std(axis=0)\n",
    "            m[label] = len(X[y==label])\n",
    "        self.prior = m/sum(m)\n",
    "\n",
    "    def gaussian_pdf(self, X, mean, std):\n",
    "        left = 1 / (np.sqrt(2 * np.pi) * std)\n",
    "        e = (X - mean) ** 2 / (2 * (std ** 2))\n",
    "        right = np.exp(-e)\n",
    "        return left*right\n",
    "\n",
    "    def predict(self, X):\n",
    "        posterior = np.zeros((X.shape[0], self.k))\n",
    "        for label in range(self.k):\n",
    "            likelihood = self.gaussian_pdf(X, self.mean[label,:], self.std[label,:])\n",
    "            total_likelihood = np.prod(likelihood, axis=1)\n",
    "            posterior[:,label] = self.prior[label]*total_likelihood\n",
    "        yhat = np.argmax(posterior, axis=1)\n",
    "        return yhat\n"
   ]
  },
  {
   "cell_type": "code",
   "execution_count": 74,
   "metadata": {},
   "outputs": [],
   "source": [
    "model = GaussianNaive()\n",
    "model.fit(X_train, y_train)\n",
    "yhat = model.predict(X_test)\n"
   ]
  },
  {
   "cell_type": "code",
   "execution_count": 75,
   "metadata": {},
   "outputs": [
    {
     "name": "stdout",
     "output_type": "stream",
     "text": [
      "=========Average precision score=======\n",
      "0.9065986724947386\n",
      "\n",
      "=========Classification report=======\n",
      "Report:                precision    recall  f1-score   support\n",
      "\n",
      "           0       0.78      0.98      0.87        63\n",
      "           1       0.99      0.80      0.89        87\n",
      "\n",
      "    accuracy                           0.88       150\n",
      "   macro avg       0.89      0.89      0.88       150\n",
      "weighted avg       0.90      0.88      0.88       150\n",
      "\n"
     ]
    }
   ],
   "source": [
    "from sklearn.metrics import average_precision_score, classification_report\n",
    "print(\"=========Average precision score=======\")\n",
    "print(average_precision_score(y_test, yhat))\n",
    "print(\"\\n=========Classification report=======\")\n",
    "print(\"Report: \", classification_report(y_test, yhat))"
   ]
  }
 ],
 "metadata": {
  "interpreter": {
   "hash": "54d292b6f3ca4ff13f504c55e6e4b729c6c0a14070d37d9d8c8aca786423add6"
  },
  "kernelspec": {
   "display_name": "Python 3",
   "language": "python",
   "name": "python3"
  },
  "language_info": {
   "codemirror_mode": {
    "name": "ipython",
    "version": 3
   },
   "file_extension": ".py",
   "mimetype": "text/x-python",
   "name": "python",
   "nbconvert_exporter": "python",
   "pygments_lexer": "ipython3",
   "version": "3.8.10"
  }
 },
 "nbformat": 4,
 "nbformat_minor": 2
}
