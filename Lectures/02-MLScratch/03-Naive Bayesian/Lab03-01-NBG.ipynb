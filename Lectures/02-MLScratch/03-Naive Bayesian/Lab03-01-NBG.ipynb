{
 "cells": [
  {
   "cell_type": "markdown",
   "source": [
    "### ===Task===\r\n",
    "\r\n",
    "Load the iris data, and use this Gaussian Naive Classification.  Put them into class and calculate accuracy accordingly."
   ],
   "metadata": {}
  },
  {
   "cell_type": "code",
   "execution_count": 21,
   "source": [
    "# Import library\r\n",
    "from sklearn.datasets import make_classification\r\n",
    "from sklearn.model_selection import train_test_split\r\n",
    "from sklearn.preprocessing import StandardScaler\r\n",
    "import numpy as np\r\n",
    "\r\n",
    "# Load the data\r\n",
    "X, y = make_classification(n_samples=500, n_features=10, n_redundant=2, n_informative=4,\r\n",
    "                             n_clusters_per_class=2, random_state=14)\r\n",
    "\r\n",
    "# Scale\r\n",
    "scaler = StandardScaler()\r\n",
    "X = scaler.fit_transform(X)\r\n",
    "\r\n",
    "# Split\r\n",
    "X_train, X_test, y_train, y_test = train_test_split(X, y, test_size=0.3)\r\n",
    "\r\n",
    "print(X.shape)\r\n",
    "print(y.shape)\r\n",
    "print(np.unique(y))"
   ],
   "outputs": [
    {
     "output_type": "stream",
     "name": "stdout",
     "text": [
      "(500, 10)\n",
      "(500,)\n",
      "[0 1]\n"
     ]
    }
   ],
   "metadata": {}
  },
  {
   "cell_type": "code",
   "execution_count": null,
   "source": [
    "class GaussianNaive:\r\n",
    "    def __init__(self):\r\n",
    "        pass\r\n",
    "\r\n",
    "    def fit(self, X, y, k):\r\n",
    "        n = X.shape[1]\r\n",
    "        self.mean = np.zeros((k, n))\r\n",
    "        self.std = np.zeros((k, n))\r\n",
    "        m = []\r\n",
    "        for label in range(k):\r\n",
    "            self.mean[label, :] = X[y==label].mean(axis=0)\r\n",
    "            self.std[label, :]  = X[y==label].std(axis=0)\r\n",
    "            m.append(len(X[y==label]))\r\n",
    "        prior = m/sum(m)\r\n",
    "\r\n",
    "    def gaussian_pdf(self, X, mean, std):\r\n",
    "        left = 1 / (np.sqrt(2 * np.pi) * std)\r\n",
    "        e = (X - mean) ** 2 / (2 * (std ** 2))\r\n",
    "        right = np.exp(-e)\r\n",
    "        return left*right\r\n",
    "\r\n",
    "    def predict(self):\r\n",
    "        pass\r\n",
    "\r\n",
    "# P(class0) * P(feature1|class0) * P(feature2|class0)\r\n",
    "posterior0 = prior0 * total_likelihood0    \r\n",
    "# P(class1) * P(feature1|class1) * P(feature2|class1)\r\n",
    "posterior1 = prior1 * total_likelihood1"
   ],
   "outputs": [],
   "metadata": {}
  },
  {
   "cell_type": "code",
   "execution_count": 3,
   "source": [
    "def gaussian_pdf( X, mean, std):\r\n",
    "    left = 1 / (np.sqrt(2 * np.pi) * std)\r\n",
    "    e = (X - mean) ** 2 / (2 * (std ** 2))\r\n",
    "    right = np.exp(-e)\r\n",
    "    return left*right"
   ],
   "outputs": [],
   "metadata": {}
  },
  {
   "cell_type": "code",
   "execution_count": 18,
   "source": [
    "k=2\r\n",
    "n = X.shape[1]\r\n",
    "mean = np.zeros((k, n))\r\n",
    "std = np.zeros((k, n))\r\n",
    "m = np.zeros(k)\r\n",
    "for label in range(k):\r\n",
    "    mean[label, :] = X[y==label].mean(axis=0)\r\n",
    "    std[label, :]  = X[y==label].std(axis=0)\r\n",
    "    m[label] = (len(X[y==label]))\r\n",
    "prior = m/sum(m)\r\n",
    "px_y = []\r\n",
    "total_likelihood = []        \r\n",
    "for label in range(k):\r\n",
    "    px_y.append(gaussian_pdf(X, mean[label,:],std[label,:]))\r\n",
    "    total_likelihood.append(np.prod(px_y[label], axis=1))\r\n",
    "print(total_likelihood[0].shape)\r\n",
    "#posterior = prior*total_likelihood\r\n",
    "#print(posterior)"
   ],
   "outputs": [
    {
     "output_type": "stream",
     "name": "stdout",
     "text": [
      "(500,)\n"
     ]
    }
   ],
   "metadata": {}
  }
 ],
 "metadata": {
  "orig_nbformat": 4,
  "language_info": {
   "name": "python",
   "version": "3.8.10",
   "mimetype": "text/x-python",
   "codemirror_mode": {
    "name": "ipython",
    "version": 3
   },
   "pygments_lexer": "ipython3",
   "nbconvert_exporter": "python",
   "file_extension": ".py"
  },
  "kernelspec": {
   "name": "python3",
   "display_name": "Python 3.8.10 64-bit ('base': conda)"
  },
  "interpreter": {
   "hash": "54d292b6f3ca4ff13f504c55e6e4b729c6c0a14070d37d9d8c8aca786423add6"
  }
 },
 "nbformat": 4,
 "nbformat_minor": 2
}