{
 "cells": [
  {
   "cell_type": "markdown",
   "source": [
    "### ===Task===\n",
    "\n",
    "Your work: Let's modify the above scratch code:\n",
    "- Modify so it print out the total within-cluster variation.  Then try to run several k and identify which k is best.\n",
    "- Since k-means can be slow due to its pairwise computations, let's implement a mini-batch k-means in which the cluster is create using only partial subset of samples.\n",
    "- Put everything into a class"
   ],
   "metadata": {}
  },
  {
   "cell_type": "code",
   "execution_count": 16,
   "source": [
    "import numpy as np\r\n",
    "import matplotlib.pyplot as plt\r\n",
    "from sklearn.metrics import pairwise_distances_argmin\r\n",
    "from time import time\r\n",
    "\r\n",
    "class kmeans:\r\n",
    "    def __init__(self, precent_batch=50, tol=1e-2, max_iter=10000):\r\n",
    "        self.precent_batch = precent_batch\r\n",
    "        self.tol = tol\r\n",
    "        self.max_iter = max_iter\r\n",
    "\r\n",
    "    def plot_K_variation(self, X, K_max):\r\n",
    "        variation_list = []\r\n",
    "        K_list = range(2,K_max+1)\r\n",
    "        for K in K_list:\r\n",
    "            self.fit(X, K)\r\n",
    "            print('K:', K, ', Number of iteration:', self.iteration, ', Variation', self.variation)\r\n",
    "            variation_list.append(self.variation)\r\n",
    "        plt.plot(K_list, variation_list)\r\n",
    "        plt.xlabel('K')\r\n",
    "        plt.ylabel('Variation')\r\n",
    "    \r\n",
    "    def fit(self, X, n_clusters):\r\n",
    "        m, n = X.shape\r\n",
    "\r\n",
    "        #1. randomly choose n clusters from X\r\n",
    "        #you can also randomly generate any two points\r\n",
    "        rng = np.random.RandomState(42)\r\n",
    "        i = rng.permutation(m)[:n_clusters]\r\n",
    "        self.centers = X[i]\r\n",
    "\r\n",
    "        for iter in range(self.max_iter):\r\n",
    "            batch_size = int(self.precent_batch*m/100)\r\n",
    "            batch_idx = np.random.permutation(m)\r\n",
    "            X_batch = X[batch_idx[:batch_size]]\r\n",
    "            #2. assign lables based on closest center\r\n",
    "            #return the index of centers having smallest\r\n",
    "            #distance with X\r\n",
    "            labels = pairwise_distances_argmin(X_batch, self.centers)\r\n",
    "\r\n",
    "            #3. find new centers\r\n",
    "            new_centers = []\r\n",
    "            for i in range(n_clusters):\r\n",
    "                new_centers.append(X_batch[labels == i].mean(axis=0))\r\n",
    "\r\n",
    "            #convert list to np.array; you can actually combine #3\r\n",
    "            #with np.array in one sentence \r\n",
    "            new_centers = np.array(new_centers)\r\n",
    "\r\n",
    "            #4 stopping criteria - if centers do not \r\n",
    "            #change anymore, we stop!\r\n",
    "            if(np.allclose(self.centers, new_centers, rtol=self.tol)):\r\n",
    "                break\r\n",
    "            else:\r\n",
    "                self.centers = new_centers\r\n",
    "        self.iteration = iter+1\r\n",
    "        self.variation = 0\r\n",
    "        labels = pairwise_distances_argmin(X, self.centers)\r\n",
    "        for i in range(n_clusters):\r\n",
    "            self.variation += np.sum((X[labels==i]-np.mean(X[labels==i],axis=0))**2)\r\n",
    "            \r\n",
    "            \r\n",
    "    def predict(self, X):\r\n",
    "        return pairwise_distances_argmin(X, self.centers)"
   ],
   "outputs": [],
   "metadata": {}
  },
  {
   "cell_type": "code",
   "execution_count": 17,
   "source": [
    "from sklearn.datasets import make_blobs\n",
    "X, y_true = make_blobs(n_samples=1500, centers=4,\n",
    "                       cluster_std=0.60)\n",
    "\n",
    "model = kmeans(precent_batch=50)\n",
    "model.plot_K_variation(X,10)"
   ],
   "outputs": [
    {
     "output_type": "stream",
     "name": "stdout",
     "text": [
      "K: 2 , Number of iteration: 8 , Variation 23901.662839172765\n",
      "K: 3 , Number of iteration: 3 , Variation 4027.825416895559\n",
      "K: 4 , Number of iteration: 45 , Variation 1042.961220642395\n",
      "K: 5 , Number of iteration: 69 , Variation 944.4620545455698\n",
      "K: 6 , Number of iteration: 5 , Variation 891.1775965250613\n",
      "K: 7 , Number of iteration: 33 , Variation 801.1060562085681\n",
      "K: 8 , Number of iteration: 294 , Variation 767.5267080023796\n",
      "K: 9 , Number of iteration: 277 , Variation 679.7166459667055\n",
      "K: 10 , Number of iteration: 10000 , Variation 627.9952188935835\n"
     ]
    },
    {
     "output_type": "display_data",
     "data": {
      "image/png": "[encoded data removed]",
      "text/plain": [
       "<Figure size 432x288 with 1 Axes>"
      ]
     },
     "metadata": {
      "needs_background": "light"
     }
    }
   ],
   "metadata": {}
  },
  {
   "cell_type": "code",
   "execution_count": 18,
   "source": [
    "model.fit(X, 4)\n",
    "x_label = model.predict(X)"
   ],
   "outputs": [],
   "metadata": {}
  },
  {
   "cell_type": "code",
   "execution_count": 19,
   "source": [
    "plt.scatter(X[:,0],X[:,1],c=x_label)"
   ],
   "outputs": [
    {
     "output_type": "execute_result",
     "data": {
      "text/plain": [
       "<matplotlib.collections.PathCollection at 0x176c8679190>"
      ]
     },
     "metadata": {},
     "execution_count": 19
    },
    {
     "output_type": "display_data",
     "data": {
      "image/png": "[encoded data removed]",
      "text/plain": [
       "<Figure size 432x288 with 1 Axes>"
      ]
     },
     "metadata": {
      "needs_background": "light"
     }
    }
   ],
   "metadata": {}
  }
 ],
 "metadata": {
  "interpreter": {
   "hash": "54d292b6f3ca4ff13f504c55e6e4b729c6c0a14070d37d9d8c8aca786423add6"
  },
  "kernelspec": {
   "name": "python3",
   "display_name": "Python 3.8.10 64-bit ('base': conda)"
  },
  "language_info": {
   "codemirror_mode": {
    "name": "ipython",
    "version": 3
   },
   "file_extension": ".py",
   "mimetype": "text/x-python",
   "name": "python",
   "nbconvert_exporter": "python",
   "pygments_lexer": "ipython3",
   "version": "3.8.10"
  }
 },
 "nbformat": 4,
 "nbformat_minor": 2
}