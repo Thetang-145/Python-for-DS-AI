{
 "cells": [
  {
   "cell_type": "markdown",
   "source": [
    "## Quiz 2"
   ],
   "metadata": {}
  },
  {
   "cell_type": "markdown",
   "source": [
    "1. Generate a sample of 200 points from a 2D Gaussian with mean $\\mu_1 = \\begin{bmatrix} 3 \\\\ 3 \\end{bmatrix}$ and covariance $\\Sigma_1 = \\begin{bmatrix} 4 & 0 \\\\ 0 & 4 \\end{bmatrix}$ (1 point)\n",
    "\n",
    "Hint: np.random.multivariate_normal()"
   ],
   "metadata": {}
  },
  {
   "cell_type": "code",
   "execution_count": 9,
   "source": [
    "import numpy as np\r\n",
    "mean = np.array([3, 3])\r\n",
    "cov = np.array([[4, 0],[0, 4]])\r\n",
    "data1 = np.random.multivariate_normal(mean, cov, 200).T"
   ],
   "outputs": [],
   "metadata": {}
  },
  {
   "cell_type": "markdown",
   "source": [
    "2. Generate a second sample of 200 points from a 2D Gaussian with mean $\\mu_2 = \\begin{bmatrix} 5 \\\\ 5 \\end{bmatrix}$ and covariance $\\Sigma_2 = \\begin{bmatrix} 4  &  0 \\\\ 0 & 4 \\end{bmatrix}$. (1 point)\n"
   ],
   "metadata": {}
  },
  {
   "cell_type": "code",
   "execution_count": 10,
   "source": [
    "mean = np.array([5, 5])\r\n",
    "cov = np.array([[4, 0],[0, 4]])\r\n",
    "data2 = np.random.multivariate_normal(mean, cov, 200).T"
   ],
   "outputs": [],
   "metadata": {}
  },
  {
   "cell_type": "markdown",
   "source": [
    "3. Assuming the first set of points is class 0 and the second set of points is class 1, plot the data with different colors for each class below.\n"
   ],
   "metadata": {}
  },
  {
   "cell_type": "code",
   "execution_count": 11,
   "source": [
    "import matplotlib.pyplot as plt\r\n",
    "\r\n",
    "fig, ax = plt.subplots()\r\n",
    "ax.scatter(data1[0], data1[1], color='red')\r\n",
    "ax.scatter(data2[0], data2[1], color='blue')\r\n",
    "\r\n",
    "plt.show()"
   ],
   "outputs": [
    {
     "output_type": "display_data",
     "data": {
      "image/png": "[encoded data removed]",
      "text/plain": [
       "<Figure size 432x288 with 1 Axes>"
      ]
     },
     "metadata": {
      "needs_background": "light"
     }
    }
   ],
   "metadata": {}
  },
  {
   "cell_type": "markdown",
   "source": [
    "4. StandardScale your data and Split to training, validation and testing sets with the ratio of 70:10:20. You may use train_test_split from sklearn or from-scratch. Any of your choosing will do. (2 points)"
   ],
   "metadata": {}
  },
  {
   "cell_type": "code",
   "execution_count": 38,
   "source": [
    "from sklearn.preprocessing import StandardScaler\r\n",
    "from sklearn.model_selection import train_test_split\r\n",
    "\r\n",
    "scaler = StandardScaler()\r\n",
    "\r\n",
    "y1 = np.zeros((200))\r\n",
    "y2 = np.ones((200))\r\n",
    "\r\n",
    "X = np.concatenate((data1, data2), axis=1).T\r\n",
    "y = np.concatenate((y1, y2))\r\n",
    "\r\n",
    "XX = np.concatenate((np.ones((X.shape[0],1)), X), axis=1)\r\n",
    "\r\n",
    "X_transform = scaler.fit_transform(XX)\r\n",
    "\r\n",
    "X_train_val, X_test, y_train_val, y_test = train_test_split(X_transform, y, test_size=0.2)\r\n",
    "\r\n",
    "X_train, X_val, y_train, y_val = train_test_split(X_train_val, y_train_val, test_size=(10/80))"
   ],
   "outputs": [],
   "metadata": {}
  },
  {
   "cell_type": "markdown",
   "source": [
    "5. Perform a classification using logistic regression using LogisticRegression class you have written (hopefully you submitted the assignments). This should be **stochastically** trained. Make sure to plot your training loss during the training. (2 points)"
   ],
   "metadata": {}
  },
  {
   "cell_type": "code",
   "execution_count": 42,
   "source": [
    "# Class Logistic Regression\r\n",
    "class LogisticRegression:\r\n",
    "    def __init__(self, method=\"minibatch\", l_rate=0.01, \r\n",
    "                    batch_percent=10, max_iter=1000):\r\n",
    "        self.method = method\r\n",
    "        self.l_rate = l_rate\r\n",
    "        self.batch_percent = batch_percent\r\n",
    "        self.max_iter = max_iter\r\n",
    "\r\n",
    "    def fit(self, X, y):\r\n",
    "        self.w = np.zeros(X.shape[1])\r\n",
    "        batch_size = int(self.batch_percent/100 * X.shape[0])\r\n",
    "        self.loss = []\r\n",
    "        list_of_used_ix = []     \r\n",
    "        for i in range(self.max_iter):\r\n",
    "            if self.method == \"minibatch\":\r\n",
    "                idx = np.random.randint(0, X.shape[0])\r\n",
    "                batch_X = X[idx:idx+batch_size]\r\n",
    "                batch_y = y[idx:idx+batch_size]\r\n",
    "            elif self.method == \"sto\":\r\n",
    "                idx = np.random.randint(0, X.shape[0])\r\n",
    "                while idx in list_of_used_ix:\r\n",
    "                    idx = np.random.randint(X_train.shape[0])\r\n",
    "                batch_X = X[idx, :].reshape(1, -1)\r\n",
    "                batch_y = y[idx]\r\n",
    "                list_of_used_ix.append(idx)\r\n",
    "                if len(list_of_used_ix) == X_train.shape[0]: list_of_used_ix = []\r\n",
    "            elif self.method == \"batch\":\r\n",
    "                batch_X = X\r\n",
    "                batch_y = y\r\n",
    "            else:\r\n",
    "                print(\"Method is not match\")\r\n",
    "            cost, grad = self.gradient(batch_X, batch_y)\r\n",
    "            self.loss.append(cost)\r\n",
    "            self.w = self.w - self.l_rate * grad\r\n",
    "        self.iter = i+1\r\n",
    "\r\n",
    "    def sigmoid(self, x):        \r\n",
    "        return 1 / (1 + np.exp(-x))\r\n",
    "\r\n",
    "    def gradient(self, X, y):\r\n",
    "        h = self.h_theta(X, self.w)\r\n",
    "        error = h - y\r\n",
    "        # putting negative sign for negative log likelihood\r\n",
    "        cost = - np.sum(y * np.log(h) + (1 - y) * np.log(1 - h))\r\n",
    "        grad = np.dot(X.T, error)\r\n",
    "        return cost, grad\r\n",
    "\r\n",
    "    def h_theta(self, X, w):\r\n",
    "        return self.sigmoid(X @ w)\r\n",
    "\r\n",
    "    def plot_loss(self):\r\n",
    "        x_axis = [*range(self.iter)]\r\n",
    "        y_axis = self.loss\r\n",
    "        plt.plot(x_axis, y_axis)\r\n",
    "        plt.title(\"Losses - iteration\")\r\n",
    "        plt.xlabel(\"Iteration\")\r\n",
    "        plt.ylabel(\"Losses\")\r\n",
    "\r\n",
    "    def y_predict(self, X):\r\n",
    "        return np.round(self.h_theta(X, self.w))\r\n",
    "\r\n",
    "\r\n"
   ],
   "outputs": [],
   "metadata": {}
  },
  {
   "cell_type": "code",
   "execution_count": 69,
   "source": [
    "model = LogisticRegression(method=\"sto\", l_rate=0.001, max_iter=10000)\r\n",
    "model.fit(X_train, y_train)\r\n",
    "yhat = model.y_predict(X_val)"
   ],
   "outputs": [],
   "metadata": {}
  },
  {
   "cell_type": "code",
   "execution_count": 56,
   "source": [
    "plt.plot(list(range(model.iter)), model.loss)\r\n",
    "plt.show"
   ],
   "outputs": [
    {
     "output_type": "execute_result",
     "data": {
      "text/plain": [
       "<function matplotlib.pyplot.show(close=None, block=None)>"
      ]
     },
     "metadata": {},
     "execution_count": 56
    },
    {
     "output_type": "display_data",
     "data": {
      "image/png": "[encoded data removed]",
      "text/plain": [
       "<Figure size 432x288 with 1 Axes>"
      ]
     },
     "metadata": {
      "needs_background": "light"
     }
    }
   ],
   "metadata": {}
  },
  {
   "cell_type": "markdown",
   "source": [
    "6. Evalutate your model using your **from-scratch classification reports**. (1 point)"
   ],
   "metadata": {}
  },
  {
   "cell_type": "code",
   "execution_count": 70,
   "source": [
    "TP = sum((y_val == 1) & (yhat == 1))\r\n",
    "FN = sum((y_val == 1) & (yhat == 0))\r\n",
    "FP = sum((y_val == 0) & (yhat == 1))\r\n",
    "TN = sum((y_val == 0) & (yhat == 0))\r\n",
    "\r\n",
    "accuracy = (TP + TN)/(TP + TN + FP + FN)\r\n",
    "precision = (TP)/(TP + FP)\r\n",
    "recall = (TP)/(TP + FN)\r\n",
    "f1 = (2 * precision * recall)/(precision + recall)\r\n",
    "\r\n",
    "print(\"accuracy:\",accuracy)\r\n",
    "print(\"precision:\",precision)\r\n",
    "print(\"recall:\",recall)\r\n",
    "print(\"f1:\", f1)"
   ],
   "outputs": [
    {
     "output_type": "stream",
     "name": "stdout",
     "text": [
      "accuracy: 0.85\n",
      "precision: 0.75\n",
      "recall: 0.8571428571428571\n",
      "f1: 0.7999999999999999\n"
     ]
    }
   ],
   "metadata": {}
  },
  {
   "cell_type": "markdown",
   "source": [
    "7. Now, perform GNB using sklearn and use **classification_reports from sklearn** to evaluate your model. (1 point)"
   ],
   "metadata": {}
  },
  {
   "cell_type": "code",
   "execution_count": 105,
   "source": [
    "class GaussianNaive:\r\n",
    "    def fit(self, X, y):\r\n",
    "        n = X.shape[1]\r\n",
    "        self.k =len(np.unique(y))\r\n",
    "        self.mean = np.zeros((self.k, n))\r\n",
    "        self.std = np.zeros((self.k, n))\r\n",
    "        m = np.zeros(self.k)\r\n",
    "        for label in range(self.k):\r\n",
    "            self.mean[label, :] = X[y==label].mean(axis=0)\r\n",
    "            self.std[label, :]  = X[y==label].std(axis=0)\r\n",
    "            m[label] = len(X[y==label])\r\n",
    "        self.prior = m/sum(m)\r\n",
    "\r\n",
    "    def gaussian_pdf(self, X, mean, std):\r\n",
    "        left = 1 / (np.sqrt(2 * np.pi) * std)\r\n",
    "        e = (X - mean) ** 2 / (2 * (std ** 2))\r\n",
    "        right = np.exp(-e)\r\n",
    "        return left*right\r\n",
    "\r\n",
    "    def predict(self, X):\r\n",
    "        posterior = np.zeros((X.shape[0], self.k))\r\n",
    "        for label in range(self.k):\r\n",
    "            likelihood = self.gaussian_pdf(X, self.mean[label,:], self.std[label,:])\r\n",
    "            total_likelihood = np.prod(likelihood, axis=1)\r\n",
    "            posterior[:,label] = self.prior[label]*total_likelihood\r\n",
    "        yhat = np.argmax(posterior, axis=1)\r\n",
    "        return yhat\r\n"
   ],
   "outputs": [],
   "metadata": {}
  },
  {
   "cell_type": "code",
   "execution_count": 106,
   "source": [
    "print(X_train[:,1:].shape)\r\n",
    "model2 = GaussianNaive()\r\n",
    "model2.fit(X_train[:,1:], y_train)\r\n",
    "yhat = model2.predict(X_val[:,1:])\r\n",
    "\r\n",
    "\r\n",
    "TP = sum((y_val == 1) & (yhat == 1))\r\n",
    "FN = sum((y_val == 1) & (yhat == 0))\r\n",
    "FP = sum((y_val == 0) & (yhat == 1))\r\n",
    "TN = sum((y_val == 0) & (yhat == 0))\r\n",
    "\r\n",
    "accuracy = (TP + TN)/(TP + TN + FP + FN)\r\n",
    "precision = (TP)/(TP + FP)\r\n",
    "recall = (TP)/(TP + FN)\r\n",
    "f1 = (2 * precision * recall)/(precision + recall)\r\n",
    "\r\n",
    "print(\"accuracy:\",accuracy)\r\n",
    "print(\"precision:\",precision)\r\n",
    "print(\"recall:\",recall)\r\n",
    "print(\"f1:\", f1)"
   ],
   "outputs": [
    {
     "output_type": "stream",
     "name": "stdout",
     "text": [
      "(280, 2)\n",
      "accuracy: 0.8\n",
      "precision: 0.6666666666666666\n",
      "recall: 0.8571428571428571\n",
      "f1: 0.75\n"
     ]
    }
   ],
   "metadata": {}
  },
  {
   "cell_type": "markdown",
   "source": [
    "8. In Q4, you were asked to set aside some data as your validation set. Notice that we have not used it at all. If we were to use it, how would you go about this? (1 point)"
   ],
   "metadata": {}
  },
  {
   "cell_type": "markdown",
   "source": [
    "* We can use the validation set in case that we want to find the best hyperparameter of model. If we try to train the model by using a set of hyperparameter, we can test which value is the best by test the validation set and calculate the accuracy."
   ],
   "metadata": {}
  },
  {
   "cell_type": "markdown",
   "source": [
    "9. **Discuss** your results (DISCUSS NOT REPORT). (2 points)\n",
    "\n",
    "Examples: which one is better, why? and why not?. The nature of data? which model is more suitable? How to improve your results? "
   ],
   "metadata": {}
  },
  {
   "cell_type": "code",
   "execution_count": 16,
   "source": [
    "# Your DISCUSSION here"
   ],
   "outputs": [],
   "metadata": {}
  }
 ],
 "metadata": {
  "kernelspec": {
   "name": "python3",
   "display_name": "Python 3.8.10 64-bit ('base': conda)"
  },
  "language_info": {
   "codemirror_mode": {
    "name": "ipython",
    "version": 3
   },
   "file_extension": ".py",
   "mimetype": "text/x-python",
   "name": "python",
   "nbconvert_exporter": "python",
   "pygments_lexer": "ipython3",
   "version": "3.8.10"
  },
  "interpreter": {
   "hash": "54d292b6f3ca4ff13f504c55e6e4b729c6c0a14070d37d9d8c8aca786423add6"
  }
 },
 "nbformat": 4,
 "nbformat_minor": 5
}