{
 "cells": [
  {
   "cell_type": "markdown",
   "id": "marked-orchestra",
   "metadata": {},
   "source": [
    "## Quiz 2"
   ]
  },
  {
   "cell_type": "markdown",
   "id": "liked-silence",
   "metadata": {},
   "source": [
    "1. Generate a sample of 200 points from a 2D Gaussian with mean $\\mu_1 = \\begin{bmatrix} 3 \\\\ 3 \\end{bmatrix}$ and covariance $\\Sigma_1 = \\begin{bmatrix} 4 & 0 \\\\ 0 & 4 \\end{bmatrix}$ (1 point)\n",
    "\n",
    "Hint: np.random.multivariate_normal()"
   ]
  },
  {
   "cell_type": "code",
   "execution_count": 30,
   "id": "vanilla-tuning",
   "metadata": {},
   "outputs": [],
   "source": [
    "import numpy as np\n",
    "mean = np.array([3, 3])\n",
    "cov = np.array([[4, 0],[0, 4]])\n",
    "data1 = np.random.multivariate_normal(mean, cov, 200).T"
   ]
  },
  {
   "cell_type": "markdown",
   "id": "planned-metro",
   "metadata": {},
   "source": [
    "2. Generate a second sample of 200 points from a 2D Gaussian with mean $\\mu_2 = \\begin{bmatrix} 5 \\\\ 5 \\end{bmatrix}$ and covariance $\\Sigma_2 = \\begin{bmatrix} 4  &  0 \\\\ 0 & 4 \\end{bmatrix}$. (1 point)\n"
   ]
  },
  {
   "cell_type": "code",
   "execution_count": 31,
   "id": "aggregate-damages",
   "metadata": {},
   "outputs": [],
   "source": [
    "mean = np.array([5, 5])\n",
    "cov = np.array([[4, 0],[0, 4]])\n",
    "data2 = np.random.multivariate_normal(mean, cov, 200).T"
   ]
  },
  {
   "cell_type": "markdown",
   "id": "entire-rapid",
   "metadata": {},
   "source": [
    "3. Assuming the first set of points is class 0 and the second set of points is class 1, plot the data with different colors for each class below.\n"
   ]
  },
  {
   "cell_type": "code",
   "execution_count": 32,
   "id": "loaded-friday",
   "metadata": {},
   "outputs": [
    {
     "data": {
      "image/png": "[encoded data removed]",
      "text/plain": [
       "<Figure size 432x288 with 1 Axes>"
      ]
     },
     "metadata": {
      "needs_background": "light"
     },
     "output_type": "display_data"
    }
   ],
   "source": [
    "import matplotlib.pyplot as plt\n",
    "\n",
    "fig, ax = plt.subplots()\n",
    "ax.scatter(data1[0], data1[1], color='red')\n",
    "ax.scatter(data2[0], data2[1], color='blue')\n",
    "\n",
    "plt.show()"
   ]
  },
  {
   "cell_type": "markdown",
   "id": "surprising-trust",
   "metadata": {},
   "source": [
    "4. StandardScale your data and Split to training, validation and testing sets with the ratio of 70:10:20. You may use train_test_split from sklearn or from-scratch. Any of your choosing will do. (2 points)"
   ]
  },
  {
   "cell_type": "code",
   "execution_count": 57,
   "id": "perfect-ebony",
   "metadata": {},
   "outputs": [],
   "source": [
    "from sklearn.preprocessing import StandardScaler\n",
    "from sklearn.model_selection import train_test_split\n",
    "\n",
    "scaler = StandardScaler()\n",
    "\n",
    "y1 = np.zeros((200))\n",
    "y2 = np.ones((200))\n",
    "\n",
    "X = np.concatenate((data1, data2), axis=1).T\n",
    "y = np.concatenate((y1, y2))\n",
    "\n",
    "X_transform = scaler.fit_transform(X)\n",
    "\n",
    "X_train_val, X_test, y_train_val, y_test = train_test_split(X_transform, y, test_size=0.8)\n",
    "\n",
    "X_train, X_val, y_train, y_val = train_test_split(X_train_val, y_train_val, test_size=(70/80))"
   ]
  },
  {
   "cell_type": "markdown",
   "id": "chemical-syndication",
   "metadata": {},
   "source": [
    "5. Perform a classification using logistic regression using LogisticRegression class you have written (hopefully you submitted the assignments). This should be **stochastically** trained. Make sure to plot your training loss during the training. (2 points)"
   ]
  },
  {
   "cell_type": "code",
   "execution_count": 5,
   "id": "suspected-chicago",
   "metadata": {},
   "outputs": [],
   "source": []
  },
  {
   "cell_type": "markdown",
   "id": "linear-princeton",
   "metadata": {},
   "source": [
    "6. Evalutate your model using your **from-scratch classification reports**. (1 point)"
   ]
  },
  {
   "cell_type": "code",
   "execution_count": 6,
   "id": "honest-plant",
   "metadata": {},
   "outputs": [],
   "source": [
    "# Your code here\n"
   ]
  },
  {
   "cell_type": "markdown",
   "id": "separate-mistake",
   "metadata": {},
   "source": [
    "7. Now, perform GNB using sklearn and use **classification_reports from sklearn** to evaluate your model. (1 point)"
   ]
  },
  {
   "cell_type": "code",
   "execution_count": 7,
   "id": "close-airline",
   "metadata": {},
   "outputs": [],
   "source": [
    "# Your code here\n"
   ]
  },
  {
   "cell_type": "markdown",
   "id": "periodic-memorabilia",
   "metadata": {},
   "source": [
    "8. In Q4, you were asked to set aside some data as your validation set. Notice that we have not used it at all. If we were to use it, how would you go about this? (1 point)"
   ]
  },
  {
   "cell_type": "code",
   "execution_count": null,
   "id": "wrong-sharing",
   "metadata": {},
   "outputs": [],
   "source": [
    "# Your answer here"
   ]
  },
  {
   "cell_type": "markdown",
   "id": "streaming-customs",
   "metadata": {},
   "source": [
    "9. **Discuss** your results (DISCUSS NOT REPORT). (2 points)\n",
    "\n",
    "Examples: which one is better, why? and why not?. The nature of data? which model is more suitable? How to improve your results? "
   ]
  },
  {
   "cell_type": "code",
   "execution_count": 8,
   "id": "unlike-tsunami",
   "metadata": {},
   "outputs": [],
   "source": [
    "# Your DISCUSSION here"
   ]
  }
 ],
 "metadata": {
  "kernelspec": {
   "display_name": "Python 3",
   "language": "python",
   "name": "python3"
  },
  "language_info": {
   "codemirror_mode": {
    "name": "ipython",
    "version": 3
   },
   "file_extension": ".py",
   "mimetype": "text/x-python",
   "name": "python",
   "nbconvert_exporter": "python",
   "pygments_lexer": "ipython3",
   "version": "3.8.10"
  }
 },
 "nbformat": 4,
 "nbformat_minor": 5
}
