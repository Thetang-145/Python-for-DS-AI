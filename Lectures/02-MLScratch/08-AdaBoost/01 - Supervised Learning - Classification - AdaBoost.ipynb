{
 "cells": [
  {
   "cell_type": "markdown",
   "source": [
    "# Programming for Data Science and Artificial Intelligence\n",
    "\n",
    "## Classification - AdaBoost\n",
    "\n",
    "### Readings:\n",
    "- [GERON] Ch7\n",
    "- [VANDER] Ch5\n",
    "- [HASTIE] Ch16\n",
    "- https://scikit-learn.org/stable/modules/ensemble.html"
   ],
   "metadata": {}
  },
  {
   "cell_type": "code",
   "execution_count": 25,
   "source": [
    "from sklearn.model_selection import train_test_split\r\n",
    "from sklearn.datasets import make_moons\r\n",
    "import numpy as np\r\n",
    "import matplotlib.pyplot as plt"
   ],
   "outputs": [],
   "metadata": {}
  },
  {
   "cell_type": "markdown",
   "source": [
    "## AdaBoost\n",
    "\n",
    "**AdaBoost** is a boosting algorithm that try to take a weak classifier on top of one another, **boosting** the overall performance. AdaBoost is extremely simple to use and implement, and often gives very effective results. There is tremendous flexibility in the choice of weak classifier as well. Anyhow, Decision Tree with <code>max_depth=1</code> and <code>max_leaf_nodes=2</code> are often used (also known as **stump**)\n",
    "\n",
    "<img src = \"../../Figures/ada.png\" />\n",
    "\n",
    "Suppose we are given training data ${(\\mathbf{x_i}, y_i)}$, where $\\mathbf{x_i} \\in \\mathbb{R}^n$ and $y_i \\in \\{-1, 1\\}$.  And we have $S$ number of weak classifiers, denoted $h_s(x)$.  For each classifier, we define $\\alpha_s$ as the *voting power* of the classifier $h_s(x)$. Then, the hypothesis function is based on a linear combination of the weak classifier and is written as:\n",
    "\n",
    "$$\n",
    "\\begin{aligned}\n",
    "h(x) & = \\text{sign}\\big(\\alpha_1h_1(x) + \\alpha_2h_2(x) + \\cdots + \\alpha_sh_s(x) )\\big) \\\\\n",
    "& = \\text{sign}\\big(\\sum_{s=1}^{S}\\alpha_sh_s(x)\\big)\n",
    "\\end{aligned}\n",
    "$$\n",
    "\n",
    "Our job is to find the optimal $\\alpha_s$, so we can know which classifier we should give more weightage (i.e., believe more) in our hypothesis function since their accuracy is relatively better compared to other classifiers.  To get this alpha, we should define what is \"good\" classifier.  This is simple, since good classifier should simply has the minimum weighted errors as:\n",
    "\n",
    "$$\\epsilon_s = \\sum_{i=1}^m w_i^{s}I(h_s(x_i) \\neq y_i) $$\n",
    "\n",
    "in which the weights are initialized in the beginning as\n",
    "\n",
    "$$w_i^{(1)} = \\frac{1}{m}$$ "
   ],
   "metadata": {}
  },
  {
   "cell_type": "markdown",
   "source": [
    "For example, given $h(x)$ as <code>yhat</code> and <code>y</code> as the real y, we get:"
   ],
   "metadata": {}
  },
  {
   "cell_type": "code",
   "execution_count": 26,
   "source": [
    "yhat = np.array([-1,  1, -1, 1, 1]) #(h_s(x))\r\n",
    "y    = np.array([ 1,  1,  1, 1, 1])\r\n",
    "(yhat != y).sum()"
   ],
   "outputs": [
    {
     "output_type": "execute_result",
     "data": {
      "text/plain": [
       "2"
      ]
     },
     "metadata": {},
     "execution_count": 26
    }
   ],
   "metadata": {}
  },
  {
   "cell_type": "markdown",
   "source": [
    "We can calculate its weighted errors"
   ],
   "metadata": {}
  },
  {
   "cell_type": "code",
   "execution_count": 27,
   "source": [
    "m = 5 #since we have five samples\r\n",
    "\r\n",
    "#initially, we set our weight to 1/m\r\n",
    "W = np.full(m, 1/m)\r\n",
    "print(W)"
   ],
   "outputs": [
    {
     "output_type": "stream",
     "name": "stdout",
     "text": [
      "[0.2 0.2 0.2 0.2 0.2]\n"
     ]
    }
   ],
   "metadata": {}
  },
  {
   "cell_type": "code",
   "execution_count": 28,
   "source": [
    "err = W[(yhat != y)].sum()\r\n",
    "print(err.round(2))"
   ],
   "outputs": [
    {
     "output_type": "stream",
     "name": "stdout",
     "text": [
      "0.4\n"
     ]
    }
   ],
   "metadata": {
    "scrolled": true
   }
  },
  {
   "cell_type": "markdown",
   "source": [
    "If we try to change our weight bigger for the first one, you will see that the final error is enlarged."
   ],
   "metadata": {}
  },
  {
   "cell_type": "code",
   "execution_count": 29,
   "source": [
    "W = np.array([0.7, 0.2, 0.2, 0.2, 0.2])\r\n",
    "err = W[(yhat != y)].sum()\r\n",
    "print(err.round(2))"
   ],
   "outputs": [
    {
     "output_type": "stream",
     "name": "stdout",
     "text": [
      "0.9\n"
     ]
    }
   ],
   "metadata": {}
  },
  {
   "cell_type": "markdown",
   "source": [
    "After we perform the first classifier, we update the weights of the samples using this formula:\n",
    "\n",
    "$$w_i^{(s+1)} = \\frac{w_i^{(s)}e^{ -\\alpha_sh_s(\\mathbf{x_i}) y_i}}{{\\displaystyle\\sum_{i=1}^m w_i^{s}}} $$\n",
    "\n",
    "where $\\alpha_s$ is:\n",
    "\n",
    "$$\\alpha_s = \\frac{1}{2}ln\\frac{1-\\epsilon_s}{\\epsilon_s}$$\n",
    "\n",
    "First, to see why this formula works, let's plot alpha against errors:"
   ],
   "metadata": {}
  },
  {
   "cell_type": "code",
   "execution_count": 30,
   "source": [
    "err = np.linspace(0, 0.99, 10000) #select only 0.99 not 1 because np.log(1-1=0) = inf\r\n",
    "err = err + 0.00001 #prevent divide by zero\r\n",
    "a_j = np.log ((1 - err) / err) * 0.5\r\n",
    "\r\n",
    "plt.plot(err, a_j)\r\n",
    "plt.xlabel(\"Error\")\r\n",
    "plt.ylabel(\"Alpha\")\r\n",
    "\r\n",
    "'''\r\n",
    "Higher the error, lower is alpha, which means we don't trust that classifier.  And vice versa.\r\n",
    "'''"
   ],
   "outputs": [
    {
     "output_type": "execute_result",
     "data": {
      "text/plain": [
       "\"\\nHigher the error, lower is alpha, which means we don't trust that classifier.  And vice versa.\\n\""
      ]
     },
     "metadata": {},
     "execution_count": 30
    },
    {
     "output_type": "display_data",
     "data": {
      "image/png": "[encoded data removed]",
      "text/plain": [
       "<Figure size 432x288 with 1 Axes>"
      ]
     },
     "metadata": {
      "needs_background": "light"
     }
    }
   ],
   "metadata": {}
  },
  {
   "cell_type": "markdown",
   "source": [
    "Second, let's look at the update rule on why it works:\n",
    "\n",
    "$$w_i^{(s+1)} = \\frac{w_i^{(s)}e^{ -\\alpha_sh_s(\\mathbf{x_i}) y_i}}{{\\displaystyle\\sum_{i=1}^m w_i^{s}}} $$"
   ],
   "metadata": {}
  },
  {
   "cell_type": "code",
   "execution_count": 50,
   "source": [
    "#recall\r\n",
    "print(y, yhat)"
   ],
   "outputs": [
    {
     "output_type": "stream",
     "name": "stdout",
     "text": [
      "[1 1 1 1 1] [-1 -1 -1 -1 -1]\n"
     ]
    }
   ],
   "metadata": {}
  },
  {
   "cell_type": "code",
   "execution_count": 49,
   "source": [
    "yhat = -y"
   ],
   "outputs": [],
   "metadata": {}
  },
  {
   "cell_type": "code",
   "execution_count": 48,
   "source": [
    "#recall the err\r\n",
    "import sys\r\n",
    "W = np.full(m, 1/m)\r\n",
    "err = W[(yhat != y)].sum()\r\n",
    "print(err)"
   ],
   "outputs": [
    {
     "output_type": "stream",
     "name": "stdout",
     "text": [
      "2.2250738585072014e-308\n"
     ]
    }
   ],
   "metadata": {}
  },
  {
   "cell_type": "code",
   "execution_count": 66,
   "source": [
    "#recall the err\r\n",
    "import sys\r\n",
    "W = np.full(m, 1/m)\r\n",
    "err = min(max(W[(yhat != y)].sum(),sys.float_info.min), 0.9999999999999999)\r\n",
    "print(err)"
   ],
   "outputs": [
    {
     "output_type": "stream",
     "name": "stdout",
     "text": [
      "0.9999999999999999\n"
     ]
    }
   ],
   "metadata": {}
  },
  {
   "cell_type": "code",
   "execution_count": 67,
   "source": [
    "#calculate the a_j\r\n",
    "a_j = np.log ((1 - err) / err) * 0.5\r\n",
    "print(a_j)"
   ],
   "outputs": [
    {
     "output_type": "stream",
     "name": "stdout",
     "text": [
      "-18.36840028483855\n"
     ]
    }
   ],
   "metadata": {}
  },
  {
   "cell_type": "code",
   "execution_count": 10,
   "source": [
    "yhat * y"
   ],
   "outputs": [
    {
     "output_type": "execute_result",
     "data": {
      "text/plain": [
       "array([-1,  1, -1,  1,  1])"
      ]
     },
     "metadata": {},
     "execution_count": 10
    }
   ],
   "metadata": {}
  },
  {
   "cell_type": "code",
   "execution_count": 11,
   "source": [
    "-a_j * yhat * y"
   ],
   "outputs": [
    {
     "output_type": "execute_result",
     "data": {
      "text/plain": [
       "array([ 0.20273255, -0.20273255,  0.20273255, -0.20273255, -0.20273255])"
      ]
     },
     "metadata": {},
     "execution_count": 11
    }
   ],
   "metadata": {}
  },
  {
   "cell_type": "code",
   "execution_count": 12,
   "source": [
    "np.exp(-a_j * yhat * y)  #notice the scalar is bigger for incorrectly classified sample"
   ],
   "outputs": [
    {
     "output_type": "execute_result",
     "data": {
      "text/plain": [
       "array([1.22474487, 0.81649658, 1.22474487, 0.81649658, 0.81649658])"
      ]
     },
     "metadata": {},
     "execution_count": 12
    }
   ],
   "metadata": {}
  },
  {
   "cell_type": "code",
   "execution_count": 13,
   "source": [
    "W = (W * np.exp(-a_j * yhat * y))/sum(W)\r\n",
    "print(W)"
   ],
   "outputs": [
    {
     "output_type": "stream",
     "name": "stdout",
     "text": [
      "[0.24494897 0.16329932 0.24494897 0.16329932 0.16329932]\n"
     ]
    }
   ],
   "metadata": {}
  },
  {
   "cell_type": "markdown",
   "source": [
    "## Putting everything together:\n",
    "\n",
    "1. Loop through all features, threshold, and polarity, identify the best stump which has lowest weighted errors.\n",
    "\n",
    "2. Calculate alpha of the first classifier\n",
    "\n",
    "$$\\alpha_s = \\frac{1}{2}ln\\frac{1-\\epsilon_s}{\\epsilon_s}$$\n",
    "\n",
    "3. Exaggerate the incorrect samples using\n",
    "\n",
    "$$w_i^{(s+1)} = \\frac{w_i^{(s)}e^{ -\\alpha_sh_s(\\mathbf{x_i}) y_i}}{{\\displaystyle\\sum_{i=1}^m w_i^{s}}} $$\n",
    "\n",
    "4. Repeat 1.\n",
    "\n",
    "5. We stop 1-4 using max_iter, early stopping, or number of classifiers.\n",
    "\n",
    "6. To predict, we use the hypothesis function:\n",
    "\n",
    "$$ \n",
    "  H(x) = \\text{sign}\\big(\\sum_{s=1}^{S}\\alpha_sh_s(x)\\big)\n",
    "$$"
   ],
   "metadata": {}
  },
  {
   "cell_type": "markdown",
   "source": [
    "## AdaBoost"
   ],
   "metadata": {}
  },
  {
   "cell_type": "markdown",
   "source": [
    "### Scratch"
   ],
   "metadata": {}
  },
  {
   "cell_type": "code",
   "execution_count": 14,
   "source": [
    "from sklearn.datasets import make_classification\r\n",
    "\r\n",
    "X, y = make_classification(n_samples=500, random_state=1)\r\n",
    "y = np.where(y==0,-1,1)  #change our y to be -1 if it is 0, otherwise 1\r\n",
    "\r\n",
    "X_train, X_test, y_train, y_test = train_test_split(\r\n",
    "    X, y, test_size=0.3, random_state=42)"
   ],
   "outputs": [],
   "metadata": {}
  },
  {
   "cell_type": "code",
   "execution_count": 15,
   "source": [
    "from sklearn.metrics import accuracy_score\r\n",
    "from sklearn.tree import DecisionTreeClassifier\r\n",
    "from sklearn.metrics import classification_report\r\n",
    "\r\n",
    "m = X_train.shape[0]\r\n",
    "S = 20\r\n",
    "stump_params = {'max_depth': 1, 'max_leaf_nodes': 2}\r\n",
    "models = [DecisionTreeClassifier(**stump_params) for _ in range(S)]\r\n",
    "\r\n",
    "#initially, we set our weight to 1/m\r\n",
    "W = np.full(m, 1/m)\r\n",
    "\r\n",
    "#keep collection of a_j\r\n",
    "a_js = np.zeros(S)\r\n",
    "\r\n",
    "for j, model in enumerate(models):\r\n",
    "    \r\n",
    "    #train weak learner\r\n",
    "    model.fit(X_train, y_train, sample_weight = W)\r\n",
    "    \r\n",
    "    #compute the errors\r\n",
    "    yhat = model.predict(X_train) \r\n",
    "    err = W[(yhat != y_train)].sum()\r\n",
    "        \r\n",
    "    #compute the predictor weight a_j\r\n",
    "    #if predictor is doing well, a_j will be big\r\n",
    "    a_j = np.log ((1 - err) / err) / 2\r\n",
    "    a_js[j] = a_j\r\n",
    "    \r\n",
    "    #update sample weight; divide sum of W to normalize\r\n",
    "    W = (W * np.exp(-a_j * y_train * yhat)) \r\n",
    "    W = W / sum (W)\r\n",
    "    \r\n",
    "        \r\n",
    "#make weighted predictions\r\n",
    "Hx = 0\r\n",
    "for i, model in enumerate(models):\r\n",
    "    yhat = model.predict(X_test)\r\n",
    "    Hx += a_js[i] * yhat\r\n",
    "    \r\n",
    "yhat = np.sign(Hx)\r\n",
    "\r\n",
    "print(classification_report(y_test, yhat))"
   ],
   "outputs": [
    {
     "output_type": "stream",
     "name": "stdout",
     "text": [
      "              precision    recall  f1-score   support\n",
      "\n",
      "          -1       0.96      0.97      0.97        79\n",
      "           1       0.97      0.96      0.96        71\n",
      "\n",
      "    accuracy                           0.97       150\n",
      "   macro avg       0.97      0.97      0.97       150\n",
      "weighted avg       0.97      0.97      0.97       150\n",
      "\n"
     ]
    }
   ],
   "metadata": {}
  },
  {
   "cell_type": "markdown",
   "source": [
    "### Sklearn "
   ],
   "metadata": {}
  },
  {
   "cell_type": "markdown",
   "source": [
    "Sklearn implements AdaBoost using SAMME which stands for Stagewise Additive Modeling using a Multiclass Exponential Loss Function.\n",
    "\n",
    "The following code trains an AdaBoost classifier based on 200 Decision stumps.  A Decision stump is basically a Decision Tree with max_depth=1.  This is the default base estimator of AdaBoostClassifier class:"
   ],
   "metadata": {}
  },
  {
   "cell_type": "code",
   "execution_count": 16,
   "source": [
    "from sklearn.ensemble import AdaBoostClassifier\r\n",
    "\r\n",
    "#SAMME.R - a variant of SAMME which relies on class probabilities \r\n",
    "#rather than predictions and generally performs better\r\n",
    "ada_clf = AdaBoostClassifier(\r\n",
    "    DecisionTreeClassifier(max_depth=1), n_estimators=200,\r\n",
    "    learning_rate=0.5, random_state=42)\r\n",
    "ada_clf.fit(X_train, y_train)\r\n",
    "y_pred = ada_clf.predict(X_test)\r\n",
    "print(\"Ada score: \", accuracy_score(y_test, y_pred))"
   ],
   "outputs": [
    {
     "output_type": "stream",
     "name": "stdout",
     "text": [
      "Ada score:  0.9666666666666667\n"
     ]
    }
   ],
   "metadata": {}
  },
  {
   "cell_type": "markdown",
   "source": [
    "### ===Task===\n",
    "\n",
    "Your work: Let's modify the above scratch code:\n",
    "- Notice that if <code>err</code> = 0, then $\\alpha$ will be undefined, thus attempt to fix this by adding some very small value to the lower term\n",
    "- Notice that sklearn version of AdaBoost has a parameter <code>learning_rate</code>.  This is in fact the $\\frac{1}{2}$ in front of the $\\alpha$ calculation.  Attempt to change this $\\frac{1}{2}$ into a parameter called <code>eta</code>, and try different values of it and see whether accuracy is improved.  Note that sklearn default this value to 1.\n",
    "- Observe that we are actually using sklearn DecisionTreeClassifier.  If we take a look at it closely, it is actually using weighted gini index, instead of weighted errors that we learn above.   Attempt to write your own class of <code>class Stump</code> that actually uses weighted errors, instead of weighted gini index\n",
    "- Put everything into a class"
   ],
   "metadata": {}
  },
  {
   "cell_type": "code",
   "execution_count": null,
   "source": [],
   "outputs": [],
   "metadata": {}
  }
 ],
 "metadata": {
  "kernelspec": {
   "name": "python3",
   "display_name": "Python 3.8.10 64-bit ('base': conda)"
  },
  "language_info": {
   "codemirror_mode": {
    "name": "ipython",
    "version": 3
   },
   "file_extension": ".py",
   "mimetype": "text/x-python",
   "name": "python",
   "nbconvert_exporter": "python",
   "pygments_lexer": "ipython3",
   "version": "3.8.10"
  },
  "interpreter": {
   "hash": "54d292b6f3ca4ff13f504c55e6e4b729c6c0a14070d37d9d8c8aca786423add6"
  }
 },
 "nbformat": 4,
 "nbformat_minor": 1
}