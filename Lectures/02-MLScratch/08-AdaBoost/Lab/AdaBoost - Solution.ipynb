{
 "cells": [
  {
   "cell_type": "markdown",
   "source": [
    "Modify the AdaBoost scratch code in our lecture such that:\r\n",
    "- Notice that if <code>err</code> = 0, then $\\alpha$ will be undefined, thus attempt to fix this by adding some very small value to the lower term\r\n",
    "- Notice that sklearn version of AdaBoost has a parameter <code>learning_rate</code>.  This is in fact the $\\frac{1}{2}$ in front of the $\\alpha$ calculation.  Attempt to change this $\\frac{1}{2}$ into a parameter called <code>eta</code>, and try different values of it and see whether accuracy is improved.  Note that sklearn default this value to 1.\r\n",
    "- Observe that we are actually using sklearn DecisionTreeClassifier.  If we take a look at it closely, it is actually using weighted gini index, instead of weighted errors that we learn above.  Attempt to write your own class of <code>class Stump</code> that actually uses weighted errors, instead of weighted gini index.   To check whether your stump really works, it should give you still relatively the same accuracy.  In addition, if you do not change y to -1, it will result in very bad accuracy.  Unlike sklearn version of DecisionTree, it will STILL work even y is not change to -1 since it uses gini index\r\n",
    "- Put everything into a class"
   ],
   "metadata": {}
  },
  {
   "cell_type": "code",
   "execution_count": 59,
   "source": [
    "from sklearn.datasets import make_classification\r\n",
    "from sklearn.model_selection import train_test_split\r\n",
    "import numpy as np\r\n",
    "from sklearn.metrics import classification_report\r\n",
    "\r\n",
    "X, y = make_classification(n_samples=500, random_state=1)\r\n",
    "y = np.where(y==0,-1,1)  #change our y to be -1 if it is 0, otherwise 1\r\n",
    "\r\n",
    "X_train, X_test, y_train, y_test = train_test_split(\r\n",
    "    X, y, test_size=0.3, random_state=42)"
   ],
   "outputs": [],
   "metadata": {}
  },
  {
   "cell_type": "code",
   "execution_count": 2,
   "source": [
    "class DecisionStump():\r\n",
    "    def __init__(self):\r\n",
    "        # Determines whether threshold should be evaluated as < or >\r\n",
    "        self.polarity = 1\r\n",
    "        self.feature_index = None\r\n",
    "        self.threshold = None\r\n",
    "        self.yhat = None\r\n",
    "        # Voting power of the stump\r\n",
    "        self.alpha = None"
   ],
   "outputs": [],
   "metadata": {}
  },
  {
   "cell_type": "code",
   "execution_count": 76,
   "source": [
    "import sys\r\n",
    "\r\n",
    "class AdaBoost():\r\n",
    "    def __init__(self, S=5, eta=0.5):\r\n",
    "        self.S = S\r\n",
    "        self.eta = eta\r\n",
    "        \r\n",
    "    def fit(self, X, y): #<----X_train, y_train\r\n",
    "        m, n = X.shape\r\n",
    "        #initially, we set our weight to 1/m\r\n",
    "        W = np.full(m, 1/m)\r\n",
    "                \r\n",
    "        #holder for all clfs we have tried\r\n",
    "        self.clfs = []\r\n",
    "        \r\n",
    "        for _ in range(self.S):\r\n",
    "            clf = DecisionStump()\r\n",
    "            \r\n",
    "            #set initially minimum error to infinity\r\n",
    "            #so at least the first stump is identified\r\n",
    "            min_err = np.inf\r\n",
    "\r\n",
    "            #previously we don't need to do this\r\n",
    "            #since sklearn learn does it\r\n",
    "            #but now we have to loop all features, all threshold\r\n",
    "            #and all polarity to find the minimum weighted errors\r\n",
    "            for feature in range(n):\r\n",
    "                feature_vals = np.sort(np.unique(X[:, feature]))\r\n",
    "                thresholds = (feature_vals[:-1] + feature_vals[1:])/2\r\n",
    "                for threshold in thresholds:\r\n",
    "                    for polarity in [1, -1]:\r\n",
    "                        yhat = np.ones(len(y)) #set all to 1\\\r\n",
    "                        yhat[polarity * X[:, feature] < polarity * threshold] = -1  #polarity=1 rule\r\n",
    "                        err = W[(yhat != y)].sum()\r\n",
    "                                        \r\n",
    "                        #save the best stump\r\n",
    "                        if err < min_err:\r\n",
    "                            clf.polarity = polarity\r\n",
    "                            clf.threshold = threshold\r\n",
    "                            clf.feature_index = feature\r\n",
    "                            yhat_best = yhat\r\n",
    "                            min_err = err\r\n",
    "        \r\n",
    "            #once we know which is the best stump\r\n",
    "            #we calculate its alpha, and reweight samples\r\n",
    "            eps = 1e-10 #to prevent division by zero\r\n",
    "            clf.alpha = self.eta * (np.log ((1 - min_err) / (min_err + eps)))\r\n",
    "            W = W * np.exp(-clf.alpha * y * yhat_best) \r\n",
    "            W = W / sum (W)\r\n",
    "                    \r\n",
    "            #save clf\r\n",
    "            self.clfs.append(clf)\r\n",
    "        \r\n",
    "    def predict(self, X):\r\n",
    "        m, n = X.shape\r\n",
    "        yhat = np.zeros(m)\r\n",
    "        for clf in self.clfs:\r\n",
    "            pred = np.ones(m) #set all to 1\r\n",
    "            pred[clf.polarity * X[:, clf.feature_index] < clf.polarity * clf.threshold] = -1  #polarity=1 rule\r\n",
    "            yhat += clf.alpha * pred\r\n",
    "\r\n",
    "        return np.sign(yhat)"
   ],
   "outputs": [],
   "metadata": {}
  },
  {
   "cell_type": "code",
   "execution_count": 75,
   "source": [
    "model = AdaBoost(S=10)\r\n",
    "model.fit(X_train, y_train)\r\n",
    "yhat = model.predict(X_test)\r\n",
    "print(classification_report(y_test, yhat))"
   ],
   "outputs": [
    {
     "output_type": "stream",
     "name": "stdout",
     "text": [
      "              precision    recall  f1-score   support\n",
      "\n",
      "          -1       0.94      0.95      0.94        79\n",
      "           1       0.94      0.93      0.94        71\n",
      "\n",
      "    accuracy                           0.94       150\n",
      "   macro avg       0.94      0.94      0.94       150\n",
      "weighted avg       0.94      0.94      0.94       150\n",
      "\n"
     ]
    }
   ],
   "metadata": {}
  }
 ],
 "metadata": {
  "kernelspec": {
   "name": "python3",
   "display_name": "Python 3.8.10 64-bit ('base': conda)"
  },
  "language_info": {
   "codemirror_mode": {
    "name": "ipython",
    "version": 3
   },
   "file_extension": ".py",
   "mimetype": "text/x-python",
   "name": "python",
   "nbconvert_exporter": "python",
   "pygments_lexer": "ipython3",
   "version": "3.8.10"
  },
  "interpreter": {
   "hash": "54d292b6f3ca4ff13f504c55e6e4b729c6c0a14070d37d9d8c8aca786423add6"
  }
 },
 "nbformat": 4,
 "nbformat_minor": 4
}