{
 "cells": [
  {
   "cell_type": "code",
   "execution_count": 56,
   "source": [
    "import numpy as np\r\n",
    "import matplotlib.pyplot as plt\r\n",
    "\r\n",
    "from sklearn.datasets import load_boston\r\n",
    "boston = load_boston()\r\n",
    "\r\n",
    "X = boston.data\r\n",
    "y = boston.target\r\n",
    "m = X.shape[0]  #number of samples\r\n",
    "n = X.shape[1]  #number of features\r\n",
    "\r\n",
    "assert m == y.shape[0]\r\n"
   ],
   "outputs": [],
   "metadata": {}
  },
  {
   "cell_type": "code",
   "execution_count": 57,
   "source": [
    "# Standardize/Normallize Data\r\n",
    "from sklearn.preprocessing import StandardScaler\r\n",
    "scaler = StandardScaler()\r\n",
    "X = scaler.fit_transform(X)"
   ],
   "outputs": [],
   "metadata": {}
  },
  {
   "cell_type": "code",
   "execution_count": 58,
   "source": [
    "# Split Data\r\n",
    "from sklearn.model_selection import train_test_split\r\n",
    "X_train, X_test, y_train, y_test = train_test_split(X, y, test_size = 0.3)\r\n",
    "assert len(X_train)  == len(y_train)\r\n",
    "assert len(X_test) == len(y_test)"
   ],
   "outputs": [],
   "metadata": {}
  },
  {
   "cell_type": "code",
   "execution_count": 59,
   "source": [
    "# Insert Intercept (Theta0) to X\r\n",
    "intercept = np.ones((X_train.shape[0], 1))\r\n",
    "X_train = np.concatenate((intercept, X_train), axis=1)\r\n",
    "\r\n",
    "intercept = np.ones((X_test.shape[0], 1))\r\n",
    "X_test = np.concatenate((intercept, X_test), axis=1)"
   ],
   "outputs": [],
   "metadata": {}
  },
  {
   "cell_type": "code",
   "execution_count": 60,
   "source": [
    "# Batch Gradient Descent Algorithm\r\n",
    "\r\n",
    "# Mean Square Error\r\n",
    "def MSE(yhat, y):\r\n",
    "    return (((yhat - y)**2).sum()) / yhat.shape[0]\r\n",
    "\r\n",
    "# y hat\r\n",
    "def hx(X, theta):\r\n",
    "    return X @ theta\r\n",
    "\r\n",
    "def gradient(X, error):\r\n",
    "    return X.T @ error"
   ],
   "outputs": [],
   "metadata": {}
  },
  {
   "cell_type": "code",
   "execution_count": null,
   "source": [],
   "outputs": [],
   "metadata": {}
  },
  {
   "cell_type": "code",
   "execution_count": 61,
   "source": [
    "from time import time\r\n",
    "\r\n",
    "iter_stop = 0\r\n",
    "max_iter = 1000\r\n",
    "loss_old = 10000\r\n",
    "tol = 0.0001\r\n",
    "alpha = 0.0001\r\n",
    "theta = np.zeros(X_train.shape[1])\r\n",
    "\r\n",
    "start = time()\r\n",
    "for i in range(max_iter):\r\n",
    "\r\n",
    "    yhat = hx(X_train, theta)\r\n",
    "    error = yhat - y_train\r\n",
    "    grad = gradient(X_train, error)\r\n",
    "\r\n",
    "    theta = theta - alpha * grad\r\n",
    "\r\n",
    "    loss_new = MSE(yhat, y_train)\r\n",
    "    diff = np.abs(loss_new - loss_old)\r\n",
    "\r\n",
    "    if diff < tol:\r\n",
    "        iter_stop = i+1\r\n",
    "        break\r\n",
    "    else:\r\n",
    "        loss_old = loss_new\r\n",
    "        \r\n",
    "time_taken = time() - start\r\n",
    "\r\n",
    "yhat_test = hx(X_test, theta)\r\n",
    "mse = MSE(yhat_test, y_test)\r\n",
    "print(\"*** Batch Gradient Descent ***\")\r\n",
    "print(\"MSE: \", mse)\r\n",
    "print(\"Stop at iteration: \", iter_stop)\r\n",
    "print(\"Time used: \", time_taken)"
   ],
   "outputs": [
    {
     "output_type": "stream",
     "name": "stdout",
     "text": [
      "*** Batch Gradient Descent ***\n",
      "MSE:  21.193367515504956\n",
      "Stop at iteration:  758\n",
      "Time used:  0.01263117790222168\n"
     ]
    }
   ],
   "metadata": {}
  },
  {
   "cell_type": "code",
   "execution_count": 63,
   "source": [],
   "outputs": [],
   "metadata": {}
  },
  {
   "cell_type": "code",
   "execution_count": 83,
   "source": [
    "# Stochastic gradient\r\n",
    "iter_stop = 0\r\n",
    "max_iter = 1000\r\n",
    "loss_old = 10000\r\n",
    "tol = 0.0001\r\n",
    "alpha = 0.01\r\n",
    "theta = np.zeros(X_rand.shape[1])\r\n",
    "\r\n",
    "start = time()\r\n",
    "for i in range(max_iter):\r\n",
    "\r\n",
    "    rand = np.random.randint(0,X_train.shape[0])\r\n",
    "    X_rand = X_train[rand,:].reshape(1,-1)\r\n",
    "    y_rand = y_train[rand].reshape(1)\r\n",
    "\r\n",
    "    yhat = hx(X_rand, theta)\r\n",
    "    error = yhat - y_rand\r\n",
    "    grad = gradient(X_rand, error)\r\n",
    "\r\n",
    "    theta = theta - alpha * grad\r\n",
    "\r\n",
    "    loss_new = MSE(yhat, y_rand)\r\n",
    "    diff = np.abs(loss_new - loss_old)\r\n",
    "    \r\n",
    "    iter_stop = i+1\r\n",
    "    if diff < tol:\r\n",
    "        break\r\n",
    "    else:\r\n",
    "        loss_old = loss_new\r\n",
    "\r\n",
    "yhat_test = hx(X_test, theta)\r\n",
    "mse = MSE(yhat_test, y_test)\r\n",
    "print(\"*** Stochastic Gradient Descent ***\")\r\n",
    "print(\"MSE: \", mse)\r\n",
    "print(\"Stop at iteration: \", iter_stop)\r\n",
    "print(\"Time used: \", time_taken)"
   ],
   "outputs": [
    {
     "output_type": "stream",
     "name": "stdout",
     "text": [
      "*** Stochastic Gradient Descent ***\n",
      "MSE:  20.5522044520857\n",
      "Stop at iteration:  1000\n",
      "Time used:  0.010968685150146484\n"
     ]
    }
   ],
   "metadata": {}
  }
 ],
 "metadata": {
  "orig_nbformat": 4,
  "language_info": {
   "name": "python",
   "version": "3.8.10",
   "mimetype": "text/x-python",
   "codemirror_mode": {
    "name": "ipython",
    "version": 3
   },
   "pygments_lexer": "ipython3",
   "nbconvert_exporter": "python",
   "file_extension": ".py"
  },
  "kernelspec": {
   "name": "python3",
   "display_name": "Python 3.8.10 64-bit ('base': conda)"
  },
  "interpreter": {
   "hash": "54d292b6f3ca4ff13f504c55e6e4b729c6c0a14070d37d9d8c8aca786423add6"
  }
 },
 "nbformat": 4,
 "nbformat_minor": 2
}