{
 "cells": [
  {
   "cell_type": "code",
   "execution_count": 1,
   "source": [
    "import numpy as np\r\n",
    "import matplotlib.pyplot as plt\r\n",
    "\r\n",
    "from sklearn.datasets import load_boston\r\n",
    "boston = load_boston()\r\n",
    "\r\n",
    "X = boston.data\r\n",
    "y = boston.target\r\n",
    "m = X.shape[0]  #number of samples\r\n",
    "n = X.shape[1]  #number of features\r\n",
    "\r\n",
    "assert m == y.shape[0]\r\n"
   ],
   "outputs": [],
   "metadata": {}
  },
  {
   "cell_type": "code",
   "execution_count": 2,
   "source": [
    "# Standardize/Normallize Data\r\n",
    "from sklearn.preprocessing import StandardScaler\r\n",
    "scaler = StandardScaler()\r\n",
    "X = scaler.fit_transform(X)"
   ],
   "outputs": [],
   "metadata": {}
  },
  {
   "cell_type": "code",
   "execution_count": 3,
   "source": [
    "# Split Data\r\n",
    "from sklearn.model_selection import train_test_split\r\n",
    "X_train, X_test, y_train, y_test = train_test_split(X, y, test_size = 0.3)\r\n",
    "assert len(X_train)  == len(y_train)\r\n",
    "assert len(X_test) == len(y_test)"
   ],
   "outputs": [],
   "metadata": {}
  },
  {
   "cell_type": "code",
   "execution_count": 4,
   "source": [
    "# Insert Intercept (Theta0) to X\r\n",
    "intercept = np.ones((X_train.shape[0], 1))\r\n",
    "X_train = np.concatenate((intercept, X_train), axis=1)\r\n",
    "\r\n",
    "intercept = np.ones((X_test.shape[0], 1))\r\n",
    "X_test = np.concatenate((intercept, X_test), axis=1)"
   ],
   "outputs": [],
   "metadata": {}
  },
  {
   "cell_type": "code",
   "execution_count": 5,
   "source": [
    "# Mean Square Error\r\n",
    "def MSE(yhat, y):\r\n",
    "    return (((yhat - y)**2).sum()) / yhat.shape[0]\r\n",
    "\r\n",
    "# y hat\r\n",
    "def hx(X, theta):\r\n",
    "    return X @ theta\r\n",
    "\r\n",
    "def gradient(X, error):\r\n",
    "    return X.T @ error"
   ],
   "outputs": [],
   "metadata": {}
  },
  {
   "cell_type": "code",
   "execution_count": 101,
   "source": [
    "# Batch Gradient Descent Algorithm\r\n",
    "from time import time\r\n",
    "\r\n",
    "iter_stop = 0\r\n",
    "max_iter = 1000\r\n",
    "loss_old = 10000\r\n",
    "tol = 0.0001\r\n",
    "alpha = 0.0001\r\n",
    "theta = np.zeros(X_train.shape[1])\r\n",
    "\r\n",
    "start = time()\r\n",
    "for i in range(max_iter):\r\n",
    "\r\n",
    "    yhat = hx(X_train, theta)\r\n",
    "    error = yhat - y_train\r\n",
    "    grad = gradient(X_train, error)\r\n",
    "\r\n",
    "    theta = theta - alpha * grad\r\n",
    "\r\n",
    "    loss_new = MSE(yhat, y_train)\r\n",
    "    diff = np.abs(loss_new - loss_old)\r\n",
    "\r\n",
    "    if diff < tol:\r\n",
    "        iter_stop = i+1\r\n",
    "        break\r\n",
    "    else:\r\n",
    "        loss_old = loss_new\r\n",
    "        \r\n",
    "time_taken = time() - start\r\n",
    "\r\n",
    "yhat_test = hx(X_test, theta)\r\n",
    "mse = MSE(yhat_test, y_test)\r\n",
    "print(\"*** Batch Gradient Descent ***\")\r\n",
    "print(\"MSE: \", mse)\r\n",
    "print(\"Stop at iteration: \", iter_stop)\r\n",
    "print(\"Time used: \", time_taken)"
   ],
   "outputs": [
    {
     "output_type": "stream",
     "name": "stdout",
     "text": [
      "*** Batch Gradient Descent ***\n",
      "MSE:  25.266071259034653\n",
      "Stop at iteration:  726\n",
      "Time used:  0.01485753059387207\n"
     ]
    }
   ],
   "metadata": {}
  },
  {
   "cell_type": "code",
   "execution_count": 104,
   "source": [
    "# Stochastic Gradient Descent Algorithm\r\n",
    "iter_stop = 0\r\n",
    "max_iter = 10000\r\n",
    "loss_old = 10000\r\n",
    "tol = 0.001\r\n",
    "alpha = 0.001\r\n",
    "theta = np.zeros(X_train.shape[1])\r\n",
    "\r\n",
    "start = time()\r\n",
    "for i in range(max_iter):\r\n",
    "\r\n",
    "    rand = np.random.randint(0,X_train.shape[0])\r\n",
    "    X_rand = X_train[rand,:].reshape(1,-1)\r\n",
    "    y_rand = y_train[rand].reshape(1)\r\n",
    "\r\n",
    "    yhat = hx(X_rand, theta)\r\n",
    "    error = yhat - y_rand\r\n",
    "    grad = gradient(X_rand, error)\r\n",
    "\r\n",
    "    theta = theta - alpha * grad\r\n",
    "\r\n",
    "    loss_new = MSE(yhat, y_rand)\r\n",
    "    diff = np.abs(loss_new - loss_old)\r\n",
    "    \r\n",
    "    iter_stop = i+1\r\n",
    "    if diff < tol:\r\n",
    "        break\r\n",
    "    else:\r\n",
    "        loss_old = loss_new\r\n",
    "time_taken = time() - start\r\n",
    "\r\n",
    "yhat_test = hx(X_test, theta)\r\n",
    "mse = MSE(yhat_test, y_test)\r\n",
    "print(\"*** Stochastic Gradient Descent ***\")\r\n",
    "print(\"MSE: \", mse)\r\n",
    "print(\"Stop at iteration: \", iter_stop)\r\n",
    "print(\"Time used: \", time_taken)"
   ],
   "outputs": [
    {
     "output_type": "stream",
     "name": "stdout",
     "text": [
      "*** Stochastic Gradient Descent ***\n",
      "MSE:  27.176585879899196\n",
      "Stop at iteration:  3592\n",
      "Time used:  0.07401156425476074\n"
     ]
    }
   ],
   "metadata": {}
  },
  {
   "cell_type": "code",
   "execution_count": 11,
   "source": [
    "print(X_train.shape)"
   ],
   "outputs": [
    {
     "output_type": "stream",
     "name": "stdout",
     "text": [
      "(354, 14)\n"
     ]
    }
   ],
   "metadata": {}
  },
  {
   "cell_type": "code",
   "execution_count": 98,
   "source": [
    "# Mini-Batch Gradient Descent Algorithm\r\n",
    "iter_stop = 0\r\n",
    "max_iter = 10000\r\n",
    "loss_old = 10000\r\n",
    "tol = 0.01\r\n",
    "alpha = 0.001\r\n",
    "theta = np.zeros(X_train.shape[1])\r\n",
    "\r\n",
    "Batch_size = 10\r\n",
    "print(X_train.shape)\r\n",
    "\r\n",
    "start = time()\r\n",
    "for i in range(max_iter):\r\n",
    "    #X_train.shape[0]/Batch_size\r\n",
    "    j = i%((X_train.shape[0]//Batch_size)+1)\r\n",
    "\r\n",
    "    if j == (X_train.shape[0]//Batch_size):\r\n",
    "        remain = X_train.shape[0] - (X_train.shape[0]//Batch_size)*Batch_size\r\n",
    "        X_mini = X_train[(j*Batch_size):(j*Batch_size)+remain,:].reshape(remain,-1)\r\n",
    "        y_mini = y_train[(j*Batch_size):(j*Batch_size)+remain].reshape(-1)\r\n",
    "    else:\r\n",
    "        X_mini = X_train[(j*Batch_size):(j+1)*Batch_size,:].reshape(Batch_size,-1)\r\n",
    "        y_mini = y_train[(j*Batch_size):(j+1)*Batch_size].reshape(-1)\r\n",
    "\r\n",
    "    yhat = hx(X_mini, theta)\r\n",
    "    error = yhat - y_mini\r\n",
    "    grad = gradient(X_mini, error)\r\n",
    "\r\n",
    "    theta = theta - alpha * grad\r\n",
    "\r\n",
    "    loss_new = MSE(yhat, y_mini)\r\n",
    "    diff = np.abs(loss_new - loss_old)\r\n",
    "    \r\n",
    "    iter_stop = i+1\r\n",
    "    if diff < tol:\r\n",
    "        break\r\n",
    "    else:\r\n",
    "        loss_old = loss_new\r\n",
    "time_taken = time() - start\r\n",
    "\r\n",
    "yhat_test = hx(X_test, theta)\r\n",
    "mse = MSE(yhat_test, y_test)\r\n",
    "print(\"*** Mini-Batch Gradient Descent ***\")\r\n",
    "print(\"MSE: \", mse)\r\n",
    "print(\"Stop at iteration: \", iter_stop)\r\n",
    "print(\"Time used: \", time_taken)"
   ],
   "outputs": [
    {
     "output_type": "stream",
     "name": "stdout",
     "text": [
      "(354, 14)\n",
      "*** Mini-Batch Gradient Descent ***\n",
      "MSE:  25.250858546151928\n",
      "Stop at iteration:  1364\n",
      "Time used:  0.0269315242767334\n"
     ]
    }
   ],
   "metadata": {}
  },
  {
   "cell_type": "code",
   "execution_count": 178,
   "source": [
    "# Linear Regression Class\r\n",
    "\r\n",
    "class LinearRegression:\r\n",
    "    import numpy as np\r\n",
    "    from time import time    \r\n",
    "    def __init__(self, method=\"batch\", max_iter=10000, \r\n",
    "            tol=0.001, alpha=0.0001):\r\n",
    "        self.method = method\r\n",
    "        self.max_iter = max_iter\r\n",
    "        self.tol = tol\r\n",
    "        self.alpha = alpha\r\n",
    "\r\n",
    "    def set_batchsize(self, batch_size):\r\n",
    "        self.batch_size = batch_size\r\n",
    "\r\n",
    "    def fit(self, X_train, y_train):\r\n",
    "        assert len(X_train)  == len(y_train)\r\n",
    "        assert len(X_test) == len(y_test)\r\n",
    "        loss_old = 10000\r\n",
    "        self.iter_stop = 0\r\n",
    "        self.theta = np.zeros(X_train.shape[1])\r\n",
    "        start = time()\r\n",
    "        for i in range(self.max_iter):\r\n",
    "            if self.method == \"batch\":\r\n",
    "                self.X_train = X_train\r\n",
    "                self.y_train = y_train\r\n",
    "            elif self.method == \"sto\":\r\n",
    "                rand = np.random.randint(0,X_train.shape[0])\r\n",
    "                self.X_train = X_train[rand,:].reshape(1,-1)\r\n",
    "                self.y_train = y_train[rand].reshape(1)\r\n",
    "            elif self.method == \"mini\":\r\n",
    "                j = i%((X_train.shape[0]//self.batch_size)+1)\r\n",
    "                if j == (X_train.shape[0]//self.batch_size):\r\n",
    "                    remain = X_train.shape[0] - (X_train.shape[0]//self.batch_size)*self.batch_size\r\n",
    "                    self.X_train = X_train[(j*self.batch_size):(j*self.batch_size)+remain,:].reshape(remain,-1)\r\n",
    "                    self.y_train = y_train[(j*self.batch_size):(j*self.batch_size)+remain].reshape(-1)\r\n",
    "                else:\r\n",
    "                    self.X_train = X_train[(j*self.batch_size):(j+1)*self.batch_size,:].reshape(self.batch_size,-1)\r\n",
    "                    self.y_train = y_train[(j*self.batch_size):(j+1)*self.batch_size].reshape(-1)\r\n",
    "            else:\r\n",
    "                print(\"method is not correct\")\r\n",
    "                break\r\n",
    "            \r\n",
    "            yhat = self.hx(self.X_train, self.theta)\r\n",
    "            error = yhat - self.y_train\r\n",
    "            grad = self.gradient(self.X_train, error)\r\n",
    "\r\n",
    "            if i>0 and i<4:\r\n",
    "                pass\r\n",
    "                #print(yhat.shape, self.y_train.shape)\r\n",
    "\r\n",
    "            self.theta = self.theta - self.alpha * grad\r\n",
    "\r\n",
    "            loss_new = self.MSE(yhat, self.y_train)\r\n",
    "            diff = abs(loss_new - loss_old)\r\n",
    "    \r\n",
    "            self.iter_stop = i+1\r\n",
    "            if diff < self.tol:\r\n",
    "                break\r\n",
    "            else:\r\n",
    "                loss_old = loss_new\r\n",
    "        self.time_taken = time() - start\r\n",
    "\r\n",
    "    def evalute(self, X_test, y_test):\r\n",
    "        yhat_test = self.hx(X_test, self.theta)\r\n",
    "        mse = self.MSE(yhat_test, y_test)\r\n",
    "        return mse\r\n",
    "\r\n",
    "    def iter_stop(self):\r\n",
    "        return self.iter_stop\r\n",
    "\r\n",
    "    def time_taken(self):\r\n",
    "        return self.time_take\r\n",
    "\r\n",
    "    def hx(self, X, theta):\r\n",
    "        return X @ theta\r\n",
    "\r\n",
    "    def MSE(self, yhat, y):\r\n",
    "        return (((yhat - y)**2).sum()) / yhat.shape[0]\r\n",
    "\r\n",
    "    def gradient(self, X, error):\r\n",
    "        return X.T @ error"
   ],
   "outputs": [],
   "metadata": {}
  },
  {
   "cell_type": "code",
   "execution_count": 179,
   "source": [
    "# Batch\r\n",
    "model = LinearRegression()\r\n",
    "model.fit(X_train, y_train)\r\n",
    "print(\"MSE: \", model.evalute(X_test, y_test))\r\n",
    "print(\"Stop at iteration: \", model.iter_stop)\r\n",
    "print(\"Time used: \", model.time_taken)"
   ],
   "outputs": [
    {
     "output_type": "stream",
     "name": "stdout",
     "text": [
      "MSE:  25.405786319954665\n",
      "Stop at iteration:  335\n",
      "Time used:  0.0059833526611328125\n"
     ]
    }
   ],
   "metadata": {}
  },
  {
   "cell_type": "code",
   "execution_count": 180,
   "source": [
    "# Mini-Batch\r\n",
    "model2 = LinearRegression(method=\"mini\", tol=0.01, alpha=0.001)\r\n",
    "model2.set_batchsize(batch_size=10)\r\n",
    "model2.fit(X_train, y_train)\r\n",
    "print(\"MSE: \", model2.evalute(X_test, y_test))\r\n",
    "print(\"Stop at iteration: \", model2.iter_stop)\r\n",
    "print(\"Time used: \", model2.time_taken)"
   ],
   "outputs": [
    {
     "output_type": "stream",
     "name": "stdout",
     "text": [
      "MSE:  25.250858546151928\n",
      "Stop at iteration:  1364\n",
      "Time used:  0.01880335807800293\n"
     ]
    }
   ],
   "metadata": {}
  },
  {
   "cell_type": "code",
   "execution_count": 181,
   "source": [
    "# Stochastic\r\n",
    "model3 = LinearRegression(method=\"sto\", tol=0.01, alpha=0.001)\r\n",
    "model3.set_batchsize(batch_size=10)\r\n",
    "model3.fit(X_train, y_train)\r\n",
    "print(\"MSE: \", model3.evalute(X_test, y_test))\r\n",
    "print(\"Stop at iteration: \", model3.iter_stop)\r\n",
    "print(\"Time used: \", model3.time_taken)"
   ],
   "outputs": [
    {
     "output_type": "stream",
     "name": "stdout",
     "text": [
      "MSE:  42.34359804200725\n",
      "Stop at iteration:  1807\n",
      "Time used:  0.0397946834564209\n"
     ]
    }
   ],
   "metadata": {}
  }
 ],
 "metadata": {
  "orig_nbformat": 4,
  "language_info": {
   "name": "python",
   "version": "3.8.10",
   "mimetype": "text/x-python",
   "codemirror_mode": {
    "name": "ipython",
    "version": 3
   },
   "pygments_lexer": "ipython3",
   "nbconvert_exporter": "python",
   "file_extension": ".py"
  },
  "kernelspec": {
   "name": "python3",
   "display_name": "Python 3.8.10 64-bit ('base': conda)"
  },
  "interpreter": {
   "hash": "54d292b6f3ca4ff13f504c55e6e4b729c6c0a14070d37d9d8c8aca786423add6"
  }
 },
 "nbformat": 4,
 "nbformat_minor": 2
}