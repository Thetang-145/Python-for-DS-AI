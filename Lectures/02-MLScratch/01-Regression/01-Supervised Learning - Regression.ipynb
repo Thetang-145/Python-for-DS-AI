{
 "cells": [
  {
   "cell_type": "markdown",
   "source": [
    "# Programming for Data Science and Artificial Intelligence\r\n",
    "\r\n",
    "## Supervised Learning - Regression\r\n",
    "\r\n",
    "### Readings: \r\n",
    "- [GERON] Ch4\r\n",
    "- [VANDER] Ch5\r\n",
    "- [HASTIE] Ch3\r\n",
    "- https://scikit-learn.org/stable/modules/linear_model.html"
   ],
   "metadata": {}
  },
  {
   "cell_type": "code",
   "execution_count": 25,
   "source": [
    "import numpy as np\r\n",
    "import matplotlib.pyplot as plt"
   ],
   "outputs": [],
   "metadata": {}
  },
  {
   "cell_type": "markdown",
   "source": [
    "## Linear Regression\r\n",
    "\r\n",
    "Regression is a supervised algorithm to make prediction based on continous y values.  \r\n",
    "\r\n",
    "For example, given the following data:\r\n",
    "\r\n",
    "| | Egg price  | Gold price    | Oil price   | GDP   |\r\n",
    "|---:|:-------------|:-----------|:------|:------|\r\n",
    "| 1 | 3  | 100       | 4   | 21   |\r\n",
    "| 2 | 4  | 500    | 7   | 43     |\r\n",
    "\r\n",
    "We want to use egg price, gold price and oil price to predict GDP.  We called egg price, gold price, oil price **features**. We called what we want to predict **labels** or **targets**.  Each row is called **sample**.  \r\n",
    "\r\n",
    "#### Course Notations and Terms\r\n",
    "\r\n",
    "*This is important.  Although we are only talking only about linear regression, most of these notations and terms applied to other algorithms as well.*\r\n",
    "\r\n",
    "To make our life easier later, we shall use the following notations throughout our course.  $x_j^{(i)}$ is used to represent the i-th sample, and j-th feature. For example, $x_1^{(1)}$ denote egg price of the first sample (i.e., 100), $x_2^{(1)}$ for gold price of the first sample (i.e., 4), and $x_3^{(1)}$ for oil price of the first sample (i.e., 21).  We use bold captial $X$ to denote the whole matrix of features with $m$ rows of samples and $n$ columns of features.  For compliance to python, we shall called that the **shape** of $X$ as $(m, n)$.  We use $y^{(i)}$ to represent the targets/labels of the i-th sample, where when we do not specify the $i$, i.e., $y$ refers to the whole vector of targets with shape of $(m, )$\r\n",
    "\r\n",
    "We shall define **hypothesis function** as function which given input $X$, will output the predicted $y$.  In machine learning algorithms, we must **learn** and **train** this function to output predicted y as close to actual y.  To differentiate between actual and predicted $y$, we commonly called predicted $y$ as $\\hat{y}$ (read as yhat)\r\n",
    "\r\n",
    "For linear regression, the hypothesis function (denoted as $h_{\\theta}(x)$ which means $h$ depends on $x$ parametize by $\\theta$) is defined as followed.  \r\n",
    "\r\n",
    "\\begin{align*}\r\n",
    "h_\\theta(x) &= \\theta_0 + \\theta_1x_1 + \\theta_2x_2 + \\cdots + \\theta_nx_n \\tag{A}\\\\\r\n",
    "&= \\Sigma_{i=0}^n \\theta_ix_i  \\tag{B}\\\\\r\n",
    "&= \\theta^Tx \\tag{C}\r\n",
    "\\end{align*}\r\n",
    "\r\n",
    "Here $\\theta$ are called **parameters** or **weights** or **coefficients** that parameterize the linear mappings from $X$ -> $y$.  Also, we commonly don't write equations in the (A) form.  We called (B) form as the summation form and (C) as the **vectorized** form.  Since vectorized form resemble closely to python programming and will make our code clean without many for loops, this course will write in vectorized form when possible.  Note that in equation B, to be mathematically correct, we make $x_0 = 1$ for the intercept term.\r\n",
    "\r\n",
    "We shall further define a **training** set which is subset of the whole dataset used to **train** the hypothesis function so that it can accurately predict $y$.  The resulting hypothesis function is called **model**.  We also shall define a **testing** set which is also a subset of the whole dataset used to **test** the score of the model.  The common practice is to split $70/80\\%$ for training set and $30/20\\%$ for testing set.\r\n",
    "\r\n",
    "#### Gradient Descent\r\n",
    "\r\n",
    "As you can probably realize, training here refers to training the $\\theta$.  How do we pick or learn the paremeters $\\theta$?  One reasonable way is to make $h_\\theta(x)$ close to $y$, at least for the training examples we have.  To formalize this, we shall define a function that measures, for a given $\\theta$, how close the $h(x^{(i)})$ are to the corresponding $y^{(i)}$.  We called this function the **cost function** or **loss function** (denoted as $J$):\r\n",
    "\r\n",
    "$$J(\\theta) = \\frac{1}{2}\\Sigma_{i=1}^m(h_\\theta(x^{(i)}) - y^{(i)})^2$$\r\n",
    "\r\n",
    "We want to choose $\\theta$ so as to minimize $J(\\theta)$.  Such minimization problem will be generally called as **optimization problems**.  Any solution that can help us find the optimal values is called **optimization algorithms**.  Commonly, in such optimization problem, we starts with some random values for $\\theta$ (e.g., zeros), and then repeatedly changes $\\theta$ to make $J(\\theta)$ smaller, until hopefully we converge to a value of $\\theta$ that minimizes $J(\\theta)$.  \r\n",
    "\r\n",
    "One such optimization algorithm to do that is called **gradient descent** algorithm, which starts with some initial $\\theta$, and repeatedly performs the update:\r\n",
    "\r\n",
    "$$\\theta_j := \\theta_j - \\alpha * \\frac{\\partial J}{\\partial \\theta_j}$$\r\n",
    " \r\n",
    "This update is simultaneously performed for all values of $j=0, 1, \\cdots, n$.  Here, $\\alpha$ is called the **learning rate**, ranging from 0 to 1.  Commonly, we tried 0.001 as default, and this value must be **fine-tuned** in order to know what value is the best.  Any parameters such as learning rate that we need to fine-tuned through trial and errors are called **hyperparameters**.\r\n",
    "\r\n",
    "In order to implement this algorithm, we have to find the **partial derivative of the loss function in respect to each $\\theta_j$**.  Let's try the partial derivative of our loss function in respect to $\\theta_j$.  Also, let's first work it out for only one training example first as follows:\r\n",
    "\r\n",
    "$$\r\n",
    "\\begin{aligned}\r\n",
    "\\frac{\\partial J}{\\partial \\theta_j} &= \\frac{\\partial}{\\partial \\theta_j} \\frac{1}{2}(h_\\theta(x) - y)^2 \\\\\r\n",
    "&= 2 * \\frac{1}{2} (h_\\theta(x) - y) * \\frac{\\partial}{\\partial \\theta_j} (h_\\theta(x) - y) \\\\\r\n",
    "&= 2 * \\frac{1}{2} (h_\\theta(x) - y) * \\frac{\\partial}{\\partial \\theta_j} \\big(\\Sigma_{i=0}^n \\theta_ix_i - y\\big) \\\\\r\n",
    "&= (h_\\theta(x) - y)x_j\r\n",
    "\\end{aligned}\r\n",
    "$$\r\n",
    "\r\n",
    "This rule has several properties that seem natural and intuitive. For instance, the magnitude of the update is proportional to the **error** term $h_\\theta(x) - y$; thus, for instance, if we are encountering a training example on which our prediction nearly matches the actual value of $y^{(i)}$, then we find that there is little need to change the parameters; in contrast, a larger change to the parameters will be made if our prediction has a large error (i.e., if it is very far from $y^{(i)}$).\r\n",
    "\r\n",
    "To modify the update rule for whole training example, we revise the update rule to include the summation as\r\n",
    "\r\n",
    "$$\\theta_j := \\theta_j - \\alpha * \\Sigma_{i=1}^m(h_\\theta(x^{(i)}) - y^{(i)})x_j \\tag{for every $j$}$$\r\n",
    "\r\n",
    "Notice that minus sign which indicates **gradient descent**.  We can simply flip the sign to plus and called it as **gradient ascent**, both of which give the same answer.\r\n",
    "\r\n",
    "$$\\theta_j := \\theta_j + \\alpha * \\Sigma_{i=1}^m(y^{(i)} - h_\\theta(x^{(i)}))x_j^{(i)} \\tag{for every $j$}$$\r\n",
    "\r\n",
    "Since this gradient descent calculates gradient using every example in the entire training set, we called this as **batch gradient descent**.\r\n",
    "\r\n",
    "Sometimes, performing batch gradient descent can be slow, thus we can use **stochastic gradient descent** which refers to looking at only one training example, where we can pick with or without replacement.  Here, **without replacement** refers to the process in which no same sample is used in the same **epoch**.  Here epoch means one  iteration which the whole training set is being exhausted.  Thus, in without replacement, we simply loop from $i =1$ to $m$ for one epoch.\r\n",
    "\r\n",
    "$$ \\theta_j := \\theta_j - \\alpha *(h_\\theta(x)^{(i)}-y^{(i)})x_j \\tag{for every $j$}$$\r\n",
    "\r\n",
    "Although **stochastic gradient descent** may be faster, it rarely converges to the optimum given its randomness.  A middle ground is **mini-batch gradient descent** which can be expressed as\r\n",
    "\r\n",
    "$$\\theta_j := \\theta_j + \\alpha * \\Sigma_{i=start}^{batchsize}(y^{(i)} - h_\\theta(x^{(i)}))x_j^{(i)} \\tag{for every $j$}$$\r\n",
    "\r\n",
    "Similarly, we can do this with or without replacement.  In without replacement, we simply chop evenly and exhaust the whole training set for one epoch.\r\n",
    "\r\n",
    "#### Closed form\r\n",
    "\r\n",
    "Gradient descent gives one possible mean for minimizing $J$, which uses iterative approach and may take time.  In the situation where we know that our cost function is strictly concave or convex, we can explicitly take its derivative to zero.  This process of derivation is called obtaining the **normal equations** or **closed form**. \r\n",
    "\r\n",
    "The **closed form** of linear regression can be derived easily.  Let $X$ be a matrix of shape $(m, n)$, $\\theta$ as shape $(n, )$, and $Y$ as vector of shape $(m, )$.  Instead of writing the cost function as power of square, we shall write it in matrix multiplication as follows:\r\n",
    "\r\n",
    "$$\\frac{\\partial J}{\\partial \\theta} (X\\theta - Y)^T*(X\\theta-Y)$$\r\n",
    "\r\n",
    "Recall the following properties:\r\n",
    "\r\n",
    "$$\\frac{\\partial J}{\\partial X} X^TX=2X \\tag{A}$$\r\n",
    "$$\\frac{\\partial J}{\\partial X} AX=A^T$$\r\n",
    "$$(XY)^T = Y^TX^T$$\r\n",
    "\r\n",
    "Therefore\r\n",
    "\r\n",
    "\\begin{align*}\r\n",
    "\\frac{\\partial J}{\\partial \\theta} (X\\theta - Y)^T*(X\\theta-Y) &= \\frac{\\partial J}{\\partial \\theta} (\\theta^TX^TX\\theta - \\theta^TX^TY - Y^TX\\theta + Y^TY)\\\\\r\n",
    "&= 2X^TX\\theta - 2X^TY \\tag{see note*}\\\\\r\n",
    "&= X^TX\\theta - X^TY = 0 \\tag{set derivative to 0}\\\\\r\n",
    "&= \\theta = (X^TX)^{-1}X^TY\r\n",
    "\\end{align*}\r\n",
    "\r\n",
    "\r\n",
    "Note*: Since $X\\theta$ is a vector, and so is $Y$, it doesn't matter what the order is, thus we can simply add them to 2.  Also, we got 2 in front of the first part because we have two $\\theta$ (used the property A)\r\n",
    "\r\n",
    "\r\n",
    "**Why not closed form always**.  The answer is simple.  It does not always exists or possible, for example, the cost function is not convex or concave.  But of course, if it exists, we usually prefer closed form given that it is usually faster than gradient descent.  Nevertheless, as you can see, taking inverse of huge number of features can be expensive, thus it is also not always straightforward thing to always prefer closed form.\r\n",
    "\r\n",
    "Yes, that's it for most of the theoretical stuff.  Let's start implementing some of these concepts so we can better understand them.\r\n",
    "\r\n",
    "After we implement them from scratch, we shall explore them further using sklearn which will save us a lot of time from implementing from scratch and also comes with a lot of nice utilities."
   ],
   "metadata": {}
  },
  {
   "cell_type": "markdown",
   "source": [
    "### Algorithm 1: Closed Form\r\n",
    "\r\n",
    "The closed form is a normal equations derived from setting the derivatives = 0.  By performing only some inverse operations and matrix multiplication, we will be able to get the theta.\r\n",
    "\r\n",
    "$$\\theta = (X^TX)^{-1}X^TY$$\r\n",
    "\r\n",
    "When closed form is available, is doable (can be inversed - can use pseudoinverse), and with not many features (i.e., inverse can be slow), it is recommended to always use closed form.  \r\n",
    "\r\n",
    "**Implementation steps:**\r\n",
    "\r\n",
    "1. Prepare your data\r\n",
    "    - add intercept\r\n",
    "    - $X$ and $y$ and $w$ in the right shape\r\n",
    "        - $X$ -> $(m, n)$\r\n",
    "        - $y$ -> $(m, )$\r\n",
    "        - $w$ -> $(n, )$\r\n",
    "        - where $m$ is number of samples\r\n",
    "        - where $n$ is number of features\r\n",
    "    - train-test split\r\n",
    "    - feature scale\r\n",
    "    - clean out any missing data\r\n",
    "    - (optional) feature engineering\r\n",
    "2. Plug everything into the equation.  Here we shall use X_train to retrieve the $\\theta$\r\n",
    "$$\\theta = (X^TX)^{-1}X^TY$$\r\n",
    "\r\n",
    "3. We simply using the $\\theta$, we can perform a dot product with our X_test which will give us $\\hat{y}$.\r\n",
    "\r\n",
    "4. We then calculate the errors using mean-squared-error function:\r\n",
    "\r\n",
    "$$\\frac{1}{m}\\Sigma_{i=1}^m(h_\\theta(x^{(i)}) - y^{(i)})^2$$\r\n",
    "\r\n",
    "Note that it's a bit different from our $J(\\theta)$ because $J(\\theta)$ puts $\\frac{1}{2}$ instead of $\\frac{1}{m}$ for mathematical convenience for derivatives, since we know changing constants do not change the optimization results.\r\n",
    "\r\n",
    "\r\n",
    "#### 1.1 Get your X and y in the right shape"
   ],
   "metadata": {}
  },
  {
   "cell_type": "code",
   "execution_count": 26,
   "source": [
    "# 1. Let's load some boston data \r\n",
    "# as our regression case study\r\n",
    "from sklearn.datasets import load_boston\r\n",
    "# type - Bunch\r\n",
    "# Bunch - dictionary of numpy data\r\n",
    "# boston.feature_names\r\n",
    "# print(boston)\r\n",
    "boston = load_boston()"
   ],
   "outputs": [],
   "metadata": {}
  },
  {
   "cell_type": "code",
   "execution_count": 27,
   "source": [
    "X = boston.data\r\n",
    "X.shape #number of samples, number of features\r\n",
    "\r\n",
    "m = X.shape[0]  #number of samples\r\n",
    "n = X.shape[1]  #number of features"
   ],
   "outputs": [],
   "metadata": {}
  },
  {
   "cell_type": "code",
   "execution_count": 28,
   "source": [
    "y = boston.target"
   ],
   "outputs": [],
   "metadata": {}
  },
  {
   "cell_type": "code",
   "execution_count": 29,
   "source": [
    "# number of rows in X is the same as number of rows in y\r\n",
    "# because so we have yhat for all y\r\n",
    "assert m == y.shape[0] "
   ],
   "outputs": [],
   "metadata": {}
  },
  {
   "cell_type": "markdown",
   "source": [
    "#### 1.2 Feature scale your data to reach faster convergence"
   ],
   "metadata": {}
  },
  {
   "cell_type": "code",
   "execution_count": 30,
   "source": [
    "# I want to standardize my data so that mean is 0, variance is 1\r\n",
    "# average across each feature, NOT across each sample\r\n",
    "# Why we need to standardize\r\n",
    "# Because standardizing usually allows us to reach convergence faster\r\n",
    "# Why -> because the values are within smaller range\r\n",
    "# Thus, the gradients are also within limited range, and NOT go crazy\r\n",
    "\r\n",
    "from sklearn.preprocessing import StandardScaler\r\n",
    "\r\n",
    "# 1. StandardScaler.fit(X)  #this scaler (or self) knows the mean and std so now\r\n",
    "# it knows how to transform data\r\n",
    "# 2  X = StandardScaler.transform(X)  #not in place; will return something\r\n",
    "\r\n",
    "# 1. StandardScaler.fit_transform(X) -> 1 and 2 sequentially\r\n",
    "\r\n",
    "# create an object of StandardScaler\r\n",
    "# StandardScaler is a class\r\n",
    "# scaler is called instance/object\r\n",
    "\r\n",
    "# ALMOST always, feature scale your data using normalization or standardization\r\n",
    "# If you assume your data is gaussian, use standardization, otherwise, you do the normalization\r\n",
    "\r\n",
    "scaler = StandardScaler()\r\n",
    "\r\n",
    "X = scaler.fit_transform(X)"
   ],
   "outputs": [],
   "metadata": {}
  },
  {
   "cell_type": "markdown",
   "source": [
    "#### 1.3 Train test split your data"
   ],
   "metadata": {}
  },
  {
   "cell_type": "code",
   "execution_count": 31,
   "source": [
    "# what is the appropriate size for test data\r\n",
    "# 70/30 (small dataset); 80/20 (medium dataset); 90/10 (large dataset);\r\n",
    "# why large dataset, can set test size to 10, because\r\n",
    "# 10% of large dataset is already enough for testing accuracy\r\n",
    "from sklearn.model_selection import train_test_split\r\n",
    "\r\n",
    "X_train, X_test, y_train, y_test = train_test_split(X, y, test_size = 0.3)\r\n",
    "\r\n",
    "assert len(X_train)  == len(y_train)\r\n",
    "assert len(X_test) == len(y_test)"
   ],
   "outputs": [],
   "metadata": {}
  },
  {
   "cell_type": "markdown",
   "source": [
    "#### 1.4 Add intercepts"
   ],
   "metadata": {}
  },
  {
   "cell_type": "code",
   "execution_count": 32,
   "source": [
    "# What is the shape of X they want\r\n",
    "# (number of samples, number of features) --> correct shape\r\n",
    "# for closed form formula\r\n",
    "# How about the intercept\r\n",
    "# w0 is OUR intercept\r\n",
    "# what is the shape of w -->(n+1, )\r\n",
    "# What is the shape of intercept --->(m, 1)\r\n",
    "#X = [1 2 3     @  [w0\r\n",
    "#     1 4 6         w1\r\n",
    "#     1 9 1         w2 \r\n",
    "#     1 10 2 ] \r\n",
    "\r\n",
    "# np.ones((shape))\r\n",
    "intercept = np.ones((X_train.shape[0], 1))\r\n",
    "\r\n",
    "# concatenate the intercept based on axis=1\r\n",
    "X_train = np.concatenate((intercept, X_train), axis=1)\r\n",
    "\r\n",
    "# np.ones((shape))\r\n",
    "intercept = np.ones((X_test.shape[0], 1))\r\n",
    "\r\n",
    "# concatenate the intercept based on axis=1\r\n",
    "X_test = np.concatenate((intercept, X_test), axis=1)"
   ],
   "outputs": [],
   "metadata": {}
  },
  {
   "cell_type": "markdown",
   "source": [
    "#### 1.5. Feature Engineering (optional)\n",
    "\n",
    "It is sometimes useful to engineer new features (e.g., polynomial, kernels) so to create some non-linear relationships with your target.\n",
    "\n",
    "Here we gonna skip"
   ],
   "metadata": {}
  },
  {
   "cell_type": "markdown",
   "source": [
    "### Step 2: Fit your algorithm \n",
    "\n",
    "#### 1. Define your algorithm"
   ],
   "metadata": {}
  },
  {
   "cell_type": "code",
   "execution_count": 33,
   "source": [
    "from numpy.linalg import inv\r\n",
    "\r\n",
    "# order of operation DOES NOT MATTER\r\n",
    "# But don't flip y before X^T for example\r\n",
    "def closed_form(X, y):\r\n",
    "    return inv(X.T @ X) @ X.T @ y"
   ],
   "outputs": [],
   "metadata": {}
  },
  {
   "cell_type": "code",
   "execution_count": 34,
   "source": [
    "# let's use the closed_form to find the theta\r\n",
    "theta = closed_form(X_train, y_train)\r\n",
    "theta  #<------this is our model"
   ],
   "outputs": [
    {
     "output_type": "execute_result",
     "data": {
      "text/plain": [
       "array([22.36768371, -0.7334575 ,  0.47556167,  0.23019729,  0.73870066,\n",
       "       -1.557821  ,  3.29499542, -0.25403808, -2.25993984,  2.32837865,\n",
       "       -2.16534738, -2.04283595,  0.66692148, -3.42962899])"
      ]
     },
     "metadata": {},
     "execution_count": 34
    }
   ],
   "metadata": {}
  },
  {
   "cell_type": "markdown",
   "source": [
    "#### 2. Compute accuracy/loss"
   ],
   "metadata": {}
  },
  {
   "cell_type": "code",
   "execution_count": 35,
   "source": [
    "# Compute the accuracy/loss\r\n",
    "\r\n",
    "yhat = X_test @ theta #==> X (m, n+1)  @ (n+1, ) w ==> (m, ) y\r\n",
    "\r\n",
    "# if I want to compare yhat and y, I need to make sure they are the same shape\r\n",
    "assert y_test.shape == yhat.shape"
   ],
   "outputs": [],
   "metadata": {}
  },
  {
   "cell_type": "code",
   "execution_count": 36,
   "source": [
    "# get the mse\r\n",
    "mse = ((y_test - yhat)**2).sum() / X_test.shape[0]\r\n",
    "print(\"Mean squared errors: \", mse)"
   ],
   "outputs": [
    {
     "output_type": "stream",
     "name": "stdout",
     "text": [
      "Mean squared errors:  26.451245174252406\n"
     ]
    }
   ],
   "metadata": {}
  },
  {
   "cell_type": "markdown",
   "source": [
    "### Algorithm 2: Batch Gradient Descent\n",
    "\n",
    "The gradient descent has the following steps:\n",
    "\n",
    "1. Prepare your data\n",
    "    - add intercept\n",
    "    - $X$ and $y$ and $w$ in the right shape\n",
    "        - $X$ -> $(m, n)$\n",
    "        - $y$ -> $(m, )$\n",
    "        - $w$ -> $(n, )$\n",
    "    - train-test split\n",
    "    - feature scale\n",
    "    - clean out any missing data\n",
    "    - (optional) feature engineering\n",
    "2. Predict and calculate the loss\n",
    "    - The loss function is the mean squared error\n",
    "    $$J = \\frac{\\Sigma_{i=1}^{m}(h-y)^2}{2}$$\n",
    "    where $h$ is simply\n",
    "    $$ h = \\theta^Tx $$\n",
    "3. Calculate the gradient based on the loss\n",
    "    - The gradient of the loss function is\n",
    "    $$\\frac{\\partial J}{\\partial \\theta_j} = \\Sigma_{i=1}^{m}(h^{(i)}-y^{(i)})x_j$$\n",
    "4. Update the theta with this update rule\n",
    "    $$\\theta_j := \\theta_j - \\alpha * \\frac{\\partial J}{\\partial \\theta_j}$$\n",
    "    where $\\alpha$ is a typical learning rate range between 0 and 1\n",
    "5. Loop 2-4 until max_iter is reached, or the difference between old loss and new loss are smaller than some predefined threshold tol"
   ],
   "metadata": {}
  },
  {
   "cell_type": "markdown",
   "source": [
    "#### 1. Define your algorithm"
   ],
   "metadata": {}
  },
  {
   "cell_type": "code",
   "execution_count": 117,
   "source": [
    "from time import time\r\n",
    "\r\n",
    "# Step 1: Prepare your data\r\n",
    "# X_train, X_test have intercepts that are being concatenated to the data\r\n",
    "# [1, features\r\n",
    "#  1, features....]\r\n",
    "\r\n",
    "# making sure our X_train has same sample size as y_train\r\n",
    "assert X_train.shape[0] == y_train.shape[0]\r\n",
    "\r\n",
    "# initialize our w\r\n",
    "# We don't have to do X.shape[1] + 1 because our X_train already has the\r\n",
    "# intercept\r\n",
    "# w = theta/beta/coefficients\r\n",
    "theta = np.zeros(X_train.shape[1])\r\n",
    "\r\n",
    "# define the learning rate\r\n",
    "# later on, you gonna know that it should be better to make it slowly decreasing\r\n",
    "# once we perform a lot of iterations, we want the update to slow down, so it converges better\r\n",
    "alpha = 0.0001\r\n",
    "\r\n",
    "# define our max_iter\r\n",
    "# typical to call it epochs <---ml people likes to call it\r\n",
    "max_iter = 1000\r\n",
    "\r\n",
    "loss_old = 10000\r\n",
    "\r\n",
    "tol = 0.0001\r\n",
    "\r\n",
    "iter_stop = 0\r\n",
    "\r\n",
    "def h_theta(X, theta):\r\n",
    "    return X @ theta\r\n",
    "\r\n",
    "def mse(yhat, y):\r\n",
    "    ans = (((yhat - y)**2).sum()) / yhat.shape[0]\r\n",
    "    return ans\r\n",
    "\r\n",
    "def gradient(X, error):\r\n",
    "    return X.T @ error\r\n",
    "\r\n",
    "start = time()\r\n",
    "\r\n",
    "# define your for loop\r\n",
    "for i in range(max_iter):\r\n",
    "    \r\n",
    "    # 1. yhat = X @ w\r\n",
    "    # prediction\r\n",
    "    # yhat (m, ) = (m, n) @ (n, )\r\n",
    "    yhat = h_theta(X_train, theta)\r\n",
    "\r\n",
    "    # 2. error = yhat - y_train\r\n",
    "    # error for use to calculate gradients\r\n",
    "    # error (m, ) = (m, ) - (m, )\r\n",
    "    error = yhat - y_train\r\n",
    "\r\n",
    "    # 3. grad = X.T @ error\r\n",
    "    # grad (n, ) = (n, m) @ (m, )\r\n",
    "    # grad for each feature j\r\n",
    "    grad = gradient(X_train, error)\r\n",
    "\r\n",
    "    # 4. w = w - alpha * grad\r\n",
    "    # update w\r\n",
    "    # w (n, ) = (n, ) - scalar * (n, )\r\n",
    "    theta = theta - alpha * grad\r\n",
    "\r\n",
    "time_taken = time() - start"
   ],
   "outputs": [],
   "metadata": {}
  },
  {
   "cell_type": "markdown",
   "source": [
    "#### 2. Compute accuracy/loss"
   ],
   "metadata": {}
  },
  {
   "cell_type": "code",
   "execution_count": 118,
   "source": [
    "# we got our lovely w\r\n",
    "# now it's time to check our accuracy\r\n",
    "# 1. Make prediction\r\n",
    "yhat = h_theta(X_test, theta)\r\n",
    "\r\n",
    "# 2. Calculate mean squared errors\r\n",
    "mse_result = mse(yhat, y_test)\r\n",
    "# print the mse\r\n",
    "print(\"MSE: \", mse_result)\r\n",
    "print(\"Stop at iteration: \", iter_stop)\r\n",
    "print(\"Time used: \", time_taken)"
   ],
   "outputs": [
    {
     "output_type": "stream",
     "name": "stdout",
     "text": [
      "MSE:  26.525588464427056\n",
      "Stop at iteration:  0\n",
      "Time used:  0.007861852645874023\n"
     ]
    }
   ],
   "metadata": {}
  },
  {
   "cell_type": "markdown",
   "source": [
    "### Algorithm 3: Stochastic Gradient Descent\n",
    "\n",
    "The gradient descent has the following steps:\n",
    "\n",
    "1. Prepare your data\n",
    "    - add intercept\n",
    "    - $X$ and $y$ and $w$ in the right shape\n",
    "        - $X$ -> $(m, n)$\n",
    "        - $y$ -> $(m, )$\n",
    "        - $w$ -> $(n, )$\n",
    "    - train-test split\n",
    "    - feature scale\n",
    "    - clean out any missing data\n",
    "    - (optional) feature engineering\n",
    "2. Predict and calculate the loss\n",
    "3. Calculate the gradient based on the loss\n",
    "    - **This differs from batch gradient descent that it only uses one sample to estimate the loss and gradient**\n",
    "        $$\\frac{\\partial J}{\\partial \\theta_j} = (h^{(i)}-y^{(i)})x_j$$\n",
    "4. Update the theta\n",
    "5. Loop 2-4 until max_iter is reached, or the difference between old loss and new loss are smaller than some predefined threshold tol"
   ],
   "metadata": {}
  },
  {
   "cell_type": "markdown",
   "source": [
    "### Algorithm 4: Mini-Batch Gradient Descent\n",
    "\n",
    "The gradient descent has the following steps:\n",
    "\n",
    "1. Prepare your data\n",
    "    - add intercept\n",
    "    - $X$ and $y$ and $w$ in the right shape\n",
    "        - $X$ -> $(m, n)$\n",
    "        - $y$ -> $(m, )$\n",
    "        - $w$ -> $(n, )$\n",
    "    - train-test split\n",
    "    - feature scale\n",
    "    - clean out any missing data\n",
    "    - (optional) feature engineering\n",
    "2. Predict and calculate the loss\n",
    "3. Calculate the gradient based on the loss\n",
    "    - **This differs from batch gradient descent that it only uses a subset of samples to estimate the loss and gradient**\n",
    "        $$\\frac{\\partial J}{\\partial \\theta_j} = \\Sigma_{i=start}^{batch}(h^{(i)}-y^{(i)})x_j$$\n",
    "    where start is a randomized number within the range of $m$ and batch is a predefined batch size, typically around 100 to 500\n",
    "4. Update the theta\n",
    "5. Loop 2-4 until max_iter is reached, or the difference between old loss and new loss are smaller than some predefined threshold tol\n",
    "\n",
    "I will not implement this, but leave to your exercise.  Enjoy!"
   ],
   "metadata": {}
  },
  {
   "cell_type": "markdown",
   "source": [
    "### === Task ===\r\n",
    "\r\n",
    "1. Implement early stopping in which if the absolute difference between old loss and new loss does not exceed certain threshold, we abort the learning.\r\n",
    "\r\n",
    "2. Implement options for stochastic gradient descent in which we use only one sample for training.  Make sure that sample does not repeat unless all samples are read at least once already.\r\n",
    "\r\n",
    "3. Add options for mini-batch gradient descent.\r\n",
    "\r\n",
    "3. Put everything into class."
   ],
   "metadata": {}
  },
  {
   "cell_type": "code",
   "execution_count": 120,
   "source": [
    "max_iter = 1000\r\n",
    "\r\n",
    "loss_old = 10000\r\n",
    "\r\n",
    "tol = 0.00001\r\n",
    "\r\n",
    "iter_stop = 0\r\n",
    "\r\n",
    "start = time()\r\n",
    "\r\n",
    "# define your for loop\r\n",
    "for i in range(max_iter):\r\n",
    "    \r\n",
    "    # 1. yhat = X @ w\r\n",
    "    # prediction\r\n",
    "    # yhat (m, ) = (m, n) @ (n, )\r\n",
    "    yhat = h_theta(X_train, theta)\r\n",
    "\r\n",
    "    # 2. error = yhat - y_train\r\n",
    "    # error for use to calculate gradients\r\n",
    "    # error (m, ) = (m, ) - (m, )\r\n",
    "    error = yhat - y_train\r\n",
    "    \r\n",
    "    # 3. grad = X.T @ error\r\n",
    "    # grad (n, ) = (n, m) @ (m, )\r\n",
    "    # grad for each feature j\r\n",
    "    grad = gradient(X_train, error)\r\n",
    "\r\n",
    "    # 4. w = w - alpha * grad\r\n",
    "    # update w\r\n",
    "    # w (n, ) = (n, ) - scalar * (n, )\r\n",
    "    theta = theta - alpha * grad\r\n",
    "\r\n",
    "    loss_new = mse(yhat, y_train)\r\n",
    "    diff = np.abs(loss_new - loss_old)\r\n",
    "    #print(i, diff)\r\n",
    "\r\n",
    "    if diff < tol:\r\n",
    "        iter_stop = i+1\r\n",
    "        break\r\n",
    "    else:\r\n",
    "        loss_old = loss_new\r\n",
    "        \r\n",
    "\r\n",
    "\r\n",
    "time_taken = time() - start\r\n",
    "print(\"Stop at iteration: \", iter_stop)\r\n",
    "print(\"Time used: \", time_taken)"
   ],
   "outputs": [
    {
     "output_type": "stream",
     "name": "stdout",
     "text": [
      "Stop at iteration:  2\n",
      "Time used:  0.0\n"
     ]
    }
   ],
   "metadata": {}
  },
  {
   "cell_type": "code",
   "execution_count": null,
   "source": [],
   "outputs": [],
   "metadata": {}
  }
 ],
 "metadata": {
  "kernelspec": {
   "name": "python3",
   "display_name": "Python 3.8.10 64-bit ('base': conda)"
  },
  "language_info": {
   "codemirror_mode": {
    "name": "ipython",
    "version": 3
   },
   "file_extension": ".py",
   "mimetype": "text/x-python",
   "name": "python",
   "nbconvert_exporter": "python",
   "pygments_lexer": "ipython3",
   "version": "3.8.10"
  },
  "interpreter": {
   "hash": "54d292b6f3ca4ff13f504c55e6e4b729c6c0a14070d37d9d8c8aca786423add6"
  }
 },
 "nbformat": 4,
 "nbformat_minor": 4
}