{
 "cells": [
  {
   "cell_type": "markdown",
   "source": [
    "### ===Task===\r\n",
    "\r\n",
    "Modify the above scratch code such that:\r\n",
    "- Notice that we are still using max_depth = 1.  Attempt to tweak min_samples_split, max_depth for the regression and see whether we can achieve better mse on our boston data\r\n",
    "- Notice that we only write scratch code for gradient boosting for regression, add some code so that it also works for binary classification.  Load the breast cancer data from sklearn and see that it works.\r\n",
    "- Further change the code so that it works for multiclass classification.  Load the digits data from sklearn and see that it works\r\n",
    "- Put everything into class"
   ],
   "metadata": {}
  },
  {
   "cell_type": "code",
   "execution_count": 21,
   "source": [
    "from scipy.special import expit\r\n",
    "from sklearn.tree import DecisionTreeRegressor\r\n",
    "from sklearn.dummy import DummyRegressor\r\n",
    "\r\n",
    "def grad(y, h):\r\n",
    "    return y - h\r\n",
    "\r\n",
    "def fit(X, y, models):\r\n",
    "    \r\n",
    "    models_trained = []\r\n",
    "    \r\n",
    "    #using DummyRegressor is a good technique for starting model\r\n",
    "    tree_params = {'max_depth': 1}\r\n",
    "    first_model = DecisionTreeRegressor(**tree_params)\r\n",
    "    first_model.fit(X, y)\r\n",
    "    models_trained.append(first_model)\r\n",
    "    \r\n",
    "    #fit the estimators\r\n",
    "    for i, model in enumerate(models):\r\n",
    "        #predict using all the weak learners we trained up to\r\n",
    "        #this point\r\n",
    "        y_pred = predict(X, models_trained)\r\n",
    "        \r\n",
    "        #errors will be the total errors maded by models_trained\r\n",
    "        residual = grad(y, y_pred)\r\n",
    "        \r\n",
    "        #fit the next model with residual\r\n",
    "        model.fit(X, residual)\r\n",
    "        \r\n",
    "        models_trained.append(model)\r\n",
    "        \r\n",
    "    return models_trained\r\n",
    "        \r\n",
    "def predict(X, models):\r\n",
    "    learning_rate = 0.1  ##hard code for now\r\n",
    "    f0 = models[0].predict(X)  #first use the dummy model\r\n",
    "    boosting = sum(learning_rate * model.predict(X) for model in models[1:])\r\n",
    "    return f0 + boosting"
   ],
   "outputs": [],
   "metadata": {}
  },
  {
   "cell_type": "code",
   "execution_count": 26,
   "source": [
    "# Regression\r\n",
    "\r\n",
    "from sklearn.datasets import load_boston\r\n",
    "from sklearn.metrics import mean_squared_error\r\n",
    "from sklearn.model_selection import train_test_split\r\n",
    "\r\n",
    "X, y = load_boston(return_X_y=True)\r\n",
    "\r\n",
    "X_train, X_test, y_train, y_test = train_test_split(X, y, \r\n",
    "                                                    test_size=0.3, random_state=42)\r\n",
    "\r\n",
    "n_estimators = 200\r\n",
    "tree_params = {'max_depth': 1}\r\n",
    "models = [DecisionTreeRegressor(**tree_params) for _ in range(n_estimators)]\r\n",
    "\r\n",
    "\r\n",
    "#fit the models\r\n",
    "models = fit(X_train, y_train, models)\r\n",
    "\r\n",
    "#predict\r\n",
    "y_pred = predict(X_test, models)\r\n",
    "\r\n",
    "#print metrics\r\n",
    "print(\"Our MSE: \", mean_squared_error(y_test, y_pred))"
   ],
   "outputs": [
    {
     "output_type": "stream",
     "name": "stdout",
     "text": [
      "Our MSE:  13.990261066816064\n",
      "(354, 13)\n"
     ]
    }
   ],
   "metadata": {}
  },
  {
   "cell_type": "code",
   "execution_count": null,
   "source": [
    "import numpy as np\r\n",
    "from sklearn.tree import DecisionTreeRegressor\r\n",
    "from sklearn.dummy import DummyRegressor\r\n",
    "\r\n",
    "\r\n",
    "class GradientBoosting:\r\n",
    "    def __init__(self, learning_rate=0.01, min_sample_split=2, max_depth=1, n_estimators=5, reg = True):\r\n",
    "        self.learning_rate = learning_rate\r\n",
    "        self.reg = reg\r\n",
    "        self.min_sample_split = min_sample_split\r\n",
    "        self.max_depth = max_depth\r\n",
    "        tree_params = {'max_depth': self.max_depth,\r\n",
    "        'min_samples_split': self.min_sample_split}\r\n",
    "        self.models = [DecisionTreeRegressor(**tree_params) for _ in range(n_estimators)]\r\n",
    "        self.first_model = DummyRegressor(strategy='mean')\r\n",
    "\r\n",
    "    def grad(self, y, h):\r\n",
    "        return y - h\r\n",
    "        \r\n",
    "    def fit(self, X, y, models):\r\n",
    "        self.models_trained = []\r\n",
    "        self.first_model.fix(X, y)\r\n",
    "        self.models_trained.append(self.first_model)\r\n",
    "        for i, model in enumerate(models):\r\n",
    "            y_pred = predict(X, self.models_trained)\r\n",
    "            \r\n",
    "            residual = grad(y, y_pred)\r\n",
    "            \r\n",
    "            model.fit(X, residual)\r\n",
    "            \r\n",
    "            self.models_trained.append(model)\r\n",
    "\r\n",
    "    def predict(self, X):        \r\n",
    "        f0 = self.models_trained[0].predict(X)  #first use the dummy model\r\n",
    "        boosting = sum(self.learning_rate * model.predict(X) for model in self.models_trained[1:])\r\n",
    "        yhat = f0 + boosting\r\n",
    "        if not self.reg:\r\n",
    "            yhat = np.exp(yhat) / np.sum(np.exp(yhat), axis=1)\r\n",
    "        return yhat"
   ],
   "outputs": [],
   "metadata": {}
  },
  {
   "cell_type": "code",
   "execution_count": 14,
   "source": [
    "print(type(models[1]))"
   ],
   "outputs": [
    {
     "output_type": "stream",
     "name": "stdout",
     "text": [
      "<class 'sklearn.tree._classes.DecisionTreeRegressor'>\n"
     ]
    }
   ],
   "metadata": {}
  }
 ],
 "metadata": {
  "orig_nbformat": 4,
  "language_info": {
   "name": "python",
   "version": "3.8.10",
   "mimetype": "text/x-python",
   "codemirror_mode": {
    "name": "ipython",
    "version": 3
   },
   "pygments_lexer": "ipython3",
   "nbconvert_exporter": "python",
   "file_extension": ".py"
  },
  "kernelspec": {
   "name": "python3",
   "display_name": "Python 3.8.10 64-bit ('base': conda)"
  },
  "interpreter": {
   "hash": "54d292b6f3ca4ff13f504c55e6e4b729c6c0a14070d37d9d8c8aca786423add6"
  }
 },
 "nbformat": 4,
 "nbformat_minor": 2
}