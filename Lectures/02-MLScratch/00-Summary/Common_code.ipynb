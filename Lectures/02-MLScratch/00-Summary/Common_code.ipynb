{
 "cells": [
  {
   "cell_type": "markdown",
   "source": [
    "### Batch"
   ],
   "metadata": {}
  },
  {
   "cell_type": "code",
   "execution_count": null,
   "source": [
    "list_of_used_ix = [] \r\n",
    "for i in range(self.max_iter):\r\n",
    "    if self.method == \"minibatch\":\r\n",
    "        ix = np.random.randint(0, X.shape[0])\r\n",
    "        batch_X = X[ix:ix+batch_size]\r\n",
    "        batch_y = y[ix:ix+batch_size]\r\n",
    "    elif self.method == \"sto\":\r\n",
    "        idx = np.random.randint(0, X.shape[0])\r\n",
    "        while idx in list_of_used_ix:\r\n",
    "            idx = np.random.randint(X_train.shape[0])\r\n",
    "        batch_X = X[ix, :].reshape(1, -1)\r\n",
    "        batch_y = y[ix]\r\n",
    "        list_of_used_ix.append(idx)\r\n",
    "        if len(list_of_used_ix) == X_train.shape[0]: list_of_used_ix = []\r\n",
    "    elif self.method == \"batch\":\r\n",
    "        batch_X = X\r\n",
    "        batch_y = y\r\n",
    "    else:\r\n",
    "        print(\"Method is not match\")"
   ],
   "outputs": [],
   "metadata": {}
  },
  {
   "cell_type": "markdown",
   "source": [
    "### Data split (from scratch)"
   ],
   "metadata": {}
  },
  {
   "cell_type": "code",
   "execution_count": null,
   "source": [
    "# Shuffle\r\n",
    "data = np.concatenate((X, y.reshape(-1,1)), axis=1)\r\n",
    "rng = np.random.default_rng()\r\n",
    "rng.shuffle(data)\r\n",
    "X = data[:,:-1]\r\n",
    "y = data[:,-1]"
   ],
   "outputs": [],
   "metadata": {}
  },
  {
   "cell_type": "code",
   "execution_count": null,
   "source": [
    "# data split\r\n",
    "train_size = round(70/100 * X.shape[0])\r\n",
    "X_train = X[:train_size, :]\r\n",
    "Y_train = y[:train_size]\r\n",
    "X_test = X[train_size:,:]\r\n",
    "Y_test = y[train_size:]"
   ],
   "outputs": [],
   "metadata": {}
  },
  {
   "cell_type": "markdown",
   "source": [
    "### D"
   ],
   "metadata": {}
  },
  {
   "cell_type": "markdown",
   "source": [],
   "metadata": {}
  }
 ],
 "metadata": {
  "orig_nbformat": 4,
  "language_info": {
   "name": "python",
   "version": "3.8.10"
  },
  "kernelspec": {
   "name": "python3",
   "display_name": "Python 3.8.10 64-bit ('base': conda)"
  },
  "interpreter": {
   "hash": "54d292b6f3ca4ff13f504c55e6e4b729c6c0a14070d37d9d8c8aca786423add6"
  }
 },
 "nbformat": 4,
 "nbformat_minor": 2
}