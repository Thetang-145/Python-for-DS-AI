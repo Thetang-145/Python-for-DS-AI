{
 "cells": [
  {
   "cell_type": "markdown",
   "source": [
    "Modify the Bagging scratch code in our lecture such that:\n",
    "- Calculate for oob evaluation for each bootstrapped dataset, and also the average score\n",
    "- Change the code to \"without replacement\"\n",
    "- Put everything into a class <code>Bagging</code>.  It should have at least two methods, <code>fit(X_train, y_train)</code>, and <code>predict(X_test)</code>\n",
    "- Modify the code from above to randomize features.  Set the number of features to be used in each tree to be <code>sqrt(n)</code>, and then select a subset of features for each tree.  This can be easily done by setting our DecisionTreeClassifier <code>max_features</code> to 'sqrt'"
   ],
   "metadata": {}
  },
  {
   "cell_type": "code",
   "execution_count": 2,
   "source": [
    "from sklearn.datasets import load_iris\r\n",
    "from sklearn.model_selection import train_test_split\r\n",
    "from sklearn.metrics import classification_report\r\n",
    "\r\n",
    "iris = load_iris()\r\n",
    "X = iris.data\r\n",
    "y = iris.target\r\n",
    "\r\n",
    "X_train, X_test, y_train, y_test = train_test_split(X, y, \r\n",
    "                test_size=0.3, shuffle=True, random_state=42)"
   ],
   "outputs": [],
   "metadata": {}
  },
  {
   "cell_type": "code",
   "execution_count": 3,
   "source": [
    "import random, math\r\n",
    "from sklearn.tree import DecisionTreeClassifier\r\n",
    "from scipy import stats\r\n",
    "from sklearn.metrics import classification_report, accuracy_score\r\n",
    "import numpy as np\r\n",
    "\r\n",
    "class RandomForest:\r\n",
    "    def __init__(self, B, bootstrap_ratio, with_no_replacement=True):\r\n",
    "        self.B = B\r\n",
    "        self.bootstrap_ratio = bootstrap_ratio\r\n",
    "        self.with_no_replacement = with_no_replacement\r\n",
    "        self.tree_params = {'max_depth': 2, 'max_features': 'sqrt'}\r\n",
    "        self.models = [DecisionTreeClassifier(**self.tree_params) for _ in range(B)]\r\n",
    "                \r\n",
    "    def fit(self, X, y):  #<---X_train, y_train\r\n",
    "        m, n = X.shape\r\n",
    "\r\n",
    "        #sample size for each tree\r\n",
    "        sample_size = int(self.bootstrap_ratio * len(X))\r\n",
    "\r\n",
    "        xsamples = np.zeros((self.B, sample_size, n))\r\n",
    "        ysamples = np.zeros((self.B, sample_size))\r\n",
    "\r\n",
    "        xsamples_oob = []  #use list because length is not known\r\n",
    "        ysamples_oob = []\r\n",
    "\r\n",
    "        #bootstrapping samples for each model\r\n",
    "        for i in range(self.B):\r\n",
    "            oob_idx = []\r\n",
    "            idxes = []\r\n",
    "            for j in range(sample_size):\r\n",
    "                idx = random.randrange(m)\r\n",
    "                if (self.with_no_replacement):\r\n",
    "                    while idx in idxes:\r\n",
    "                        idx = random.randrange(m)\r\n",
    "                idxes.append(idx)\r\n",
    "                oob_idx.append(idx)\r\n",
    "                xsamples[i, j, :] = X[idx]\r\n",
    "                ysamples[i, j] = y[idx]\r\n",
    "            mask = np.zeros((m), dtype=bool)\r\n",
    "            mask[oob_idx] = True\r\n",
    "            xsamples_oob.append(X[~mask])\r\n",
    "            ysamples_oob.append(y[~mask])\r\n",
    "    \r\n",
    "        #fitting each estimator\r\n",
    "        oob_score = 0\r\n",
    "        print(\"======Out of bag score for each tree======\")\r\n",
    "        for i, model in enumerate(self.models):\r\n",
    "            \r\n",
    "            _X = xsamples[i]\r\n",
    "            _y = ysamples[i]\r\n",
    "            model.fit(_X, _y)\r\n",
    "\r\n",
    "            #calculating oob score\r\n",
    "            _X_test = np.asarray(xsamples_oob[i])\r\n",
    "            _y_test = np.asarray(ysamples_oob[i])\r\n",
    "            yhat = model.predict(_X_test)\r\n",
    "            oob_score += accuracy_score(_y_test, yhat)\r\n",
    "            print(f\"Tree {i}\", accuracy_score(_y_test, yhat))\r\n",
    "        self.avg_oob_score = oob_score / len(self.models)\r\n",
    "        print(\"======Average out of bag score======\")\r\n",
    "        print(self.avg_oob_score)\r\n",
    "    \r\n",
    "    def predict(self, X): #<---X_test\r\n",
    "        #make prediction and return the probabilities\r\n",
    "        predictions = np.zeros((self.B, X.shape[0]))\r\n",
    "        for i, model in enumerate(self.models):\r\n",
    "            yhat = model.predict(X)\r\n",
    "            predictions[i, :] = yhat\r\n",
    "        return stats.mode(predictions)[0][0]\r\n",
    "\r\n",
    "model = RandomForest(B=5, bootstrap_ratio=0.8)\r\n",
    "model.fit(X_train, y_train)\r\n",
    "yhat = model.predict(X_test)\r\n",
    "print(classification_report(y_test, yhat))"
   ],
   "outputs": [
    {
     "output_type": "stream",
     "name": "stdout",
     "text": [
      "======Out of bag score for each tree======\n",
      "Tree 0 0.9523809523809523\n",
      "Tree 1 0.9523809523809523\n",
      "Tree 2 1.0\n",
      "Tree 3 0.9523809523809523\n",
      "Tree 4 0.9523809523809523\n",
      "======Average out of bag score======\n",
      "0.9619047619047618\n",
      "              precision    recall  f1-score   support\n",
      "\n",
      "           0       1.00      1.00      1.00        19\n",
      "           1       1.00      1.00      1.00        13\n",
      "           2       1.00      1.00      1.00        13\n",
      "\n",
      "    accuracy                           1.00        45\n",
      "   macro avg       1.00      1.00      1.00        45\n",
      "weighted avg       1.00      1.00      1.00        45\n",
      "\n"
     ]
    }
   ],
   "metadata": {}
  },
  {
   "cell_type": "code",
   "execution_count": null,
   "source": [],
   "outputs": [],
   "metadata": {}
  }
 ],
 "metadata": {
  "kernelspec": {
   "name": "python3",
   "display_name": "Python 3.8.10 64-bit ('base': conda)"
  },
  "language_info": {
   "codemirror_mode": {
    "name": "ipython",
    "version": 3
   },
   "file_extension": ".py",
   "mimetype": "text/x-python",
   "name": "python",
   "nbconvert_exporter": "python",
   "pygments_lexer": "ipython3",
   "version": "3.8.10"
  },
  "interpreter": {
   "hash": "54d292b6f3ca4ff13f504c55e6e4b729c6c0a14070d37d9d8c8aca786423add6"
  }
 },
 "nbformat": 4,
 "nbformat_minor": 4
}