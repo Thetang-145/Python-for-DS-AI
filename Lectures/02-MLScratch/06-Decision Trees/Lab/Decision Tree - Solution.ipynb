{
 "cells": [
  {
   "cell_type": "markdown",
   "source": [
    "Modify the Decision Tree scratch code in our lecture such that:\n",
    "- Modify the scratch code so it can accept an hyperparameter <code>max_depth</code>, in which it will continue create the tree until max_depth is reached.</li>\n",
    "- Put everything into a class <code>DecisionTree</code>.  It should have at least two methods, <code>fit()</code>, and <code>predict()</code>\n",
    "- Load the iris data and try with your class</li>"
   ],
   "metadata": {}
  },
  {
   "cell_type": "code",
   "execution_count": 39,
   "source": [
    "import numpy as np\r\n",
    "\r\n",
    "class Node:\r\n",
    "    def __init__(self, predicted_class):\r\n",
    "        self.predicted_class = predicted_class\r\n",
    "        self.feature_index = 0\r\n",
    "        self.threshold = 0\r\n",
    "        self.left = None\r\n",
    "        self.right = None\r\n",
    "\r\n",
    "\r\n",
    "class DecisionTree:\r\n",
    "    def __init__(self, max_depth=None):\r\n",
    "        self.max_depth = max_depth\r\n",
    "\r\n",
    "    def fit(self, X, y):\r\n",
    "        self.n_classes_ = len(set(y))\r\n",
    "        self.n_features_ = X.shape[1]\r\n",
    "        self.tree_ = self._grow_tree(X, y)\r\n",
    "\r\n",
    "    def predict(self, X):\r\n",
    "        return [self._predict(inputs) for inputs in X]\r\n",
    "\r\n",
    "    def _best_split(self, X, y):\r\n",
    "        m = y.size\r\n",
    "        if m <= 1:\r\n",
    "            return None, None\r\n",
    "        num_parent = [np.sum(y == c) for c in range(self.n_classes_)]\r\n",
    "        best_gini = 1.0 - sum((n / m) ** 2 for n in num_parent)\r\n",
    "        best_idx, best_thr = None, None\r\n",
    "        for idx in range(self.n_features_):\r\n",
    "            thresholds, classes = zip(*sorted(zip(X[:, idx], y)))\r\n",
    "            num_left = [0] * self.n_classes_\r\n",
    "            num_right = num_parent.copy()\r\n",
    "            for i in range(1, m):\r\n",
    "                c = classes[i - 1]\r\n",
    "                num_left[c] += 1\r\n",
    "                num_right[c] -= 1\r\n",
    "                gini_left = 1.0 - sum(\r\n",
    "                    (num_left[x] / i) ** 2 for x in range(self.n_classes_)\r\n",
    "                )\r\n",
    "                gini_right = 1.0 - sum(\r\n",
    "                    (num_right[x] / (m - i)) ** 2 for x in range(self.n_classes_)\r\n",
    "                )\r\n",
    "                gini = (i * gini_left + (m - i) * gini_right) / m\r\n",
    "                if thresholds[i] == thresholds[i - 1]:\r\n",
    "                    continue\r\n",
    "                if gini < best_gini:\r\n",
    "                    best_gini = gini\r\n",
    "                    best_idx = idx\r\n",
    "                    best_thr = (thresholds[i] + thresholds[i - 1]) / 2\r\n",
    "        return best_idx, best_thr\r\n",
    "\r\n",
    "    def _grow_tree(self, X, y, depth=0):\r\n",
    "        num_samples_per_class = [np.sum(y == i) for i in range(self.n_classes_)]\r\n",
    "        predicted_class = np.argmax(num_samples_per_class)\r\n",
    "        node = Node(predicted_class=predicted_class)\r\n",
    "        if depth < self.max_depth:\r\n",
    "            idx, thr = self._best_split(X, y)\r\n",
    "            if idx is not None:\r\n",
    "                indices_left = X[:, idx] < thr\r\n",
    "                X_left, y_left = X[indices_left], y[indices_left]\r\n",
    "                X_right, y_right = X[~indices_left], y[~indices_left]\r\n",
    "                node.feature_index = idx\r\n",
    "                node.threshold = thr\r\n",
    "                node.left = self._grow_tree(X_left, y_left, depth + 1)\r\n",
    "                node.right = self._grow_tree(X_right, y_right, depth + 1)\r\n",
    "                print(depth,idx, thr, node.left, node.right)\r\n",
    "        return node\r\n",
    "\r\n",
    "    def _predict(self, inputs):\r\n",
    "        node = self.tree_\r\n",
    "        while node.left:\r\n",
    "            if inputs[node.feature_index] < node.threshold:\r\n",
    "                node = node.left\r\n",
    "            else:\r\n",
    "                node = node.right\r\n",
    "        return node.predicted_class\r\n",
    "\r\n",
    "\r\n",
    "if __name__ == \"__main__\":\r\n",
    "    import sys\r\n",
    "    from sklearn.datasets import load_iris\r\n",
    "\r\n",
    "    dataset = load_iris()\r\n",
    "    X, y = dataset.data, dataset.target\r\n",
    "    clf = DecisionTree(max_depth=10)\r\n",
    "    clf.fit(X, y)\r\n",
    "    print(clf.predict([[0, 0, 5, 1.5]]))"
   ],
   "outputs": [
    {
     "output_type": "stream",
     "name": "stdout",
     "text": [
      "3 0 5.95 <__main__.Node object at 0x000001B5C7595910> <__main__.Node object at 0x000001B5C75953D0>\n",
      "2 2 4.85 <__main__.Node object at 0x000001B5CAE8ED60> <__main__.Node object at 0x000001B5C76A2A60>\n",
      "4 0 6.95 <__main__.Node object at 0x000001B5C77334C0> <__main__.Node object at 0x000001B5C7733790>\n",
      "3 3 1.55 <__main__.Node object at 0x000001B5CAED3AC0> <__main__.Node object at 0x000001B5CA163700>\n",
      "3 3 1.65 <__main__.Node object at 0x000001B5CAED37C0> <__main__.Node object at 0x000001B5CAED3FD0>\n",
      "2 2 4.95 <__main__.Node object at 0x000001B5CAED3EE0> <__main__.Node object at 0x000001B5CA163970>\n",
      "1 3 1.75 <__main__.Node object at 0x000001B5CA163D90> <__main__.Node object at 0x000001B5CAE8ED30>\n",
      "0 2 2.45 <__main__.Node object at 0x000001B5CAEDB610> <__main__.Node object at 0x000001B5CAEE0610>\n",
      "[2]\n"
     ]
    }
   ],
   "metadata": {}
  },
  {
   "cell_type": "code",
   "execution_count": 40,
   "source": [
    "Xtrain = np.array([[2, 5],[3, 5],[10, 5],[19, 5]])\r\n",
    "ytrain = np.array([0, 0, 1, 1])\r\n",
    "Xtest = np.array(([[4, 6],[6, 9],[9, 2],[12, 8]]))\r\n",
    "ytest = np.array([0, 0, 1, 1])\r\n",
    "\r\n",
    "model = DecisionTree(max_depth=3)\r\n",
    "\r\n",
    "model.fit(Xtrain, ytrain)\r\n",
    "pred = [model.predict([x]) for x in Xtest]\r\n",
    "\r\n",
    "\r\n",
    "print(\"Pred: \", np.array(pred))\r\n",
    "print(\"ytest: \", ytest)"
   ],
   "outputs": [
    {
     "output_type": "stream",
     "name": "stdout",
     "text": [
      "0 0 6.5 <__main__.Node object at 0x000001B5CAEA3BB0> <__main__.Node object at 0x000001B5CAEA3130>\n",
      "Pred:  [[0]\n",
      " [0]\n",
      " [1]\n",
      " [1]]\n",
      "ytest:  [0 0 1 1]\n"
     ]
    }
   ],
   "metadata": {}
  },
  {
   "cell_type": "code",
   "execution_count": 38,
   "source": [
    "from sklearn.datasets import load_iris\r\n",
    "from sklearn.model_selection import train_test_split\r\n",
    "\r\n",
    "dataset = load_iris()\r\n",
    "X, y = dataset.data, dataset.target\r\n",
    "print(X.shape)\r\n",
    "X_train, X_test, y_train, y_test = train_test_split(X, y, \r\n",
    "                test_size=0.3, shuffle=True, random_state=42)\r\n",
    "\r\n",
    "clf = DecisionTree(max_depth=3)\r\n",
    "clf.fit(X_train, y_train)\r\n",
    "pred = [clf.predict([x]) for x in X_test]\r\n",
    "print((pred))\r\n",
    "print((y_test))\r\n",
    "\r\n",
    "print(clf.tree_.left)\r\n",
    "print(clf.tree_.right)"
   ],
   "outputs": [
    {
     "output_type": "stream",
     "name": "stdout",
     "text": [
      "(150, 4)\n",
      "2 3 1.6 <__main__.Node object at 0x000001B5CAE8EE80> <__main__.Node object at 0x000001B5CAE8EFA0>\n",
      "2 3 1.75 <__main__.Node object at 0x000001B5C7595C10> <__main__.Node object at 0x000001B5C7595DC0>\n",
      "1 2 4.75 <__main__.Node object at 0x000001B5C76A2B80> <__main__.Node object at 0x000001B5CAEE0610>\n",
      "0 2 2.45 <__main__.Node object at 0x000001B5CAE8ED90> <__main__.Node object at 0x000001B5C75A9310>\n",
      "[[1], [0], [2], [1], [1], [0], [1], [2], [1], [1], [2], [0], [0], [0], [0], [2], [2], [1], [1], [2], [0], [2], [0], [2], [2], [2], [2], [2], [0], [0], [0], [0], [1], [0], [0], [2], [1], [0], [0], [0], [2], [2], [1], [0], [0]]\n",
      "[1 0 2 1 1 0 1 2 1 1 2 0 0 0 0 1 2 1 1 2 0 2 0 2 2 2 2 2 0 0 0 0 1 0 0 2 1\n",
      " 0 0 0 2 1 1 0 0]\n",
      "<__main__.Node object at 0x000001B5CAE8ED90>\n",
      "<__main__.Node object at 0x000001B5C75A9310>\n"
     ]
    }
   ],
   "metadata": {}
  }
 ],
 "metadata": {
  "kernelspec": {
   "name": "python3",
   "display_name": "Python 3.8.10 64-bit ('base': conda)"
  },
  "language_info": {
   "codemirror_mode": {
    "name": "ipython",
    "version": 3
   },
   "file_extension": ".py",
   "mimetype": "text/x-python",
   "name": "python",
   "nbconvert_exporter": "python",
   "pygments_lexer": "ipython3",
   "version": "3.8.10"
  },
  "interpreter": {
   "hash": "54d292b6f3ca4ff13f504c55e6e4b729c6c0a14070d37d9d8c8aca786423add6"
  }
 },
 "nbformat": 4,
 "nbformat_minor": 4
}