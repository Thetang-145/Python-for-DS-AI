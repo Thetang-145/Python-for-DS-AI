{
 "cells": [
  {
   "cell_type": "markdown",
   "source": [
    "Modify the KNN scratch code in our lecture such that:\n",
    "- If the majority class of the first place is equal to the second place, then ask the algorithm to pick the next nearest neighbors as the decider\n",
    "- Modify the code so it outputs the probability of the decision, where the probability is simply the class probability based on all the nearest neighbors\n",
    "- Write a function which allows the program to receive a range of k, and output the cross validation score.  Last, it shall inform us which k is the best to use from a predefined range\n",
    "- Put everything into a class <code>KNN(k=3)</code>.  It should have at least one method, <code>predict(X_train, X_test, y_train)</code>"
   ],
   "metadata": {}
  },
  {
   "cell_type": "code",
   "execution_count": 2,
   "source": [
    "import matplotlib.pyplot as plt\r\n",
    "import numpy as np\r\n",
    "\r\n",
    "from sklearn.datasets import make_blobs\r\n",
    "from sklearn.model_selection import train_test_split\r\n",
    "from sklearn.preprocessing import StandardScaler\r\n",
    "\r\n",
    "X, y = make_blobs(n_samples=300, centers=4, random_state=0, cluster_std=1.0)\r\n",
    "\r\n",
    "#standardize\r\n",
    "scaler = StandardScaler()\r\n",
    "X = scaler.fit_transform(X)\r\n",
    "\r\n",
    "#do train test split\r\n",
    "X_train, X_test, y_train, y_test = train_test_split(X, y, test_size=0.3)"
   ],
   "outputs": [],
   "metadata": {}
  },
  {
   "cell_type": "code",
   "execution_count": 3,
   "source": [
    "def find_distance(X_train, X_test):\r\n",
    "    #create newaxis simply so that broadcast to all values\r\n",
    "    dist = X_test[:, np.newaxis, :] - X_train[np.newaxis, :, :]\r\n",
    "    sq_dist = dist ** 2\r\n",
    "    \r\n",
    "    #sum across feature dimension, thus axis = 2\r\n",
    "    summed_dist = sq_dist.sum(axis=2)\r\n",
    "    sq_dist = np.sqrt(summed_dist)\r\n",
    "    return sq_dist\r\n",
    "\r\n",
    "def find_neighbors(X_train, X_test, k=3):\r\n",
    "    dist = find_distance(X_train, X_test)\r\n",
    "    #return the first k neighbors\r\n",
    "    neighbors_ix = np.argsort(dist)[:, 0:k]\r\n",
    "    return neighbors_ix\r\n",
    "\r\n",
    "def get_most_common(y):\r\n",
    "    return np.bincount(y).argmax()"
   ],
   "outputs": [],
   "metadata": {}
  },
  {
   "cell_type": "code",
   "execution_count": 4,
   "source": [
    "def predict(X_train, X_test, y_train, k=3):\r\n",
    "    classes = len(np.unique(y_train))\r\n",
    "    neighbors_ix = find_neighbors(X_train, X_test, k)\r\n",
    "\r\n",
    "    pred = np.zeros(X_test.shape[0])\r\n",
    "    prop = np.zeros((X_test.shape[0],classes))\r\n",
    "    for ix, y in enumerate(y_train[neighbors_ix]):\r\n",
    "        freq = np.bincount(y)\r\n",
    "        while len(freq) < classes:\r\n",
    "            freq = np.append(freq, 0)\r\n",
    "        k_inc = k\r\n",
    "        while np.sort(freq)[-1] == np.sort(freq)[-2]:\r\n",
    "            k_inc += 1\r\n",
    "            neighbors_ix_new = find_neighbors(X_train, X_test[ix].reshape(1,-1), k_inc).reshape(-1)\r\n",
    "            freq = np.bincount(y_train[neighbors_ix_new])\r\n",
    "            while len(freq) < classes:\r\n",
    "                freq = np.append(freq, 0)\r\n",
    "        prop[ix] = freq/np.sum(freq)\r\n",
    "        pred[ix] = get_most_common(y)\r\n",
    "    return pred, prop"
   ],
   "outputs": [],
   "metadata": {}
  },
  {
   "cell_type": "code",
   "execution_count": 5,
   "source": [
    "yhat, yhat_prob = predict(X_train, X_test, y_train, k=5)"
   ],
   "outputs": [],
   "metadata": {}
  },
  {
   "cell_type": "code",
   "execution_count": 6,
   "source": [
    "print(\"Accuracy: \", np.sum(yhat == y_test)/len(y_test))"
   ],
   "outputs": [
    {
     "output_type": "stream",
     "name": "stdout",
     "text": [
      "Accuracy:  0.9333333333333333\n"
     ]
    }
   ],
   "metadata": {}
  },
  {
   "cell_type": "code",
   "execution_count": 7,
   "source": [
    "print(\"Class\", \"\\t\", \"Probability\")\r\n",
    "for idx, prop in enumerate(yhat_prob[1]):\r\n",
    "    print(idx, \"\\t\", prop)"
   ],
   "outputs": [
    {
     "output_type": "stream",
     "name": "stdout",
     "text": [
      "Class \t Probability\n",
      "0 \t 0.0\n",
      "1 \t 1.0\n",
      "2 \t 0.0\n",
      "3 \t 0.0\n"
     ]
    }
   ],
   "metadata": {}
  },
  {
   "cell_type": "code",
   "execution_count": 58,
   "source": [
    "def CV_K(X_train_val, y_train_val, K_max=3, cv=3):\r\n",
    "    # Split train data and validation data\r\n",
    "    m, n = X_train_val.shape\r\n",
    "    idx = list(range(m))\r\n",
    "    idx_List = []\r\n",
    "    for i in range(cv):\r\n",
    "        idx_List.append(idx[i*int(m/cv):(i+1)*int(m/cv)])\r\n",
    "    # Predict and find accuracy\r\n",
    "    acc = []\r\n",
    "    K = []\r\n",
    "    for i in range(1, K_max+1):\r\n",
    "        acc_sum = 0\r\n",
    "        for idx in idx_List:\r\n",
    "            X_val = X_train_val[idx]\r\n",
    "            y_val = y_train_val[idx]\r\n",
    "            X_train = np.delete(X_train_val,idx, axis=0)\r\n",
    "            y_train = np.delete(y_train_val,idx, axis=0)\r\n",
    "            yhat, yhat_prob = predict(X_train, X_val, y_train, k=i)\r\n",
    "            acc_sum += np.sum(yhat == y_val)/len(y_val)\r\n",
    "        acc.append(acc_sum/cv)\r\n",
    "        K.append(i)\r\n",
    "    return acc, K"
   ],
   "outputs": [],
   "metadata": {}
  },
  {
   "cell_type": "code",
   "execution_count": 64,
   "source": [
    "acc, K = CV_K(X_train, y_train, K_max=30, cv=5)\r\n",
    "idx = np.argmax(acc)\r\n",
    "print(\"Best K:\", K[idx], \"Accuracy:\",acc[idx])\r\n",
    "plt.plot(K, acc)\r\n",
    "plt.xlabel(\"K\")\r\n",
    "plt.ylabel(\"Accuracy\")\r\n",
    "plt.show"
   ],
   "outputs": [
    {
     "output_type": "stream",
     "name": "stdout",
     "text": [
      "Best K: 20 Accuracy: 0.9471153846153846\n"
     ]
    },
    {
     "output_type": "execute_result",
     "data": {
      "text/plain": [
       "<function matplotlib.pyplot.show(close=None, block=None)>"
      ]
     },
     "metadata": {},
     "execution_count": 64
    },
    {
     "output_type": "display_data",
     "data": {
      "image/png": "[encoded data removed]",
      "text/plain": [
       "<Figure size 432x288 with 1 Axes>"
      ]
     },
     "metadata": {
      "needs_background": "light"
     }
    }
   ],
   "metadata": {}
  },
  {
   "cell_type": "code",
   "execution_count": null,
   "source": [
    "class KNN:\r\n",
    "    "
   ],
   "outputs": [],
   "metadata": {}
  },
  {
   "cell_type": "code",
   "execution_count": null,
   "source": [],
   "outputs": [],
   "metadata": {}
  }
 ],
 "metadata": {
  "orig_nbformat": 4,
  "language_info": {
   "name": "python",
   "version": "3.8.10",
   "mimetype": "text/x-python",
   "codemirror_mode": {
    "name": "ipython",
    "version": 3
   },
   "pygments_lexer": "ipython3",
   "nbconvert_exporter": "python",
   "file_extension": ".py"
  },
  "kernelspec": {
   "name": "python3",
   "display_name": "Python 3.8.10 64-bit ('base': conda)"
  },
  "interpreter": {
   "hash": "54d292b6f3ca4ff13f504c55e6e4b729c6c0a14070d37d9d8c8aca786423add6"
  }
 },
 "nbformat": 4,
 "nbformat_minor": 2
}