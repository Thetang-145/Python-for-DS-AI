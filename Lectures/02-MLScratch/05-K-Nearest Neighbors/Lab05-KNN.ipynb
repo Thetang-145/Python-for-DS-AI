{
 "cells": [
  {
   "cell_type": "markdown",
   "source": [
    "Modify the KNN scratch code in our lecture such that:\n",
    "- If the majority class of the first place is equal to the second place, then ask the algorithm to pick the next nearest neighbors as the decider\n",
    "- Modify the code so it outputs the probability of the decision, where the probability is simply the class probability based on all the nearest neighbors\n",
    "- Write a function which allows the program to receive a range of k, and output the cross validation score.  Last, it shall inform us which k is the best to use from a predefined range\n",
    "- Put everything into a class <code>KNN(k=3)</code>.  It should have at least one method, <code>predict(X_train, X_test, y_train)</code>"
   ],
   "metadata": {}
  },
  {
   "cell_type": "code",
   "execution_count": 1,
   "source": [
    "import matplotlib.pyplot as plt\r\n",
    "import numpy as np\r\n",
    "\r\n",
    "from sklearn.datasets import make_blobs\r\n",
    "from sklearn.model_selection import train_test_split\r\n",
    "from sklearn.preprocessing import StandardScaler\r\n",
    "\r\n",
    "X, y = make_blobs(n_samples=300, centers=4, random_state=0, cluster_std=1.0)\r\n",
    "\r\n",
    "#standardize\r\n",
    "scaler = StandardScaler()\r\n",
    "X = scaler.fit_transform(X)\r\n",
    "\r\n",
    "#do train test split\r\n",
    "X_train, X_test, y_train, y_test = train_test_split(X, y, test_size=0.3)"
   ],
   "outputs": [],
   "metadata": {}
  },
  {
   "cell_type": "code",
   "execution_count": 18,
   "source": [
    "def find_distance(X_train, X_test):\r\n",
    "    #create newaxis simply so that broadcast to all values\r\n",
    "    dist = X_test[:, np.newaxis, :] - X_train[np.newaxis, :, :]\r\n",
    "    sq_dist = dist ** 2\r\n",
    "    \r\n",
    "    #sum across feature dimension, thus axis = 2\r\n",
    "    summed_dist = sq_dist.sum(axis=2)\r\n",
    "    sq_dist = np.sqrt(summed_dist)\r\n",
    "    return sq_dist\r\n",
    "\r\n",
    "def find_neighbors(X_train, X_test, k=3):\r\n",
    "    dist = find_distance(X_train, X_test)\r\n",
    "    #return the first k neighbors\r\n",
    "    neighbors_ix = np.argsort(dist)[:, 0:k]\r\n",
    "    return neighbors_ix\r\n",
    "\r\n",
    "def get_most_common(y):\r\n",
    "    return np.bincount(y).argmax()"
   ],
   "outputs": [],
   "metadata": {}
  },
  {
   "cell_type": "code",
   "execution_count": 133,
   "source": [
    "def predict(X_train, X_test, y_train, k=3):\r\n",
    "    classes = len(np.unique(y_train))\r\n",
    "    neighbors_ix = find_neighbors(X_train, X_test, k)\r\n",
    "\r\n",
    "    pred = np.zeros(X_test.shape[0])\r\n",
    "    prop = np.zeros((X_test.shape[0],classes))\r\n",
    "    for ix, y in enumerate(y_train[neighbors_ix]):\r\n",
    "        freq = np.bincount(y)\r\n",
    "        while len(freq) < classes:\r\n",
    "            freq = np.append(freq, 0)\r\n",
    "        k_inc = k\r\n",
    "        while np.sort(freq)[-1] == np.sort(freq)[-2]:\r\n",
    "            k_inc += 1\r\n",
    "            neighbors_ix_new = find_neighbors(X_train, X_test[ix].reshape(1,-1), k_inc).reshape(-1)\r\n",
    "            freq = np.bincount(y_train[neighbors_ix_new])\r\n",
    "            while len(freq) < classes:\r\n",
    "                freq = np.append(freq, 0)\r\n",
    "        prop[ix] = freq/np.sum(freq)\r\n",
    "        pred[ix] = get_most_common(y)\r\n",
    "    return pred, prop"
   ],
   "outputs": [],
   "metadata": {}
  },
  {
   "cell_type": "code",
   "execution_count": 135,
   "source": [
    "yhat, yhat_prop = predict(X_train, X_test, y_train, k=5)"
   ],
   "outputs": [],
   "metadata": {}
  },
  {
   "cell_type": "code",
   "execution_count": 57,
   "source": [
    "def CV_K(X_train, y_train, K_max):\r\n",
    "    predict(X_train, X_test, y_train, k=3)"
   ],
   "outputs": [
    {
     "output_type": "stream",
     "name": "stdout",
     "text": [
      "[1 2 3 4]\n"
     ]
    }
   ],
   "metadata": {}
  },
  {
   "cell_type": "code",
   "execution_count": null,
   "source": [],
   "outputs": [],
   "metadata": {}
  }
 ],
 "metadata": {
  "orig_nbformat": 4,
  "language_info": {
   "name": "python",
   "version": "3.8.10",
   "mimetype": "text/x-python",
   "codemirror_mode": {
    "name": "ipython",
    "version": 3
   },
   "pygments_lexer": "ipython3",
   "nbconvert_exporter": "python",
   "file_extension": ".py"
  },
  "kernelspec": {
   "name": "python3",
   "display_name": "Python 3.8.10 64-bit"
  },
  "interpreter": {
   "hash": "54d292b6f3ca4ff13f504c55e6e4b729c6c0a14070d37d9d8c8aca786423add6"
  }
 },
 "nbformat": 4,
 "nbformat_minor": 2
}