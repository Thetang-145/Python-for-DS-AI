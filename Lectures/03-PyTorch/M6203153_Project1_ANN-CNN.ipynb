{
 "cells": [
  {
   "cell_type": "code",
   "execution_count": 22,
   "id": "fd38ec76",
   "metadata": {},
   "outputs": [],
   "source": [
    "import numpy as np\n",
    "import matplotlib.pyplot as plt\n",
    "import torch\n",
    "import torchvision\n",
    "from torchvision import datasets, transforms\n",
    "import time\n",
    "import torch.nn as nn\n",
    "import torch.optim as optim\n",
    "from PIL import Image\n",
    "import torch.nn.functional as F"
   ]
  },
  {
   "cell_type": "code",
   "execution_count": 23,
   "id": "0ae65d04",
   "metadata": {},
   "outputs": [
    {
     "name": "stdout",
     "output_type": "stream",
     "text": [
      "Compose(\n",
      "    Resize(size=28, interpolation=bilinear, max_size=None, antialias=None)\n",
      "    CenterCrop(size=(28, 28))\n",
      "    ToTensor()\n",
      "    Normalize(mean=[0.5, 0.5, 0.5], std=[0.5, 0.5, 0.5])\n",
      ")\n"
     ]
    }
   ],
   "source": [
    "transform = transforms.Compose([\n",
    "    transforms.Resize(28),\n",
    "    transforms.CenterCrop(28),\n",
    "    transforms.ToTensor(),\n",
    "    #transforms.RandomHorizontalFlip(),\n",
    "    transforms.Normalize([0.5,0.5,0.5],[0.5,0.5,0.5])\n",
    "])\n",
    "print(transform)\n",
    "\n",
    "train_datasets_path = 'images\\train'\n",
    "test_datasets_path = 'images\\test'"
   ]
  },
  {
   "cell_type": "code",
   "execution_count": 24,
   "id": "93d3ae37",
   "metadata": {},
   "outputs": [
    {
     "name": "stdout",
     "output_type": "stream",
     "text": [
      "Dataset ImageFolder\n",
      "    Number of datapoints: 75\n",
      "    Root location: images\\train\n",
      "    StandardTransform\n",
      "Transform: Compose(\n",
      "               Resize(size=28, interpolation=bilinear, max_size=None, antialias=None)\n",
      "               CenterCrop(size=(28, 28))\n",
      "               ToTensor()\n",
      "               Normalize(mean=[0.5, 0.5, 0.5], std=[0.5, 0.5, 0.5])\n",
      "           )\n",
      "Dataset ImageFolder\n",
      "    Number of datapoints: 20\n",
      "    Root location: images\\test\n",
      "    StandardTransform\n",
      "Transform: Compose(\n",
      "               Resize(size=28, interpolation=bilinear, max_size=None, antialias=None)\n",
      "               CenterCrop(size=(28, 28))\n",
      "               ToTensor()\n",
      "               Normalize(mean=[0.5, 0.5, 0.5], std=[0.5, 0.5, 0.5])\n",
      "           )\n"
     ]
    }
   ],
   "source": [
    "train_dataset = datasets.ImageFolder(r'images\\train',transform=transform)\n",
    "print(train_dataset)\n",
    "test_dataset = datasets.ImageFolder(r'images\\test',transform=transform)\n",
    "print(test_dataset)"
   ]
  },
  {
   "cell_type": "code",
   "execution_count": 25,
   "id": "8369d923",
   "metadata": {},
   "outputs": [],
   "source": [
    "trainloader = torch.utils.data.DataLoader(train_dataset, batch_size=120, shuffle=True)\n",
    "testloader = torch.utils.data.DataLoader(test_dataset, batch_size=60, shuffle=True)"
   ]
  },
  {
   "cell_type": "code",
   "execution_count": 26,
   "id": "9689950e",
   "metadata": {},
   "outputs": [
    {
     "name": "stdout",
     "output_type": "stream",
     "text": [
      "torch.Size([75, 3, 28, 28])\n",
      "torch.Size([75])\n"
     ]
    }
   ],
   "source": [
    "dataiter = iter(trainloader)\n",
    "images, labels = dataiter.next()\n",
    "print(images.shape)\n",
    "print(labels.shape)"
   ]
  },
  {
   "cell_type": "code",
   "execution_count": 27,
   "id": "b1674a8f",
   "metadata": {},
   "outputs": [
    {
     "data": {
      "image/png": "[encoded data removed]",
      "text/plain": [
       "<Figure size 432x288 with 1 Axes>"
      ]
     },
     "metadata": {
      "needs_background": "light"
     },
     "output_type": "display_data"
    },
    {
     "name": "stdout",
     "output_type": "stream",
     "text": [
      "Answer:  0\n"
     ]
    }
   ],
   "source": [
    "plt.imshow(images[60][0].numpy().squeeze(), cmap='gray_r')\n",
    "plt.show()\n",
    "print('Answer: ',labels[60].numpy())"
   ]
  },
  {
   "cell_type": "code",
   "execution_count": 28,
   "id": "0c2babd0",
   "metadata": {},
   "outputs": [],
   "source": [
    "class Net(nn.Module): #แก้ตรงนี้เป็นต้นไป\n",
    "    def __init__(self):\n",
    "        super(Net, self).__init__()\n",
    "        self.conv1 = nn.Conv2d(3,6,5,1)\n",
    "        self.pool = nn.MaxPool2d(2,2)\n",
    "        self.conv2 = nn.Conv2d(6,16,5,1)\n",
    "        self.pool = nn.MaxPool2d(2,2)\n",
    "        self.fc1 = nn.Linear(16*4*4,120)\n",
    "        self.fc2 = nn.Linear(120,84)\n",
    "        self.fc3 = nn.Linear(84,10)\n",
    "        \n",
    "    def forward(self, x):\n",
    "        x=self.pool(F.relu(self.conv1(x)))\n",
    "        x=self.pool(F.relu(self.conv2(x)))\n",
    "        x=x.view(-1,16*4*4)\n",
    "        x=F.relu(self.fc1(x))\n",
    "        x=F.relu(self.fc2(x))\n",
    "        x=self.fc3(x)\n",
    "        \n",
    "        return x\n",
    "net = Net()"
   ]
  },
  {
   "cell_type": "code",
   "execution_count": 29,
   "id": "00ab3d0a",
   "metadata": {},
   "outputs": [
    {
     "name": "stdout",
     "output_type": "stream",
     "text": [
      "cpu\n",
      "Net(\n",
      "  (conv1): Conv2d(3, 6, kernel_size=(5, 5), stride=(1, 1))\n",
      "  (pool): MaxPool2d(kernel_size=2, stride=2, padding=0, dilation=1, ceil_mode=False)\n",
      "  (conv2): Conv2d(6, 16, kernel_size=(5, 5), stride=(1, 1))\n",
      "  (fc1): Linear(in_features=256, out_features=120, bias=True)\n",
      "  (fc2): Linear(in_features=120, out_features=84, bias=True)\n",
      "  (fc3): Linear(in_features=84, out_features=10, bias=True)\n",
      ")\n"
     ]
    }
   ],
   "source": [
    "device = torch.device('cpu')\n",
    "print(device)\n",
    "net = Net().to(device)\n",
    "print(net)"
   ]
  },
  {
   "cell_type": "code",
   "execution_count": 30,
   "id": "86ea266a",
   "metadata": {},
   "outputs": [],
   "source": [
    "criterion=nn.CrossEntropyLoss()\n",
    "optimizer=optim.SGD(net.parameters(),lr=0.001,momentum=0.9)"
   ]
  },
  {
   "cell_type": "code",
   "execution_count": 31,
   "id": "063015a5",
   "metadata": {},
   "outputs": [],
   "source": [
    "def train(net):\n",
    "    start = time.time()\n",
    "    for epoch in range(100):\n",
    "        running_loss=0.0\n",
    "        for i, data in enumerate(trainloader,0):\n",
    "            inputs, labels= data[0].to(device,non_blocking=True),data[1].to(device,non_blocking=True)\n",
    "            \n",
    "            optimizer.zero_grad()\n",
    "            outputs = net(inputs)\n",
    "            loss=criterion(outputs,labels)\n",
    "            loss.backward()\n",
    "            optimizer.step()\n",
    "            running_loss += loss.item()\n",
    "            print('Epoch {} - Training loss: {}'.format(epoch,running_loss/len(trainloader)))\n",
    "    end = time.time()\n",
    "    print('%0.2f minutes'%((end-start)/60))"
   ]
  },
  {
   "cell_type": "code",
   "execution_count": 32,
   "id": "64f3dd9f",
   "metadata": {},
   "outputs": [
    {
     "name": "stdout",
     "output_type": "stream",
     "text": [
      "Epoch 0 - Training loss: 2.3188536167144775\n",
      "Epoch 1 - Training loss: 2.3184752464294434\n",
      "Epoch 2 - Training loss: 2.317756175994873\n",
      "Epoch 3 - Training loss: 2.3167331218719482\n",
      "Epoch 4 - Training loss: 2.3154380321502686\n",
      "Epoch 5 - Training loss: 2.3138999938964844\n",
      "Epoch 6 - Training loss: 2.312148332595825\n",
      "Epoch 7 - Training loss: 2.3102049827575684\n",
      "Epoch 8 - Training loss: 2.308091163635254\n",
      "Epoch 9 - Training loss: 2.3058340549468994\n",
      "Epoch 10 - Training loss: 2.3034605979919434\n",
      "Epoch 11 - Training loss: 2.300976514816284\n",
      "Epoch 12 - Training loss: 2.2983932495117188\n",
      "Epoch 13 - Training loss: 2.2957231998443604\n",
      "Epoch 14 - Training loss: 2.2929937839508057\n",
      "Epoch 15 - Training loss: 2.290224552154541\n",
      "Epoch 16 - Training loss: 2.2874205112457275\n",
      "Epoch 17 - Training loss: 2.284571647644043\n",
      "Epoch 18 - Training loss: 2.2816810607910156\n",
      "Epoch 19 - Training loss: 2.278756618499756\n",
      "Epoch 20 - Training loss: 2.275803327560425\n",
      "Epoch 21 - Training loss: 2.272824287414551\n",
      "Epoch 22 - Training loss: 2.269824266433716\n",
      "Epoch 23 - Training loss: 2.266805410385132\n",
      "Epoch 24 - Training loss: 2.263770341873169\n",
      "Epoch 25 - Training loss: 2.2607197761535645\n",
      "Epoch 26 - Training loss: 2.257657051086426\n",
      "Epoch 27 - Training loss: 2.2545828819274902\n",
      "Epoch 28 - Training loss: 2.2515015602111816\n",
      "Epoch 29 - Training loss: 2.248422145843506\n",
      "Epoch 30 - Training loss: 2.245344877243042\n",
      "Epoch 31 - Training loss: 2.2422640323638916\n",
      "Epoch 32 - Training loss: 2.2391793727874756\n",
      "Epoch 33 - Training loss: 2.236093044281006\n",
      "Epoch 34 - Training loss: 2.2330069541931152\n",
      "Epoch 35 - Training loss: 2.2299201488494873\n",
      "Epoch 36 - Training loss: 2.2268319129943848\n",
      "Epoch 37 - Training loss: 2.2237417697906494\n",
      "Epoch 38 - Training loss: 2.2206504344940186\n",
      "Epoch 39 - Training loss: 2.2175581455230713\n",
      "Epoch 40 - Training loss: 2.2144646644592285\n",
      "Epoch 41 - Training loss: 2.211369276046753\n",
      "Epoch 42 - Training loss: 2.208273410797119\n",
      "Epoch 43 - Training loss: 2.20518159866333\n",
      "Epoch 44 - Training loss: 2.2021055221557617\n",
      "Epoch 45 - Training loss: 2.1990370750427246\n",
      "Epoch 46 - Training loss: 2.1959733963012695\n",
      "Epoch 47 - Training loss: 2.1929118633270264\n",
      "Epoch 48 - Training loss: 2.1898491382598877\n",
      "Epoch 49 - Training loss: 2.186784505844116\n",
      "Epoch 50 - Training loss: 2.1837174892425537\n",
      "Epoch 51 - Training loss: 2.1806466579437256\n",
      "Epoch 52 - Training loss: 2.177570343017578\n",
      "Epoch 53 - Training loss: 2.1744890213012695\n",
      "Epoch 54 - Training loss: 2.1714179515838623\n",
      "Epoch 55 - Training loss: 2.1683616638183594\n",
      "Epoch 56 - Training loss: 2.1653048992156982\n",
      "Epoch 57 - Training loss: 2.162245988845825\n",
      "Epoch 58 - Training loss: 2.159181594848633\n",
      "Epoch 59 - Training loss: 2.1561124324798584\n",
      "Epoch 60 - Training loss: 2.1530373096466064\n",
      "Epoch 61 - Training loss: 2.149956464767456\n",
      "Epoch 62 - Training loss: 2.1468706130981445\n",
      "Epoch 63 - Training loss: 2.1437814235687256\n",
      "Epoch 64 - Training loss: 2.1406867504119873\n",
      "Epoch 65 - Training loss: 2.1375837326049805\n",
      "Epoch 66 - Training loss: 2.1344637870788574\n",
      "Epoch 67 - Training loss: 2.1313247680664062\n",
      "Epoch 68 - Training loss: 2.1281614303588867\n",
      "Epoch 69 - Training loss: 2.1249780654907227\n",
      "Epoch 70 - Training loss: 2.121776580810547\n",
      "Epoch 71 - Training loss: 2.1185810565948486\n",
      "Epoch 72 - Training loss: 2.115403175354004\n",
      "Epoch 73 - Training loss: 2.1122007369995117\n",
      "Epoch 74 - Training loss: 2.10897159576416\n",
      "Epoch 75 - Training loss: 2.1057114601135254\n",
      "Epoch 76 - Training loss: 2.1024177074432373\n",
      "Epoch 77 - Training loss: 2.0990891456604004\n",
      "Epoch 78 - Training loss: 2.0957257747650146\n",
      "Epoch 79 - Training loss: 2.0923686027526855\n",
      "Epoch 80 - Training loss: 2.0889899730682373\n",
      "Epoch 81 - Training loss: 2.085571527481079\n",
      "Epoch 82 - Training loss: 2.0821235179901123\n",
      "Epoch 83 - Training loss: 2.0786638259887695\n",
      "Epoch 84 - Training loss: 2.0751798152923584\n",
      "Epoch 85 - Training loss: 2.0716392993927\n",
      "Epoch 86 - Training loss: 2.0680389404296875\n",
      "Epoch 87 - Training loss: 2.064378499984741\n",
      "Epoch 88 - Training loss: 2.0606601238250732\n",
      "Epoch 89 - Training loss: 2.056872844696045\n",
      "Epoch 90 - Training loss: 2.0530152320861816\n",
      "Epoch 91 - Training loss: 2.0490849018096924\n",
      "Epoch 92 - Training loss: 2.045074462890625\n",
      "Epoch 93 - Training loss: 2.04097318649292\n",
      "Epoch 94 - Training loss: 2.036764621734619\n",
      "Epoch 95 - Training loss: 2.032440423965454\n",
      "Epoch 96 - Training loss: 2.027977228164673\n",
      "Epoch 97 - Training loss: 2.023371934890747\n",
      "Epoch 98 - Training loss: 2.0186245441436768\n",
      "Epoch 99 - Training loss: 2.01371693611145\n",
      "0.35 minutes\n"
     ]
    }
   ],
   "source": [
    "train(net)"
   ]
  },
  {
   "cell_type": "code",
   "execution_count": 33,
   "id": "b06c86c2",
   "metadata": {},
   "outputs": [
    {
     "name": "stdout",
     "output_type": "stream",
     "text": [
      "torch.Size([20, 3, 28, 28])\n",
      "torch.Size([20])\n"
     ]
    }
   ],
   "source": [
    "dataiter = iter(testloader)\n",
    "images_test, labels_test = dataiter.next()\n",
    "print(images_test.shape)\n",
    "print(labels_test.shape)"
   ]
  },
  {
   "cell_type": "code",
   "execution_count": 37,
   "id": "c53d5c99",
   "metadata": {},
   "outputs": [
    {
     "name": "stdout",
     "output_type": "stream",
     "text": [
      "torch.Size([20, 3, 28, 28]) tensor([0, 0, 0, 0, 0, 0, 0, 0, 0, 0, 0, 0, 0, 0, 0, 0, 0, 0, 0, 0])\n"
     ]
    },
    {
     "data": {
      "image/png": "[encoded data removed]",
      "text/plain": [
       "<Figure size 432x288 with 1 Axes>"
      ]
     },
     "metadata": {
      "needs_background": "light"
     },
     "output_type": "display_data"
    },
    {
     "name": "stdout",
     "output_type": "stream",
     "text": [
      "Answer:  1\n",
      "Accuracy of the network on test images: 9 %\n"
     ]
    }
   ],
   "source": [
    "outputs = net(images_test)\n",
    "_, predicted = torch.max(outputs, 1)\n",
    "correct_test = 0\n",
    "total_test = 0\n",
    "with torch.no_grad():\n",
    "    for data in testloader:\n",
    "        images_test, labels_test = data\n",
    "        outputs = net(images_test)\n",
    "        _, predicted = torch.max(outputs.data, 1)\n",
    "        total_test += labels.size(0)\n",
    "        print(images_test.shape, predicted)\n",
    "        correct_test += (predicted == labels_test).sum().item()\n",
    "        \n",
    "plt.imshow(images_test[10][0].numpy().squeeze(), cmap='gray_r')\n",
    "plt.show()\n",
    "print('Answer: ',labels_test[10].numpy())\n",
    "\n",
    "print('Accuracy of the network on test images: %d %%' % (\n",
    "    100 * correct_test / total_test))"
   ]
  },
  {
   "cell_type": "code",
   "execution_count": null,
   "id": "851cc4e3",
   "metadata": {},
   "outputs": [],
   "source": []
  },
  {
   "cell_type": "code",
   "execution_count": null,
   "id": "70937b47",
   "metadata": {},
   "outputs": [],
   "source": []
  },
  {
   "cell_type": "code",
   "execution_count": null,
   "id": "4dfaeedf",
   "metadata": {},
   "outputs": [],
   "source": []
  }
 ],
 "metadata": {
  "interpreter": {
   "hash": "54d292b6f3ca4ff13f504c55e6e4b729c6c0a14070d37d9d8c8aca786423add6"
  },
  "kernelspec": {
   "display_name": "Python 3.8.10 64-bit ('base': conda)",
   "name": "python3"
  },
  "language_info": {
   "codemirror_mode": {
    "name": "ipython",
    "version": 3
   },
   "file_extension": ".py",
   "mimetype": "text/x-python",
   "name": "python",
   "nbconvert_exporter": "python",
   "pygments_lexer": "ipython3",
   "version": "3.8.10"
  }
 },
 "nbformat": 4,
 "nbformat_minor": 5
}
